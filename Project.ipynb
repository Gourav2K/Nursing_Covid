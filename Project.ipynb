{
 "cells": [
  {
   "cell_type": "markdown",
   "metadata": {},
   "source": [
    "# PROJECT DESCRIPTION"
   ]
  },
  {
   "cell_type": "markdown",
   "metadata": {},
   "source": [
    "During the Coronavirus disease 2019-20 (COVID-19) outbreak in the United States, nursing homes became the hotbed for the spread of COVID-19. States developed different policies to mitigate the COVID-19 risks at nursing homes, including limiting nursing home visitation and mandating staff screening. The purpose of this study is to examine whether COVID-19 cases and deaths are related to the nursing home reported quality.We will determine U.S. nursing home characteristics that allow the prediction of COVID-19 cases and deaths including the development of a predictive model.\n",
    "\n",
    "We have extracted the data from external data sets which were officially available online. \n",
    "\n",
    "The main independent variable is nursing home reported quality.\n",
    "The independent variables include:\n",
    "1. NURSING HOME REPORTED QUALITY\n",
    "2. NURSING HOME OWNERSHIP\n",
    "3. SIZE\n",
    "4. YEARS OF OPERATION\n",
    "5. PATIENT RACE AND COMPOSITION\n",
    " \n",
    "The dependent variables for this project are:-\n",
    "1. INFECTED NURSING HOMES: If a nursing home has at least one case of COVID-19 among staff and residents.\n",
    "2. CONFIRMED RESIDENTS: Number of infections among residents.\n",
    "3. CONFIRMED STAFF: Number of infections among the staff.\n",
    "4. LARGE OUTBREAK: Among Nursing Homes with at least one Infection, show the number of infections among staff or residents greater than 95% percentile."
   ]
  },
  {
   "cell_type": "markdown",
   "metadata": {},
   "source": [
    "# IMPORTING THE NECESSARY MODULES"
   ]
  },
  {
   "cell_type": "code",
   "execution_count": 5,
   "metadata": {},
   "outputs": [],
   "source": [
    "import pandas as pd\n",
    "import numpy as np\n",
    "import seaborn as sns\n",
    "import matplotlib.pyplot as plt\n",
    "from scipy import stats"
   ]
  },
  {
   "cell_type": "markdown",
   "metadata": {},
   "source": [
    "# IMPORTING ALL THE NECESSARY DATAFRAMES"
   ]
  },
  {
   "cell_type": "code",
   "execution_count": 6,
   "metadata": {},
   "outputs": [],
   "source": [
    "nh=pd.read_csv(\"NH_INFO.csv\")"
   ]
  },
  {
   "cell_type": "code",
   "execution_count": 7,
   "metadata": {},
   "outputs": [
    {
     "data": {
      "text/plain": [
       "Index(['Federal Provider Number', 'Provider Zip Code', 'Ownership Type',\n",
       "       'Date First Approved to Provide Medicare and Medicaid services',\n",
       "       'Overall Rating', 'Reported RN Staffing Hours per Resident per Day',\n",
       "       'Reported Total Nurse Staffing Hours per Resident per Day',\n",
       "       'Total Amount of Fines in Dollars', 'Facility age', 'Government',\n",
       "       'Non profit', 'For profit', 'Young (<33% Percentile)',\n",
       "       'Medium (33%-66% Percentile)', 'Old (>66% Percentile)',\n",
       "       '4- or 5-Star Overall Rating', '3-Star Overall Rating',\n",
       "       '1- or 2-Star Overall Rating',\n",
       "       '0.75 RN staffing hours per resident day or higher',\n",
       "       'Under 0.75 RN staffing hours per resident day ',\n",
       "       '4.1 nurse staffing hours per resident day or higher',\n",
       "       'Under 4.1 nurse staffing hours per resident day', 'No fine',\n",
       "       'Small fine (1-<Median)', 'Large fine (>=Median)',\n",
       "       'No federal deficiencies', 'Federal deficiencies',\n",
       "       'Serious federal deficiencies'],\n",
       "      dtype='object')"
      ]
     },
     "execution_count": 7,
     "metadata": {},
     "output_type": "execute_result"
    }
   ],
   "source": [
    "nh.columns"
   ]
  },
  {
   "cell_type": "code",
   "execution_count": 8,
   "metadata": {},
   "outputs": [],
   "source": [
    "cases=pd.read_csv(\"NH_COVID19_CASES.csv\")"
   ]
  },
  {
   "cell_type": "code",
   "execution_count": 9,
   "metadata": {},
   "outputs": [
    {
     "data": {
      "text/plain": [
       "Index(['Federal Provider Number', 'Residents Total Confirmed COVID-19',\n",
       "       'Residents Total COVID-19 Deaths', 'Number of All Beds',\n",
       "       'Total Number of Occupied Beds', 'Staff Total Confirmed COVID-19',\n",
       "       'Staff Total COVID-19 Deaths',\n",
       "       'No Confirmed COVID-19 Cases among residents',\n",
       "       'Confirmed COVID-19 Cases among residents (1-<95% Percentile)',\n",
       "       'Confirmed COVID-19 Cases among residents (>=95% Percentile)',\n",
       "       'No Confirmed COVID-19 Cases among staff',\n",
       "       'Confirmed COVID-19 Cases among staff (1-<95% Percentile)',\n",
       "       'Confirmed COVID-19 Cases among staff (>=95% Percentile)',\n",
       "       'No Confirmed COVID-19 Deaths among residents',\n",
       "       'Confirmed COVID-19 Deaths among residents (1-<95% Percentile)',\n",
       "       'Confirmed COVID-19 Deaths among residents (>=95% Percentile)',\n",
       "       'No Confirmed COVID-19 Deaths among staff',\n",
       "       'Confirmed COVID-19 Deaths among staff (>0)',\n",
       "       'Facility size Small (<33% Percentile beds)',\n",
       "       'Facility size Medium (33%-66% Percentile beds)',\n",
       "       'Facility size Large (>66% Percentile beds)',\n",
       "       'Low occupancy rate (<33% Percentile)',\n",
       "       'Medium occupancy rate (33%-66% Percentile)',\n",
       "       'High occupancy rate (>66% Percentile)'],\n",
       "      dtype='object')"
      ]
     },
     "execution_count": 9,
     "metadata": {},
     "output_type": "execute_result"
    }
   ],
   "source": [
    "cases.columns"
   ]
  },
  {
   "cell_type": "code",
   "execution_count": 10,
   "metadata": {},
   "outputs": [],
   "source": [
    "res_data=pd.read_csv(\"RESIDENTS_DATA.csv\")"
   ]
  },
  {
   "cell_type": "code",
   "execution_count": 11,
   "metadata": {},
   "outputs": [
    {
     "data": {
      "text/plain": [
       "Index(['PROV', 'paymcaid', 'multifac', 'pctwhite_2011p',\n",
       "       'Low Medicaid share (<Median)', 'High Medicaid share (>=Median)',\n",
       "       'No chain affiliation', 'Chain affiliation',\n",
       "       'Low racial or ethnic minority share (<Median)',\n",
       "       'High racial or ethnic minority share (>=Median)'],\n",
       "      dtype='object')"
      ]
     },
     "execution_count": 11,
     "metadata": {},
     "output_type": "execute_result"
    }
   ],
   "source": [
    "res_data.columns"
   ]
  },
  {
   "cell_type": "code",
   "execution_count": 12,
   "metadata": {},
   "outputs": [],
   "source": [
    "rur_urb=pd.read_csv(\"RURAL_URBAN_DATA.csv\")"
   ]
  },
  {
   "cell_type": "code",
   "execution_count": 13,
   "metadata": {},
   "outputs": [
    {
     "data": {
      "text/plain": [
       "Index(['FIPS State county code', 'CBSA (Blanks are Rural)', 'Rural area',\n",
       "       'Urban area'],\n",
       "      dtype='object')"
      ]
     },
     "execution_count": 13,
     "metadata": {},
     "output_type": "execute_result"
    }
   ],
   "source": [
    "rur_urb.columns"
   ]
  },
  {
   "cell_type": "code",
   "execution_count": 14,
   "metadata": {},
   "outputs": [],
   "source": [
    "county=pd.read_csv(\"ZIP_TO_COUNTY.csv\")"
   ]
  },
  {
   "cell_type": "code",
   "execution_count": 15,
   "metadata": {},
   "outputs": [
    {
     "data": {
      "text/plain": [
       "Index(['Zip', 'County Code'], dtype='object')"
      ]
     },
     "execution_count": 15,
     "metadata": {},
     "output_type": "execute_result"
    }
   ],
   "source": [
    "county.columns"
   ]
  },
  {
   "cell_type": "code",
   "execution_count": 16,
   "metadata": {},
   "outputs": [],
   "source": [
    "county_inf=pd.read_csv(\"PER_100K.csv\")"
   ]
  },
  {
   "cell_type": "code",
   "execution_count": 17,
   "metadata": {},
   "outputs": [
    {
     "data": {
      "text/plain": [
       "Index(['countyFIPS', '7/19/20', '7/19/20.1', 'population',\n",
       "       'County Infections per 100K', 'County Deaths per 100K',\n",
       "       'County Infections per 100K below Median',\n",
       "       'County Infections per 100K Median or higher',\n",
       "       'County Deaths per 100K below Median',\n",
       "       'County Deaths per 100K Median or higher'],\n",
       "      dtype='object')"
      ]
     },
     "execution_count": 17,
     "metadata": {},
     "output_type": "execute_result"
    }
   ],
   "source": [
    "county_inf.columns"
   ]
  },
  {
   "cell_type": "code",
   "execution_count": 180,
   "metadata": {},
   "outputs": [],
   "source": [
    "snf_data_path = \"CA_DETAIL_TABLE_crosstab.csv\"\n",
    "nhc_data_path = \"ProviderInfo_Download.csv\""
   ]
  },
  {
   "cell_type": "code",
   "execution_count": 185,
   "metadata": {},
   "outputs": [],
   "source": [
    "snf = pd.read_csv(snf_data_path, encoding = \"ISO-8859-1\", error_bad_lines=False)\n",
    "nhc = pd.read_csv(nhc_data_path, encoding = \"ISO-8859-1\", error_bad_lines=False)"
   ]
  },
  {
   "cell_type": "code",
   "execution_count": 187,
   "metadata": {},
   "outputs": [
    {
     "data": {
      "text/plain": [
       "Index(['County (copy)', 'FACILITY NAME', 'Facility Id', 'COUNTY',\n",
       "       'TODAY POSITIVE RESIDENTS', 'CUMULATIVE POSITIVE RESIDENTS ',\n",
       "       'COVID-RELATED RESIDENT DEATHS', 'TODAY POSITIVE HCW ',\n",
       "       'CUMULATIVE POSITIVE HCW ', 'COVID-RELATED HCW DEATHS ', 'Record',\n",
       "       'Record (copy)'],\n",
       "      dtype='object')"
      ]
     },
     "execution_count": 187,
     "metadata": {},
     "output_type": "execute_result"
    }
   ],
   "source": [
    "snf.columns"
   ]
  },
  {
   "cell_type": "code",
   "execution_count": 188,
   "metadata": {},
   "outputs": [
    {
     "data": {
      "text/plain": [
       "Index(['PROVNUM', 'PROVNAME', 'ADDRESS', 'CITY', 'STATE', 'ZIP', 'PHONE',\n",
       "       'COUNTY_SSA', 'County_name', 'OWNERSHIP', 'BEDCERT', 'RESTOT',\n",
       "       'CERTIFICATION', 'INHOSP', 'LBN', 'PARTICIPATION_DATE', 'CCRC_FACIL',\n",
       "       'SFFStatus', 'ABUSE_ICON', 'OldSurvey', 'CHOW_LAST_12MOS',\n",
       "       'RESFAMCOUNCIL', 'SPRINKLER_STATUS', 'Overall_Rating',\n",
       "       'overall_rating_fn', 'SURVEY_RATING', 'survey_rating_fn',\n",
       "       'Quality_Rating', 'quality_rating_fn', 'LS_Quality_Rating',\n",
       "       'LS_quality_rating_fn', 'SS_Quality_Rating', 'SS_quality_rating_fn',\n",
       "       'Staffing_Rating', 'staffing_rating_fn', 'RN_staffing_rating',\n",
       "       'RN_staffing_rating_fn', 'STAFFING_FLAG', 'PT_STAFFING_FLAG', 'AIDHRD',\n",
       "       'VOCHRD', 'RNHRD', 'TOTLICHRD', 'TOTHRD', 'PTHRD', 'CM_AIDE', 'CM_LPN',\n",
       "       'CM_RN', 'CM_TOTAL', 'ADJ_AIDE', 'ADJ_LPN', 'ADJ_RN', 'ADJ_TOTAL',\n",
       "       'CYCLE_1_SURVEY_DATE', 'cycle_1_defs', 'cycle_1_NfromDefs',\n",
       "       'cycle_1_NfromComp', 'cycle_1_defs_score', 'cycle_1_NumRevis',\n",
       "       'cycle_1_Revisit_Score', 'cycle_1_Total_Score', 'CYCLE_2_SURVEY_DATE',\n",
       "       'cycle_2_defs', 'cycle_2_NfromDefs', 'cycle_2_NfromComp',\n",
       "       'cycle_2_defs_score', 'cycle_2_NumRevis', 'cycle_2_Revisit_Score',\n",
       "       'cycle_2_Total_Score', 'CYCLE_3_SURVEY_DATE', 'cycle_3_defs',\n",
       "       'cycle_3_NfromDefs', 'cycle_3_NfromComp', 'cycle_3_defs_score',\n",
       "       'cycle_3_NumRevis', 'cycle_3_Revisit_Score', 'cycle_3_Total_Score',\n",
       "       'WEIGHTED_ALL_CYCLES_SCORE', 'INCIDENT_CNT', 'CMPLNT_CNT', 'FINE_CNT',\n",
       "       'FINE_TOT', 'PAYDEN_CNT', 'TOT_PENLTY_CNT', 'FILEDATE'],\n",
       "      dtype='object')"
      ]
     },
     "execution_count": 188,
     "metadata": {},
     "output_type": "execute_result"
    }
   ],
   "source": [
    "nhc.columns"
   ]
  },
  {
   "cell_type": "markdown",
   "metadata": {},
   "source": [
    "#### Please Note that snf and nhc datasets have been imported solely for the purpose of answering question-3."
   ]
  },
  {
   "cell_type": "markdown",
   "metadata": {},
   "source": [
    "# COMBINING ALL THE NECESSARY DATA COLUMNS INTO FOUR MAIN DATAFRAMES "
   ]
  },
  {
   "cell_type": "code",
   "execution_count": 18,
   "metadata": {},
   "outputs": [],
   "source": [
    "df1=nh[['Federal Provider Number', 'Provider Zip Code','Government',\n",
    "       'Non profit', 'For profit', 'Young (<33% Percentile)',\n",
    "       'Medium (33%-66% Percentile)', 'Old (>66% Percentile)',\n",
    "       '4- or 5-Star Overall Rating', '3-Star Overall Rating',\n",
    "       '1- or 2-Star Overall Rating',\n",
    "       '0.75 RN staffing hours per resident day or higher',\n",
    "       'Under 0.75 RN staffing hours per resident day ',\n",
    "       '4.1 nurse staffing hours per resident day or higher',\n",
    "       'Under 4.1 nurse staffing hours per resident day','No federal deficiencies', 'Federal deficiencies',\n",
    "       'Serious federal deficiencies']]"
   ]
  },
  {
   "cell_type": "code",
   "execution_count": 19,
   "metadata": {},
   "outputs": [],
   "source": [
    "df2=cases[['Federal Provider Number','No Confirmed COVID-19 Cases among residents',\n",
    "       'Confirmed COVID-19 Cases among residents (1-<95% Percentile)',\n",
    "       'Confirmed COVID-19 Cases among residents (>=95% Percentile)',\n",
    "       'No Confirmed COVID-19 Cases among staff',\n",
    "       'Confirmed COVID-19 Cases among staff (1-<95% Percentile)',\n",
    "       'Confirmed COVID-19 Cases among staff (>=95% Percentile)',\n",
    "       'No Confirmed COVID-19 Deaths among residents',\n",
    "       'Confirmed COVID-19 Deaths among residents (1-<95% Percentile)',\n",
    "       'Confirmed COVID-19 Deaths among residents (>=95% Percentile)',\n",
    "       'No Confirmed COVID-19 Deaths among staff',\n",
    "       'Confirmed COVID-19 Deaths among staff (>0)',\n",
    "       'Facility size Small (<33% Percentile beds)',\n",
    "       'Facility size Medium (33%-66% Percentile beds)',\n",
    "       'Facility size Large (>66% Percentile beds)',\n",
    "       'Low occupancy rate (<33% Percentile)',\n",
    "       'Medium occupancy rate (33%-66% Percentile)',\n",
    "       'High occupancy rate (>66% Percentile)']]"
   ]
  },
  {
   "cell_type": "code",
   "execution_count": 20,
   "metadata": {},
   "outputs": [],
   "source": [
    "df3=res_data[['PROV','Low Medicaid share (<Median)', 'High Medicaid share (>=Median)',\n",
    "       'No chain affiliation', 'Chain affiliation',\n",
    "       'Low racial or ethnic minority share (<Median)',\n",
    "       'High racial or ethnic minority share (>=Median)']]"
   ]
  },
  {
   "cell_type": "code",
   "execution_count": 21,
   "metadata": {},
   "outputs": [],
   "source": [
    "df3.columns=['Federal Provider Number','Low Medicaid share (<Median)', 'High Medicaid share (>=Median)',\n",
    "       'No chain affiliation', 'Chain affiliation',\n",
    "       'Low racial or ethnic minority share (<Median)',\n",
    "       'High racial or ethnic minority share (>=Median)']"
   ]
  },
  {
   "cell_type": "code",
   "execution_count": 22,
   "metadata": {},
   "outputs": [],
   "source": [
    "df=df1.merge(df2, on=\"Federal Provider Number\", how='inner')"
   ]
  },
  {
   "cell_type": "code",
   "execution_count": 23,
   "metadata": {},
   "outputs": [],
   "source": [
    "df_NH=df.merge(df3, on=\"Federal Provider Number\", how='inner')"
   ]
  },
  {
   "cell_type": "code",
   "execution_count": 24,
   "metadata": {},
   "outputs": [
    {
     "data": {
      "text/html": [
       "<div>\n",
       "<style scoped>\n",
       "    .dataframe tbody tr th:only-of-type {\n",
       "        vertical-align: middle;\n",
       "    }\n",
       "\n",
       "    .dataframe tbody tr th {\n",
       "        vertical-align: top;\n",
       "    }\n",
       "\n",
       "    .dataframe thead th {\n",
       "        text-align: right;\n",
       "    }\n",
       "</style>\n",
       "<table border=\"1\" class=\"dataframe\">\n",
       "  <thead>\n",
       "    <tr style=\"text-align: right;\">\n",
       "      <th></th>\n",
       "      <th>Federal Provider Number</th>\n",
       "      <th>Provider Zip Code</th>\n",
       "      <th>Government</th>\n",
       "      <th>Non profit</th>\n",
       "      <th>For profit</th>\n",
       "      <th>Young (&lt;33% Percentile)</th>\n",
       "      <th>Medium (33%-66% Percentile)</th>\n",
       "      <th>Old (&gt;66% Percentile)</th>\n",
       "      <th>4- or 5-Star Overall Rating</th>\n",
       "      <th>3-Star Overall Rating</th>\n",
       "      <th>...</th>\n",
       "      <th>Facility size Large (&gt;66% Percentile beds)</th>\n",
       "      <th>Low occupancy rate (&lt;33% Percentile)</th>\n",
       "      <th>Medium occupancy rate (33%-66% Percentile)</th>\n",
       "      <th>High occupancy rate (&gt;66% Percentile)</th>\n",
       "      <th>Low Medicaid share (&lt;Median)</th>\n",
       "      <th>High Medicaid share (&gt;=Median)</th>\n",
       "      <th>No chain affiliation</th>\n",
       "      <th>Chain affiliation</th>\n",
       "      <th>Low racial or ethnic minority share (&lt;Median)</th>\n",
       "      <th>High racial or ethnic minority share (&gt;=Median)</th>\n",
       "    </tr>\n",
       "  </thead>\n",
       "  <tbody>\n",
       "    <tr>\n",
       "      <th>0</th>\n",
       "      <td>365333</td>\n",
       "      <td>43402</td>\n",
       "      <td>0</td>\n",
       "      <td>0</td>\n",
       "      <td>1</td>\n",
       "      <td>0</td>\n",
       "      <td>0</td>\n",
       "      <td>1</td>\n",
       "      <td>1</td>\n",
       "      <td>0</td>\n",
       "      <td>...</td>\n",
       "      <td>0</td>\n",
       "      <td>0</td>\n",
       "      <td>0</td>\n",
       "      <td>1</td>\n",
       "      <td>0</td>\n",
       "      <td>1</td>\n",
       "      <td>0</td>\n",
       "      <td>1</td>\n",
       "      <td>0</td>\n",
       "      <td>1</td>\n",
       "    </tr>\n",
       "    <tr>\n",
       "      <th>1</th>\n",
       "      <td>315254</td>\n",
       "      <td>7093</td>\n",
       "      <td>0</td>\n",
       "      <td>0</td>\n",
       "      <td>1</td>\n",
       "      <td>0</td>\n",
       "      <td>1</td>\n",
       "      <td>0</td>\n",
       "      <td>1</td>\n",
       "      <td>0</td>\n",
       "      <td>...</td>\n",
       "      <td>0</td>\n",
       "      <td>0</td>\n",
       "      <td>1</td>\n",
       "      <td>0</td>\n",
       "      <td>0</td>\n",
       "      <td>1</td>\n",
       "      <td>1</td>\n",
       "      <td>0</td>\n",
       "      <td>1</td>\n",
       "      <td>0</td>\n",
       "    </tr>\n",
       "    <tr>\n",
       "      <th>2</th>\n",
       "      <td>495309</td>\n",
       "      <td>23509</td>\n",
       "      <td>0</td>\n",
       "      <td>0</td>\n",
       "      <td>1</td>\n",
       "      <td>1</td>\n",
       "      <td>0</td>\n",
       "      <td>0</td>\n",
       "      <td>0</td>\n",
       "      <td>0</td>\n",
       "      <td>...</td>\n",
       "      <td>0</td>\n",
       "      <td>1</td>\n",
       "      <td>0</td>\n",
       "      <td>0</td>\n",
       "      <td>0</td>\n",
       "      <td>1</td>\n",
       "      <td>0</td>\n",
       "      <td>1</td>\n",
       "      <td>1</td>\n",
       "      <td>0</td>\n",
       "    </tr>\n",
       "    <tr>\n",
       "      <th>3</th>\n",
       "      <td>515181</td>\n",
       "      <td>26104</td>\n",
       "      <td>0</td>\n",
       "      <td>0</td>\n",
       "      <td>1</td>\n",
       "      <td>1</td>\n",
       "      <td>0</td>\n",
       "      <td>0</td>\n",
       "      <td>1</td>\n",
       "      <td>0</td>\n",
       "      <td>...</td>\n",
       "      <td>0</td>\n",
       "      <td>0</td>\n",
       "      <td>1</td>\n",
       "      <td>0</td>\n",
       "      <td>0</td>\n",
       "      <td>1</td>\n",
       "      <td>1</td>\n",
       "      <td>0</td>\n",
       "      <td>0</td>\n",
       "      <td>1</td>\n",
       "    </tr>\n",
       "    <tr>\n",
       "      <th>4</th>\n",
       "      <td>676108</td>\n",
       "      <td>77662</td>\n",
       "      <td>0</td>\n",
       "      <td>0</td>\n",
       "      <td>1</td>\n",
       "      <td>1</td>\n",
       "      <td>0</td>\n",
       "      <td>0</td>\n",
       "      <td>0</td>\n",
       "      <td>0</td>\n",
       "      <td>...</td>\n",
       "      <td>1</td>\n",
       "      <td>0</td>\n",
       "      <td>0</td>\n",
       "      <td>1</td>\n",
       "      <td>0</td>\n",
       "      <td>1</td>\n",
       "      <td>0</td>\n",
       "      <td>1</td>\n",
       "      <td>0</td>\n",
       "      <td>1</td>\n",
       "    </tr>\n",
       "  </tbody>\n",
       "</table>\n",
       "<p>5 rows × 41 columns</p>\n",
       "</div>"
      ],
      "text/plain": [
       "  Federal Provider Number  Provider Zip Code  Government  Non profit  \\\n",
       "0                  365333              43402           0           0   \n",
       "1                  315254               7093           0           0   \n",
       "2                  495309              23509           0           0   \n",
       "3                  515181              26104           0           0   \n",
       "4                  676108              77662           0           0   \n",
       "\n",
       "   For profit  Young (<33% Percentile)  Medium (33%-66% Percentile)  \\\n",
       "0           1                        0                            0   \n",
       "1           1                        0                            1   \n",
       "2           1                        1                            0   \n",
       "3           1                        1                            0   \n",
       "4           1                        1                            0   \n",
       "\n",
       "   Old (>66% Percentile)  4- or 5-Star Overall Rating  3-Star Overall Rating  \\\n",
       "0                      1                            1                      0   \n",
       "1                      0                            1                      0   \n",
       "2                      0                            0                      0   \n",
       "3                      0                            1                      0   \n",
       "4                      0                            0                      0   \n",
       "\n",
       "   ...  Facility size Large (>66% Percentile beds)  \\\n",
       "0  ...                                           0   \n",
       "1  ...                                           0   \n",
       "2  ...                                           0   \n",
       "3  ...                                           0   \n",
       "4  ...                                           1   \n",
       "\n",
       "   Low occupancy rate (<33% Percentile)  \\\n",
       "0                                     0   \n",
       "1                                     0   \n",
       "2                                     1   \n",
       "3                                     0   \n",
       "4                                     0   \n",
       "\n",
       "   Medium occupancy rate (33%-66% Percentile)  \\\n",
       "0                                           0   \n",
       "1                                           1   \n",
       "2                                           0   \n",
       "3                                           1   \n",
       "4                                           0   \n",
       "\n",
       "   High occupancy rate (>66% Percentile)  Low Medicaid share (<Median)  \\\n",
       "0                                      1                             0   \n",
       "1                                      0                             0   \n",
       "2                                      0                             0   \n",
       "3                                      0                             0   \n",
       "4                                      1                             0   \n",
       "\n",
       "   High Medicaid share (>=Median)  No chain affiliation  Chain affiliation  \\\n",
       "0                               1                     0                  1   \n",
       "1                               1                     1                  0   \n",
       "2                               1                     0                  1   \n",
       "3                               1                     1                  0   \n",
       "4                               1                     0                  1   \n",
       "\n",
       "   Low racial or ethnic minority share (<Median)  \\\n",
       "0                                              0   \n",
       "1                                              1   \n",
       "2                                              1   \n",
       "3                                              0   \n",
       "4                                              0   \n",
       "\n",
       "   High racial or ethnic minority share (>=Median)  \n",
       "0                                                1  \n",
       "1                                                0  \n",
       "2                                                0  \n",
       "3                                                1  \n",
       "4                                                1  \n",
       "\n",
       "[5 rows x 41 columns]"
      ]
     },
     "execution_count": 24,
     "metadata": {},
     "output_type": "execute_result"
    }
   ],
   "source": [
    "df_NH.head()"
   ]
  },
  {
   "cell_type": "code",
   "execution_count": 25,
   "metadata": {},
   "outputs": [
    {
     "data": {
      "text/plain": [
       "(12747, 41)"
      ]
     },
     "execution_count": 25,
     "metadata": {},
     "output_type": "execute_result"
    }
   ],
   "source": [
    "df_NH.shape"
   ]
  },
  {
   "cell_type": "code",
   "execution_count": 26,
   "metadata": {},
   "outputs": [],
   "source": [
    "df4=county[['Zip', 'County Code']]"
   ]
  },
  {
   "cell_type": "code",
   "execution_count": 27,
   "metadata": {},
   "outputs": [],
   "source": [
    "df5=county_inf[['countyFIPS','County Infections per 100K', 'County Deaths per 100K','County Infections per 100K below Median',\n",
    "       'County Infections per 100K Median or higher',\n",
    "       'County Deaths per 100K below Median',\n",
    "       'County Deaths per 100K Median or higher']]"
   ]
  },
  {
   "cell_type": "code",
   "execution_count": 28,
   "metadata": {},
   "outputs": [
    {
     "data": {
      "text/html": [
       "<div>\n",
       "<style scoped>\n",
       "    .dataframe tbody tr th:only-of-type {\n",
       "        vertical-align: middle;\n",
       "    }\n",
       "\n",
       "    .dataframe tbody tr th {\n",
       "        vertical-align: top;\n",
       "    }\n",
       "\n",
       "    .dataframe thead th {\n",
       "        text-align: right;\n",
       "    }\n",
       "</style>\n",
       "<table border=\"1\" class=\"dataframe\">\n",
       "  <thead>\n",
       "    <tr style=\"text-align: right;\">\n",
       "      <th></th>\n",
       "      <th>countyFIPS</th>\n",
       "      <th>County Infections per 100K</th>\n",
       "      <th>County Deaths per 100K</th>\n",
       "      <th>County Infections per 100K below Median</th>\n",
       "      <th>County Infections per 100K Median or higher</th>\n",
       "      <th>County Deaths per 100K below Median</th>\n",
       "      <th>County Deaths per 100K Median or higher</th>\n",
       "    </tr>\n",
       "  </thead>\n",
       "  <tbody>\n",
       "    <tr>\n",
       "      <th>0</th>\n",
       "      <td>0</td>\n",
       "      <td>NaN</td>\n",
       "      <td>NaN</td>\n",
       "      <td>0</td>\n",
       "      <td>1</td>\n",
       "      <td>0</td>\n",
       "      <td>1</td>\n",
       "    </tr>\n",
       "    <tr>\n",
       "      <th>1</th>\n",
       "      <td>1001</td>\n",
       "      <td>1507.0</td>\n",
       "      <td>38.0</td>\n",
       "      <td>0</td>\n",
       "      <td>1</td>\n",
       "      <td>0</td>\n",
       "      <td>1</td>\n",
       "    </tr>\n",
       "    <tr>\n",
       "      <th>2</th>\n",
       "      <td>1003</td>\n",
       "      <td>868.0</td>\n",
       "      <td>7.0</td>\n",
       "      <td>0</td>\n",
       "      <td>1</td>\n",
       "      <td>0</td>\n",
       "      <td>1</td>\n",
       "    </tr>\n",
       "    <tr>\n",
       "      <th>3</th>\n",
       "      <td>1005</td>\n",
       "      <td>2005.0</td>\n",
       "      <td>12.0</td>\n",
       "      <td>0</td>\n",
       "      <td>1</td>\n",
       "      <td>0</td>\n",
       "      <td>1</td>\n",
       "    </tr>\n",
       "    <tr>\n",
       "      <th>4</th>\n",
       "      <td>1007</td>\n",
       "      <td>1201.0</td>\n",
       "      <td>9.0</td>\n",
       "      <td>0</td>\n",
       "      <td>1</td>\n",
       "      <td>0</td>\n",
       "      <td>1</td>\n",
       "    </tr>\n",
       "  </tbody>\n",
       "</table>\n",
       "</div>"
      ],
      "text/plain": [
       "   countyFIPS  County Infections per 100K  County Deaths per 100K  \\\n",
       "0           0                         NaN                     NaN   \n",
       "1        1001                      1507.0                    38.0   \n",
       "2        1003                       868.0                     7.0   \n",
       "3        1005                      2005.0                    12.0   \n",
       "4        1007                      1201.0                     9.0   \n",
       "\n",
       "   County Infections per 100K below Median  \\\n",
       "0                                        0   \n",
       "1                                        0   \n",
       "2                                        0   \n",
       "3                                        0   \n",
       "4                                        0   \n",
       "\n",
       "   County Infections per 100K Median or higher  \\\n",
       "0                                            1   \n",
       "1                                            1   \n",
       "2                                            1   \n",
       "3                                            1   \n",
       "4                                            1   \n",
       "\n",
       "   County Deaths per 100K below Median  \\\n",
       "0                                    0   \n",
       "1                                    0   \n",
       "2                                    0   \n",
       "3                                    0   \n",
       "4                                    0   \n",
       "\n",
       "   County Deaths per 100K Median or higher  \n",
       "0                                        1  \n",
       "1                                        1  \n",
       "2                                        1  \n",
       "3                                        1  \n",
       "4                                        1  "
      ]
     },
     "execution_count": 28,
     "metadata": {},
     "output_type": "execute_result"
    }
   ],
   "source": [
    "df5.head()"
   ]
  },
  {
   "cell_type": "code",
   "execution_count": 29,
   "metadata": {},
   "outputs": [],
   "source": [
    "df5.columns=['County Code','County Infections per 100K', 'County Deaths per 100K','County Infections per 100K below Median',\n",
    "       'County Infections per 100K Median or higher',\n",
    "       'County Deaths per 100K below Median',\n",
    "       'County Deaths per 100K Median or higher']"
   ]
  },
  {
   "cell_type": "code",
   "execution_count": 30,
   "metadata": {},
   "outputs": [],
   "source": [
    "df6=rur_urb[[\"FIPS State county code\",'Rural area','Urban area']]"
   ]
  },
  {
   "cell_type": "code",
   "execution_count": 31,
   "metadata": {},
   "outputs": [],
   "source": [
    "df6.columns=['County Code','Rural area','Urban area']"
   ]
  },
  {
   "cell_type": "code",
   "execution_count": 32,
   "metadata": {},
   "outputs": [],
   "source": [
    "df_temp=df4.merge(df5, on=\"County Code\", how='inner')"
   ]
  },
  {
   "cell_type": "code",
   "execution_count": 33,
   "metadata": {},
   "outputs": [],
   "source": [
    "df_COUNTY=df_temp.merge(df6, on=\"County Code\", how=\"inner\")"
   ]
  },
  {
   "cell_type": "code",
   "execution_count": 34,
   "metadata": {},
   "outputs": [
    {
     "data": {
      "text/html": [
       "<div>\n",
       "<style scoped>\n",
       "    .dataframe tbody tr th:only-of-type {\n",
       "        vertical-align: middle;\n",
       "    }\n",
       "\n",
       "    .dataframe tbody tr th {\n",
       "        vertical-align: top;\n",
       "    }\n",
       "\n",
       "    .dataframe thead th {\n",
       "        text-align: right;\n",
       "    }\n",
       "</style>\n",
       "<table border=\"1\" class=\"dataframe\">\n",
       "  <thead>\n",
       "    <tr style=\"text-align: right;\">\n",
       "      <th></th>\n",
       "      <th>Zip</th>\n",
       "      <th>County Code</th>\n",
       "      <th>County Infections per 100K</th>\n",
       "      <th>County Deaths per 100K</th>\n",
       "      <th>County Infections per 100K below Median</th>\n",
       "      <th>County Infections per 100K Median or higher</th>\n",
       "      <th>County Deaths per 100K below Median</th>\n",
       "      <th>County Deaths per 100K Median or higher</th>\n",
       "      <th>Rural area</th>\n",
       "      <th>Urban area</th>\n",
       "    </tr>\n",
       "  </thead>\n",
       "  <tbody>\n",
       "    <tr>\n",
       "      <th>0</th>\n",
       "      <td>36091</td>\n",
       "      <td>1001</td>\n",
       "      <td>1507.0</td>\n",
       "      <td>38.0</td>\n",
       "      <td>0</td>\n",
       "      <td>1</td>\n",
       "      <td>0</td>\n",
       "      <td>1</td>\n",
       "      <td>1</td>\n",
       "      <td>0</td>\n",
       "    </tr>\n",
       "    <tr>\n",
       "      <th>1</th>\n",
       "      <td>36758</td>\n",
       "      <td>1001</td>\n",
       "      <td>1507.0</td>\n",
       "      <td>38.0</td>\n",
       "      <td>0</td>\n",
       "      <td>1</td>\n",
       "      <td>0</td>\n",
       "      <td>1</td>\n",
       "      <td>1</td>\n",
       "      <td>0</td>\n",
       "    </tr>\n",
       "    <tr>\n",
       "      <th>2</th>\n",
       "      <td>36006</td>\n",
       "      <td>1001</td>\n",
       "      <td>1507.0</td>\n",
       "      <td>38.0</td>\n",
       "      <td>0</td>\n",
       "      <td>1</td>\n",
       "      <td>0</td>\n",
       "      <td>1</td>\n",
       "      <td>1</td>\n",
       "      <td>0</td>\n",
       "    </tr>\n",
       "    <tr>\n",
       "      <th>3</th>\n",
       "      <td>36067</td>\n",
       "      <td>1001</td>\n",
       "      <td>1507.0</td>\n",
       "      <td>38.0</td>\n",
       "      <td>0</td>\n",
       "      <td>1</td>\n",
       "      <td>0</td>\n",
       "      <td>1</td>\n",
       "      <td>1</td>\n",
       "      <td>0</td>\n",
       "    </tr>\n",
       "    <tr>\n",
       "      <th>4</th>\n",
       "      <td>36701</td>\n",
       "      <td>1001</td>\n",
       "      <td>1507.0</td>\n",
       "      <td>38.0</td>\n",
       "      <td>0</td>\n",
       "      <td>1</td>\n",
       "      <td>0</td>\n",
       "      <td>1</td>\n",
       "      <td>1</td>\n",
       "      <td>0</td>\n",
       "    </tr>\n",
       "  </tbody>\n",
       "</table>\n",
       "</div>"
      ],
      "text/plain": [
       "     Zip  County Code  County Infections per 100K  County Deaths per 100K  \\\n",
       "0  36091         1001                      1507.0                    38.0   \n",
       "1  36758         1001                      1507.0                    38.0   \n",
       "2  36006         1001                      1507.0                    38.0   \n",
       "3  36067         1001                      1507.0                    38.0   \n",
       "4  36701         1001                      1507.0                    38.0   \n",
       "\n",
       "   County Infections per 100K below Median  \\\n",
       "0                                        0   \n",
       "1                                        0   \n",
       "2                                        0   \n",
       "3                                        0   \n",
       "4                                        0   \n",
       "\n",
       "   County Infections per 100K Median or higher  \\\n",
       "0                                            1   \n",
       "1                                            1   \n",
       "2                                            1   \n",
       "3                                            1   \n",
       "4                                            1   \n",
       "\n",
       "   County Deaths per 100K below Median  \\\n",
       "0                                    0   \n",
       "1                                    0   \n",
       "2                                    0   \n",
       "3                                    0   \n",
       "4                                    0   \n",
       "\n",
       "   County Deaths per 100K Median or higher  Rural area  Urban area  \n",
       "0                                        1           1           0  \n",
       "1                                        1           1           0  \n",
       "2                                        1           1           0  \n",
       "3                                        1           1           0  \n",
       "4                                        1           1           0  "
      ]
     },
     "execution_count": 34,
     "metadata": {},
     "output_type": "execute_result"
    }
   ],
   "source": [
    "df_COUNTY.head()"
   ]
  },
  {
   "cell_type": "code",
   "execution_count": 35,
   "metadata": {},
   "outputs": [
    {
     "data": {
      "text/plain": [
       "(54120, 10)"
      ]
     },
     "execution_count": 35,
     "metadata": {},
     "output_type": "execute_result"
    }
   ],
   "source": [
    "df_COUNTY.shape"
   ]
  },
  {
   "cell_type": "code",
   "execution_count": 36,
   "metadata": {},
   "outputs": [],
   "source": [
    "df7=nh[['Federal Provider Number','Reported Total Nurse Staffing Hours per Resident per Day','Overall Rating','Ownership Type']]"
   ]
  },
  {
   "cell_type": "code",
   "execution_count": 37,
   "metadata": {},
   "outputs": [],
   "source": [
    "df8=cases[['Federal Provider Number', 'Residents Total Confirmed COVID-19',\n",
    "       'Residents Total COVID-19 Deaths', 'Number of All Beds',\n",
    "       'Total Number of Occupied Beds', 'Staff Total Confirmed COVID-19',\n",
    "       'Staff Total COVID-19 Deaths']]"
   ]
  },
  {
   "cell_type": "code",
   "execution_count": 38,
   "metadata": {},
   "outputs": [],
   "source": [
    "df9=res_data[['PROV', 'paymcaid','pctwhite_2011p']]"
   ]
  },
  {
   "cell_type": "code",
   "execution_count": 39,
   "metadata": {},
   "outputs": [],
   "source": [
    "df9.columns=['Federal Provider Number', 'paymcaid','pctwhite_2011p']"
   ]
  },
  {
   "cell_type": "code",
   "execution_count": 40,
   "metadata": {},
   "outputs": [],
   "source": [
    "df_temp=df7.merge(df8, on=\"Federal Provider Number\", how=\"inner\")"
   ]
  },
  {
   "cell_type": "code",
   "execution_count": 41,
   "metadata": {},
   "outputs": [],
   "source": [
    "df_CONTINUOUS=df_temp.merge(df9, on='Federal Provider Number', how='inner')"
   ]
  },
  {
   "cell_type": "code",
   "execution_count": 42,
   "metadata": {},
   "outputs": [
    {
     "data": {
      "text/html": [
       "<div>\n",
       "<style scoped>\n",
       "    .dataframe tbody tr th:only-of-type {\n",
       "        vertical-align: middle;\n",
       "    }\n",
       "\n",
       "    .dataframe tbody tr th {\n",
       "        vertical-align: top;\n",
       "    }\n",
       "\n",
       "    .dataframe thead th {\n",
       "        text-align: right;\n",
       "    }\n",
       "</style>\n",
       "<table border=\"1\" class=\"dataframe\">\n",
       "  <thead>\n",
       "    <tr style=\"text-align: right;\">\n",
       "      <th></th>\n",
       "      <th>Federal Provider Number</th>\n",
       "      <th>Reported Total Nurse Staffing Hours per Resident per Day</th>\n",
       "      <th>Overall Rating</th>\n",
       "      <th>Ownership Type</th>\n",
       "      <th>Residents Total Confirmed COVID-19</th>\n",
       "      <th>Residents Total COVID-19 Deaths</th>\n",
       "      <th>Number of All Beds</th>\n",
       "      <th>Total Number of Occupied Beds</th>\n",
       "      <th>Staff Total Confirmed COVID-19</th>\n",
       "      <th>Staff Total COVID-19 Deaths</th>\n",
       "      <th>paymcaid</th>\n",
       "      <th>pctwhite_2011p</th>\n",
       "    </tr>\n",
       "  </thead>\n",
       "  <tbody>\n",
       "    <tr>\n",
       "      <th>0</th>\n",
       "      <td>365333</td>\n",
       "      <td>3.45472</td>\n",
       "      <td>4</td>\n",
       "      <td>For profit - Corporation</td>\n",
       "      <td>0</td>\n",
       "      <td>0</td>\n",
       "      <td>92</td>\n",
       "      <td>88</td>\n",
       "      <td>1</td>\n",
       "      <td>0</td>\n",
       "      <td>66.67</td>\n",
       "      <td>98.77</td>\n",
       "    </tr>\n",
       "    <tr>\n",
       "      <th>1</th>\n",
       "      <td>315254</td>\n",
       "      <td>3.23607</td>\n",
       "      <td>5</td>\n",
       "      <td>For profit - Corporation</td>\n",
       "      <td>3</td>\n",
       "      <td>0</td>\n",
       "      <td>108</td>\n",
       "      <td>72</td>\n",
       "      <td>2</td>\n",
       "      <td>0</td>\n",
       "      <td>93.68</td>\n",
       "      <td>23.71</td>\n",
       "    </tr>\n",
       "    <tr>\n",
       "      <th>2</th>\n",
       "      <td>495309</td>\n",
       "      <td>3.17798</td>\n",
       "      <td>2</td>\n",
       "      <td>For profit - Partnership</td>\n",
       "      <td>2</td>\n",
       "      <td>0</td>\n",
       "      <td>60</td>\n",
       "      <td>48</td>\n",
       "      <td>6</td>\n",
       "      <td>0</td>\n",
       "      <td>75.47</td>\n",
       "      <td>48.08</td>\n",
       "    </tr>\n",
       "    <tr>\n",
       "      <th>3</th>\n",
       "      <td>515181</td>\n",
       "      <td>3.51293</td>\n",
       "      <td>4</td>\n",
       "      <td>For profit - Corporation</td>\n",
       "      <td>0</td>\n",
       "      <td>0</td>\n",
       "      <td>66</td>\n",
       "      <td>63</td>\n",
       "      <td>0</td>\n",
       "      <td>0</td>\n",
       "      <td>73.85</td>\n",
       "      <td>98.31</td>\n",
       "    </tr>\n",
       "    <tr>\n",
       "      <th>4</th>\n",
       "      <td>676108</td>\n",
       "      <td>3.72184</td>\n",
       "      <td>2</td>\n",
       "      <td>For profit - Limited Liability company</td>\n",
       "      <td>21</td>\n",
       "      <td>0</td>\n",
       "      <td>144</td>\n",
       "      <td>91</td>\n",
       "      <td>13</td>\n",
       "      <td>0</td>\n",
       "      <td>69.47</td>\n",
       "      <td>89.47</td>\n",
       "    </tr>\n",
       "  </tbody>\n",
       "</table>\n",
       "</div>"
      ],
      "text/plain": [
       "  Federal Provider Number  \\\n",
       "0                  365333   \n",
       "1                  315254   \n",
       "2                  495309   \n",
       "3                  515181   \n",
       "4                  676108   \n",
       "\n",
       "   Reported Total Nurse Staffing Hours per Resident per Day  Overall Rating  \\\n",
       "0                                            3.45472                      4   \n",
       "1                                            3.23607                      5   \n",
       "2                                            3.17798                      2   \n",
       "3                                            3.51293                      4   \n",
       "4                                            3.72184                      2   \n",
       "\n",
       "                           Ownership Type  Residents Total Confirmed COVID-19  \\\n",
       "0                For profit - Corporation                                   0   \n",
       "1                For profit - Corporation                                   3   \n",
       "2                For profit - Partnership                                   2   \n",
       "3                For profit - Corporation                                   0   \n",
       "4  For profit - Limited Liability company                                  21   \n",
       "\n",
       "   Residents Total COVID-19 Deaths  Number of All Beds  \\\n",
       "0                                0                  92   \n",
       "1                                0                 108   \n",
       "2                                0                  60   \n",
       "3                                0                  66   \n",
       "4                                0                 144   \n",
       "\n",
       "   Total Number of Occupied Beds  Staff Total Confirmed COVID-19  \\\n",
       "0                             88                               1   \n",
       "1                             72                               2   \n",
       "2                             48                               6   \n",
       "3                             63                               0   \n",
       "4                             91                              13   \n",
       "\n",
       "   Staff Total COVID-19 Deaths  paymcaid pctwhite_2011p  \n",
       "0                            0     66.67          98.77  \n",
       "1                            0     93.68          23.71  \n",
       "2                            0     75.47          48.08  \n",
       "3                            0     73.85          98.31  \n",
       "4                            0     69.47          89.47  "
      ]
     },
     "execution_count": 42,
     "metadata": {},
     "output_type": "execute_result"
    }
   ],
   "source": [
    "df_CONTINUOUS.head()"
   ]
  },
  {
   "cell_type": "markdown",
   "metadata": {},
   "source": [
    "#### We have with us mainly 3 dataframes that we will be working with. Two binary dataframes : One being the nursing homes data set which will be used for questions 1 through 8 and the other county specific dataframe that will be used to answer county specific questions 9 and 10. There is one dataframe consisting of purely continuous data so that we can perform visualizations and carry out tests."
   ]
  },
  {
   "cell_type": "code",
   "execution_count": 192,
   "metadata": {},
   "outputs": [],
   "source": [
    "df_10 = snf[[\"FACILITY NAME\", \"CUMULATIVE POSITIVE RESIDENTS \", \"CUMULATIVE POSITIVE HCW \"]]\n",
    "df_11 = nhc[[\"PROVNAME\", \"SURVEY_RATING\",\"Quality_Rating\"]]\n",
    "df_11.columns = [\"FACILITY NAME\", \"SELF_REPORTED\",\"CMS_REPORTED\"]\n",
    "df_Q3 = df_11.merge(df_10, on=[\"FACILITY NAME\"], how=\"inner\")"
   ]
  },
  {
   "cell_type": "markdown",
   "metadata": {},
   "source": [
    "#### This dataframe is solely for the purpose of solving question number 3"
   ]
  },
  {
   "cell_type": "markdown",
   "metadata": {},
   "source": [
    "# EXPLORATORY DATA ANALYSIS (EDA)"
   ]
  },
  {
   "cell_type": "code",
   "execution_count": 43,
   "metadata": {},
   "outputs": [
    {
     "data": {
      "text/plain": [
       "<matplotlib.axes._subplots.AxesSubplot at 0x2577bf48348>"
      ]
     },
     "execution_count": 43,
     "metadata": {},
     "output_type": "execute_result"
    },
    {
     "data": {
      "image/png": "[encoded data removed]",
      "text/plain": [
       "<Figure size 432x288 with 2 Axes>"
      ]
     },
     "metadata": {
      "needs_background": "light"
     },
     "output_type": "display_data"
    }
   ],
   "source": [
    "sns.heatmap(df_NH.isnull().T, xticklabels=False)"
   ]
  },
  {
   "cell_type": "code",
   "execution_count": 44,
   "metadata": {},
   "outputs": [
    {
     "data": {
      "text/plain": [
       "<matplotlib.axes._subplots.AxesSubplot at 0x2570666f988>"
      ]
     },
     "execution_count": 44,
     "metadata": {},
     "output_type": "execute_result"
    },
    {
     "data": {
      "image/png": "[encoded data removed]",
      "text/plain": [
       "<Figure size 432x288 with 2 Axes>"
      ]
     },
     "metadata": {
      "needs_background": "light"
     },
     "output_type": "display_data"
    }
   ],
   "source": [
    "sns.heatmap(df_COUNTY.isnull().T, xticklabels=False)"
   ]
  },
  {
   "cell_type": "code",
   "execution_count": 45,
   "metadata": {},
   "outputs": [
    {
     "data": {
      "text/plain": [
       "<matplotlib.axes._subplots.AxesSubplot at 0x25702ae47c8>"
      ]
     },
     "execution_count": 45,
     "metadata": {},
     "output_type": "execute_result"
    },
    {
     "data": {
      "image/png": "[encoded data removed]",
      "text/plain": [
       "<Figure size 432x288 with 2 Axes>"
      ]
     },
     "metadata": {
      "needs_background": "light"
     },
     "output_type": "display_data"
    }
   ],
   "source": [
    "sns.heatmap(df_CONTINUOUS.isnull().T, xticklabels=False)"
   ]
  },
  {
   "cell_type": "markdown",
   "metadata": {},
   "source": [
    "AS IS CLEAR, THERE ARE NO MISSING VALUES IN OUR 3 DATAFRAMES. NOW WE WILL CHECK FOR Nan VALUES BEING PRESENT"
   ]
  },
  {
   "cell_type": "code",
   "execution_count": 46,
   "metadata": {},
   "outputs": [
    {
     "data": {
      "text/plain": [
       "<matplotlib.axes._subplots.AxesSubplot at 0x25703c3b788>"
      ]
     },
     "execution_count": 46,
     "metadata": {},
     "output_type": "execute_result"
    },
    {
     "data": {
      "image/png": "[encoded data removed]",
      "text/plain": [
       "<Figure size 432x288 with 2 Axes>"
      ]
     },
     "metadata": {
      "needs_background": "light"
     },
     "output_type": "display_data"
    }
   ],
   "source": [
    "sns.heatmap(df_NH.isna().T, xticklabels=False)"
   ]
  },
  {
   "cell_type": "code",
   "execution_count": 47,
   "metadata": {},
   "outputs": [
    {
     "data": {
      "text/plain": [
       "<matplotlib.axes._subplots.AxesSubplot at 0x257096d8648>"
      ]
     },
     "execution_count": 47,
     "metadata": {},
     "output_type": "execute_result"
    },
    {
     "data": {
      "image/png": "[encoded data removed]",
      "text/plain": [
       "<Figure size 432x288 with 2 Axes>"
      ]
     },
     "metadata": {
      "needs_background": "light"
     },
     "output_type": "display_data"
    }
   ],
   "source": [
    "sns.heatmap(df_COUNTY.isna().T, xticklabels=False)"
   ]
  },
  {
   "cell_type": "code",
   "execution_count": 48,
   "metadata": {},
   "outputs": [
    {
     "data": {
      "text/plain": [
       "<matplotlib.axes._subplots.AxesSubplot at 0x2570327f688>"
      ]
     },
     "execution_count": 48,
     "metadata": {},
     "output_type": "execute_result"
    },
    {
     "data": {
      "image/png": "[encoded data removed]",
      "text/plain": [
       "<Figure size 432x288 with 2 Axes>"
      ]
     },
     "metadata": {
      "needs_background": "light"
     },
     "output_type": "display_data"
    }
   ],
   "source": [
    "sns.heatmap(df_CONTINUOUS.isna().T, xticklabels=False)"
   ]
  },
  {
   "cell_type": "markdown",
   "metadata": {},
   "source": [
    "Great, Our dataframes are devoid of any Nan values as well. Now we can proceed to doing EDA and visualizations as per each of the questions"
   ]
  },
  {
   "cell_type": "code",
   "execution_count": null,
   "metadata": {},
   "outputs": [],
   "source": []
  },
  {
   "cell_type": "markdown",
   "metadata": {},
   "source": [
    "### QUESTION 1"
   ]
  },
  {
   "cell_type": "code",
   "execution_count": 49,
   "metadata": {},
   "outputs": [
    {
     "data": {
      "text/plain": [
       "Index(['Federal Provider Number', 'Provider Zip Code', 'Government',\n",
       "       'Non profit', 'For profit', 'Young (<33% Percentile)',\n",
       "       'Medium (33%-66% Percentile)', 'Old (>66% Percentile)',\n",
       "       '4- or 5-Star Overall Rating', '3-Star Overall Rating',\n",
       "       '1- or 2-Star Overall Rating',\n",
       "       '0.75 RN staffing hours per resident day or higher',\n",
       "       'Under 0.75 RN staffing hours per resident day ',\n",
       "       '4.1 nurse staffing hours per resident day or higher',\n",
       "       'Under 4.1 nurse staffing hours per resident day',\n",
       "       'No federal deficiencies', 'Federal deficiencies',\n",
       "       'Serious federal deficiencies',\n",
       "       'No Confirmed COVID-19 Cases among residents',\n",
       "       'Confirmed COVID-19 Cases among residents (1-<95% Percentile)',\n",
       "       'Confirmed COVID-19 Cases among residents (>=95% Percentile)',\n",
       "       'No Confirmed COVID-19 Cases among staff',\n",
       "       'Confirmed COVID-19 Cases among staff (1-<95% Percentile)',\n",
       "       'Confirmed COVID-19 Cases among staff (>=95% Percentile)',\n",
       "       'No Confirmed COVID-19 Deaths among residents',\n",
       "       'Confirmed COVID-19 Deaths among residents (1-<95% Percentile)',\n",
       "       'Confirmed COVID-19 Deaths among residents (>=95% Percentile)',\n",
       "       'No Confirmed COVID-19 Deaths among staff',\n",
       "       'Confirmed COVID-19 Deaths among staff (>0)',\n",
       "       'Facility size Small (<33% Percentile beds)',\n",
       "       'Facility size Medium (33%-66% Percentile beds)',\n",
       "       'Facility size Large (>66% Percentile beds)',\n",
       "       'Low occupancy rate (<33% Percentile)',\n",
       "       'Medium occupancy rate (33%-66% Percentile)',\n",
       "       'High occupancy rate (>66% Percentile)', 'Low Medicaid share (<Median)',\n",
       "       'High Medicaid share (>=Median)', 'No chain affiliation',\n",
       "       'Chain affiliation', 'Low racial or ethnic minority share (<Median)',\n",
       "       'High racial or ethnic minority share (>=Median)'],\n",
       "      dtype='object')"
      ]
     },
     "execution_count": 49,
     "metadata": {},
     "output_type": "execute_result"
    }
   ],
   "source": [
    "df_NH.columns"
   ]
  },
  {
   "cell_type": "code",
   "execution_count": 50,
   "metadata": {},
   "outputs": [],
   "source": [
    "df_A=df_CONTINUOUS[['Federal Provider Number','Residents Total Confirmed COVID-19', 'Residents Total COVID-19 Deaths','Staff Total Confirmed COVID-19', 'Staff Total COVID-19 Deaths']]"
   ]
  },
  {
   "cell_type": "code",
   "execution_count": 51,
   "metadata": {},
   "outputs": [],
   "source": [
    "df_B=df_NH[[\"Federal Provider Number\",'Government','Non profit', 'For profit']]"
   ]
  },
  {
   "cell_type": "code",
   "execution_count": 52,
   "metadata": {},
   "outputs": [],
   "source": [
    "df=df_A.merge(df_B, on=\"Federal Provider Number\")"
   ]
  },
  {
   "cell_type": "code",
   "execution_count": 53,
   "metadata": {},
   "outputs": [
    {
     "data": {
      "text/html": [
       "<div>\n",
       "<style scoped>\n",
       "    .dataframe tbody tr th:only-of-type {\n",
       "        vertical-align: middle;\n",
       "    }\n",
       "\n",
       "    .dataframe tbody tr th {\n",
       "        vertical-align: top;\n",
       "    }\n",
       "\n",
       "    .dataframe thead th {\n",
       "        text-align: right;\n",
       "    }\n",
       "</style>\n",
       "<table border=\"1\" class=\"dataframe\">\n",
       "  <thead>\n",
       "    <tr style=\"text-align: right;\">\n",
       "      <th></th>\n",
       "      <th>Federal Provider Number</th>\n",
       "      <th>Residents Total Confirmed COVID-19</th>\n",
       "      <th>Residents Total COVID-19 Deaths</th>\n",
       "      <th>Staff Total Confirmed COVID-19</th>\n",
       "      <th>Staff Total COVID-19 Deaths</th>\n",
       "      <th>Government</th>\n",
       "      <th>Non profit</th>\n",
       "      <th>For profit</th>\n",
       "    </tr>\n",
       "  </thead>\n",
       "  <tbody>\n",
       "    <tr>\n",
       "      <th>0</th>\n",
       "      <td>365333</td>\n",
       "      <td>0</td>\n",
       "      <td>0</td>\n",
       "      <td>1</td>\n",
       "      <td>0</td>\n",
       "      <td>0</td>\n",
       "      <td>0</td>\n",
       "      <td>1</td>\n",
       "    </tr>\n",
       "    <tr>\n",
       "      <th>1</th>\n",
       "      <td>315254</td>\n",
       "      <td>3</td>\n",
       "      <td>0</td>\n",
       "      <td>2</td>\n",
       "      <td>0</td>\n",
       "      <td>0</td>\n",
       "      <td>0</td>\n",
       "      <td>1</td>\n",
       "    </tr>\n",
       "    <tr>\n",
       "      <th>2</th>\n",
       "      <td>495309</td>\n",
       "      <td>2</td>\n",
       "      <td>0</td>\n",
       "      <td>6</td>\n",
       "      <td>0</td>\n",
       "      <td>0</td>\n",
       "      <td>0</td>\n",
       "      <td>1</td>\n",
       "    </tr>\n",
       "    <tr>\n",
       "      <th>3</th>\n",
       "      <td>515181</td>\n",
       "      <td>0</td>\n",
       "      <td>0</td>\n",
       "      <td>0</td>\n",
       "      <td>0</td>\n",
       "      <td>0</td>\n",
       "      <td>0</td>\n",
       "      <td>1</td>\n",
       "    </tr>\n",
       "    <tr>\n",
       "      <th>4</th>\n",
       "      <td>676108</td>\n",
       "      <td>21</td>\n",
       "      <td>0</td>\n",
       "      <td>13</td>\n",
       "      <td>0</td>\n",
       "      <td>0</td>\n",
       "      <td>0</td>\n",
       "      <td>1</td>\n",
       "    </tr>\n",
       "  </tbody>\n",
       "</table>\n",
       "</div>"
      ],
      "text/plain": [
       "  Federal Provider Number  Residents Total Confirmed COVID-19  \\\n",
       "0                  365333                                   0   \n",
       "1                  315254                                   3   \n",
       "2                  495309                                   2   \n",
       "3                  515181                                   0   \n",
       "4                  676108                                  21   \n",
       "\n",
       "   Residents Total COVID-19 Deaths  Staff Total Confirmed COVID-19  \\\n",
       "0                                0                               1   \n",
       "1                                0                               2   \n",
       "2                                0                               6   \n",
       "3                                0                               0   \n",
       "4                                0                              13   \n",
       "\n",
       "   Staff Total COVID-19 Deaths  Government  Non profit  For profit  \n",
       "0                            0           0           0           1  \n",
       "1                            0           0           0           1  \n",
       "2                            0           0           0           1  \n",
       "3                            0           0           0           1  \n",
       "4                            0           0           0           1  "
      ]
     },
     "execution_count": 53,
     "metadata": {},
     "output_type": "execute_result"
    }
   ],
   "source": [
    "df.head()"
   ]
  },
  {
   "cell_type": "code",
   "execution_count": 54,
   "metadata": {},
   "outputs": [
    {
     "data": {
      "text/plain": [
       "[Text(0, 0.5, 'NUMBER OF EACH TYPE OF NHs'), Text(0.5, 0, 'OWNERSHIP')]"
      ]
     },
     "execution_count": 54,
     "metadata": {},
     "output_type": "execute_result"
    },
    {
     "data": {
      "image/png": "[encoded data removed]",
      "text/plain": [
       "<Figure size 432x288 with 1 Axes>"
      ]
     },
     "metadata": {
      "needs_background": "light"
     },
     "output_type": "display_data"
    }
   ],
   "source": [
    "ax=sns.barplot(x=[\"Non profit\", \"For profit\"],y=[df[\"Non profit\"].sum(),df[\"For profit\"].sum()])\n",
    "ax.set(xlabel=\"OWNERSHIP\", ylabel=\"NUMBER OF EACH TYPE OF NHs\")"
   ]
  },
  {
   "cell_type": "markdown",
   "metadata": {},
   "source": [
    "### RESIDENTS"
   ]
  },
  {
   "cell_type": "code",
   "execution_count": 55,
   "metadata": {},
   "outputs": [
    {
     "data": {
      "text/plain": [
       "[Text(0, 0.5, 'Residents Total Confirmed COVID-19'), Text(0.5, 0, 'OWNERSHIP')]"
      ]
     },
     "execution_count": 55,
     "metadata": {},
     "output_type": "execute_result"
    },
    {
     "data": {
      "image/png": "[encoded data removed]",
      "text/plain": [
       "<Figure size 432x288 with 1 Axes>"
      ]
     },
     "metadata": {
      "needs_background": "light"
     },
     "output_type": "display_data"
    }
   ],
   "source": [
    "ax=sns.barplot(x=[\"Non profit\", \"For profit\"],y=[df[df[\"Non profit\"]==1][\"Residents Total Confirmed COVID-19\"].sum(),df[df[\"For profit\"]==1][\"Residents Total Confirmed COVID-19\"].sum()])\n",
    "ax.set(xlabel=\"OWNERSHIP\", ylabel=\"Residents Total Confirmed COVID-19\")"
   ]
  },
  {
   "cell_type": "code",
   "execution_count": 56,
   "metadata": {},
   "outputs": [
    {
     "data": {
      "text/plain": [
       "[Text(0, 0.5, 'Residents Total Confirmed COVID-19 per NH'),\n",
       " Text(0.5, 0, 'OWNERSHIP')]"
      ]
     },
     "execution_count": 56,
     "metadata": {},
     "output_type": "execute_result"
    },
    {
     "data": {
      "image/png": "[encoded data removed]",
      "text/plain": [
       "<Figure size 432x288 with 1 Axes>"
      ]
     },
     "metadata": {
      "needs_background": "light"
     },
     "output_type": "display_data"
    }
   ],
   "source": [
    "ax=sns.barplot(x=[\"Non profit\", \"For profit\"],y=[df[df[\"Non profit\"]==1][\"Residents Total Confirmed COVID-19\"].sum()/df[\"Non profit\"].sum(),df[df[\"For profit\"]==1][\"Residents Total Confirmed COVID-19\"].sum()/df[\"For profit\"].sum()])\n",
    "ax.set(xlabel=\"OWNERSHIP\", ylabel=\"Residents Total Confirmed COVID-19 per NH\")"
   ]
  },
  {
   "cell_type": "code",
   "execution_count": 57,
   "metadata": {},
   "outputs": [],
   "source": [
    "[NP,FP]=[df[df[\"Non profit\"]==1][\"Residents Total Confirmed COVID-19\"].sum()/df[\"Non profit\"].sum(),df[df[\"For profit\"]==1][\"Residents Total Confirmed COVID-19\"].sum()/df[\"For profit\"].sum()]"
   ]
  },
  {
   "cell_type": "code",
   "execution_count": 58,
   "metadata": {},
   "outputs": [
    {
     "name": "stdout",
     "output_type": "stream",
     "text": [
      "The percentage by which the Total Residents With Confirmed COVID-19 per NH in FPs is higher as compared to NFPs is:22.410121866223946\n"
     ]
    }
   ],
   "source": [
    "percent=(FP-NP)*100/(NP+FP)\n",
    "print(\"The percentage by which the Total Residents With Confirmed COVID-19 per NH in FPs is higher as compared to NFPs is:\" + str(percent))"
   ]
  },
  {
   "cell_type": "code",
   "execution_count": 59,
   "metadata": {},
   "outputs": [
    {
     "name": "stdout",
     "output_type": "stream",
     "text": [
      "Chi-Square: 0.9497802880902444\n",
      "Confidence Interval:(6.519088462541545, 12.392792056898672)\n",
      "P-Value:0.32977522939027537\n"
     ]
    }
   ],
   "source": [
    "#CHI SQUARED TEST FOR RESIDENTS\n",
    "Res=np.array((df[df[\"Non profit\"]==1][\"Residents Total Confirmed COVID-19\"].sum()/df[\"Non profit\"].sum(),df[df[\"For profit\"]==1][\"Residents Total Confirmed COVID-19\"].sum()/df[\"For profit\"].sum()))\n",
    "mean=np.mean(Res)\n",
    "sigma=np.std(Res)\n",
    "chisq,p=stats.chisquare(Res)\n",
    "conf_int = stats.norm.interval(0.95, loc=mean, scale=sigma / np.sqrt(len(Res)))\n",
    "print(\"Chi-Square: \"+str(chisq))\n",
    "print(\"Confidence Interval:\" + str(conf_int))\n",
    "print(\"P-Value:\" + str(p))"
   ]
  },
  {
   "cell_type": "markdown",
   "metadata": {},
   "source": [
    "#### INFERENCE: The p value of the Chi-Squared Test for the Residents is quite big (p=0.329). This suggests that we can safely accept the null hypothesis as being true and reject the alternate hypothesis.  This is also reflected in the sharpness of the 95% Confidence Interval. This means that the number of cases per NH is somewhat close to the expected mean in both the NPs and the FPs. \n",
    "\n",
    "#### Looking at the trends visually using the bar plots, it is very clear that the average number of cases per NH is higher in the FPs by almost 22% in comparison to the NPs."
   ]
  },
  {
   "cell_type": "markdown",
   "metadata": {},
   "source": [
    "### HCW STAFF"
   ]
  },
  {
   "cell_type": "code",
   "execution_count": 60,
   "metadata": {},
   "outputs": [
    {
     "data": {
      "text/plain": [
       "[Text(0, 0.5, 'Staff Total Confirmed COVID-19'), Text(0.5, 0, 'OWNERSHIP')]"
      ]
     },
     "execution_count": 60,
     "metadata": {},
     "output_type": "execute_result"
    },
    {
     "data": {
      "image/png": "[encoded data removed]",
      "text/plain": [
       "<Figure size 432x288 with 1 Axes>"
      ]
     },
     "metadata": {
      "needs_background": "light"
     },
     "output_type": "display_data"
    }
   ],
   "source": [
    "ax=sns.barplot(x=[\"Non profit\", \"For profit\"],y=[df[df[\"Non profit\"]==1][\"Staff Total Confirmed COVID-19\"].sum(),df[df[\"For profit\"]==1][\"Staff Total Confirmed COVID-19\"].sum()])\n",
    "ax.set(xlabel=\"OWNERSHIP\", ylabel=\"Staff Total Confirmed COVID-19\")"
   ]
  },
  {
   "cell_type": "code",
   "execution_count": 61,
   "metadata": {},
   "outputs": [
    {
     "data": {
      "text/plain": [
       "[Text(0, 0.5, 'Staff Total Confirmed COVID-19 per NH'),\n",
       " Text(0.5, 0, 'OWNERSHIP')]"
      ]
     },
     "execution_count": 61,
     "metadata": {},
     "output_type": "execute_result"
    },
    {
     "data": {
      "image/png": "[encoded data removed]",
      "text/plain": [
       "<Figure size 432x288 with 1 Axes>"
      ]
     },
     "metadata": {
      "needs_background": "light"
     },
     "output_type": "display_data"
    }
   ],
   "source": [
    "ax=sns.barplot(x=[\"Non profit\", \"For profit\"],y=[df[df[\"Non profit\"]==1][\"Staff Total Confirmed COVID-19\"].sum()/df[\"Non profit\"].sum(),df[df[\"For profit\"]==1][\"Staff Total Confirmed COVID-19\"].sum()/df[\"For profit\"].sum()])\n",
    "ax.set(xlabel=\"OWNERSHIP\", ylabel=\"Staff Total Confirmed COVID-19 per NH\")"
   ]
  },
  {
   "cell_type": "code",
   "execution_count": 62,
   "metadata": {},
   "outputs": [],
   "source": [
    "[NP,FP]=[df[df[\"Non profit\"]==1][\"Staff Total Confirmed COVID-19\"].sum()/df[\"Non profit\"].sum(),df[df[\"For profit\"]==1][\"Staff Total Confirmed COVID-19\"].sum()/df[\"For profit\"].sum()]"
   ]
  },
  {
   "cell_type": "code",
   "execution_count": 63,
   "metadata": {},
   "outputs": [
    {
     "name": "stdout",
     "output_type": "stream",
     "text": [
      "The percentage by which the Total Staff With Confirmed COVID-19 per NH in FPs is higher as compared to NFPs is:4.86295830336438\n"
     ]
    }
   ],
   "source": [
    "percent=(FP-NP)*100/(NP+FP)\n",
    "print(\"The percentage by which the Total Staff With Confirmed COVID-19 per NH in FPs is higher as compared to NFPs is:\" + str(percent))"
   ]
  },
  {
   "cell_type": "code",
   "execution_count": 64,
   "metadata": {},
   "outputs": [
    {
     "name": "stdout",
     "output_type": "stream",
     "text": [
      "Chi-Square: 0.0352346709705116\n",
      "Confidence Interval:(6.947626160258009, 7.951785813733773)\n",
      "P-Value:0.8511047699233885\n"
     ]
    }
   ],
   "source": [
    "#CHI SQUARED TEST FOR STAFF\n",
    "Staff=np.array((df[df[\"Non profit\"]==1][\"Staff Total Confirmed COVID-19\"].sum()/df[\"Non profit\"].sum(),df[df[\"For profit\"]==1][\"Staff Total Confirmed COVID-19\"].sum()/df[\"For profit\"].sum()))\n",
    "mean=np.mean(Staff)\n",
    "sigma=np.std(Staff)\n",
    "chisq,p=stats.chisquare(Staff)\n",
    "conf_int = stats.norm.interval(0.95, loc=mean, scale=sigma / np.sqrt(len(Staff)))\n",
    "print(\"Chi-Square: \"+str(chisq))\n",
    "print(\"Confidence Interval:\" + str(conf_int))\n",
    "print(\"P-Value:\" + str(p))"
   ]
  },
  {
   "cell_type": "markdown",
   "metadata": {},
   "source": [
    "#### INFERENCE: The p value of the Chi-Squared Test for the Staff members is extremely large (p=0.851). This suggests that we can safely accept the null hypothesis as being true and reject the alternate hypothesis.  This is also reflected in the acute sharpness of the 95% Confidence Interval. This means that the number of cases per NH is very close to the expected mean in both the NPs and the FPs. \n",
    "\n",
    "#### Looking at the trends visually using the bar plots, it is very clear that the average number of cases per NH is higher in the FPs by a slight margin of 4.86% in comparison to the NPs."
   ]
  },
  {
   "cell_type": "code",
   "execution_count": null,
   "metadata": {},
   "outputs": [],
   "source": []
  },
  {
   "cell_type": "markdown",
   "metadata": {},
   "source": [
    "### QUESTION 2"
   ]
  },
  {
   "cell_type": "code",
   "execution_count": 65,
   "metadata": {},
   "outputs": [],
   "source": [
    "df=df_CONTINUOUS[['Federal Provider Number','Residents Total Confirmed COVID-19','Staff Total Confirmed COVID-19', 'Overall Rating']]"
   ]
  },
  {
   "cell_type": "code",
   "execution_count": 66,
   "metadata": {},
   "outputs": [
    {
     "data": {
      "text/html": [
       "<div>\n",
       "<style scoped>\n",
       "    .dataframe tbody tr th:only-of-type {\n",
       "        vertical-align: middle;\n",
       "    }\n",
       "\n",
       "    .dataframe tbody tr th {\n",
       "        vertical-align: top;\n",
       "    }\n",
       "\n",
       "    .dataframe thead th {\n",
       "        text-align: right;\n",
       "    }\n",
       "</style>\n",
       "<table border=\"1\" class=\"dataframe\">\n",
       "  <thead>\n",
       "    <tr style=\"text-align: right;\">\n",
       "      <th></th>\n",
       "      <th>Federal Provider Number</th>\n",
       "      <th>Residents Total Confirmed COVID-19</th>\n",
       "      <th>Staff Total Confirmed COVID-19</th>\n",
       "      <th>Overall Rating</th>\n",
       "    </tr>\n",
       "  </thead>\n",
       "  <tbody>\n",
       "    <tr>\n",
       "      <th>0</th>\n",
       "      <td>365333</td>\n",
       "      <td>0</td>\n",
       "      <td>1</td>\n",
       "      <td>4</td>\n",
       "    </tr>\n",
       "    <tr>\n",
       "      <th>1</th>\n",
       "      <td>315254</td>\n",
       "      <td>3</td>\n",
       "      <td>2</td>\n",
       "      <td>5</td>\n",
       "    </tr>\n",
       "    <tr>\n",
       "      <th>2</th>\n",
       "      <td>495309</td>\n",
       "      <td>2</td>\n",
       "      <td>6</td>\n",
       "      <td>2</td>\n",
       "    </tr>\n",
       "    <tr>\n",
       "      <th>3</th>\n",
       "      <td>515181</td>\n",
       "      <td>0</td>\n",
       "      <td>0</td>\n",
       "      <td>4</td>\n",
       "    </tr>\n",
       "    <tr>\n",
       "      <th>4</th>\n",
       "      <td>676108</td>\n",
       "      <td>21</td>\n",
       "      <td>13</td>\n",
       "      <td>2</td>\n",
       "    </tr>\n",
       "  </tbody>\n",
       "</table>\n",
       "</div>"
      ],
      "text/plain": [
       "  Federal Provider Number  Residents Total Confirmed COVID-19  \\\n",
       "0                  365333                                   0   \n",
       "1                  315254                                   3   \n",
       "2                  495309                                   2   \n",
       "3                  515181                                   0   \n",
       "4                  676108                                  21   \n",
       "\n",
       "   Staff Total Confirmed COVID-19  Overall Rating  \n",
       "0                               1               4  \n",
       "1                               2               5  \n",
       "2                               6               2  \n",
       "3                               0               4  \n",
       "4                              13               2  "
      ]
     },
     "execution_count": 66,
     "metadata": {},
     "output_type": "execute_result"
    }
   ],
   "source": [
    "df.head()"
   ]
  },
  {
   "cell_type": "code",
   "execution_count": 67,
   "metadata": {},
   "outputs": [
    {
     "data": {
      "text/plain": [
       "Overall Rating\n",
       "1    1942\n",
       "2    2510\n",
       "3    2321\n",
       "4    2789\n",
       "5    3185\n",
       "Name: Federal Provider Number, dtype: int64"
      ]
     },
     "execution_count": 67,
     "metadata": {},
     "output_type": "execute_result"
    }
   ],
   "source": [
    "df.groupby(\"Overall Rating\")[\"Federal Provider Number\"].count()"
   ]
  },
  {
   "cell_type": "code",
   "execution_count": 68,
   "metadata": {},
   "outputs": [
    {
     "data": {
      "text/plain": [
       "[Text(0, 0.5, 'Number of NHs by Rating')]"
      ]
     },
     "execution_count": 68,
     "metadata": {},
     "output_type": "execute_result"
    },
    {
     "data": {
      "image/png": "[encoded data removed]",
      "text/plain": [
       "<Figure size 432x288 with 1 Axes>"
      ]
     },
     "metadata": {
      "needs_background": "light"
     },
     "output_type": "display_data"
    }
   ],
   "source": [
    "ax=sns.barplot(x=df.groupby(\"Overall Rating\")[\"Federal Provider Number\"].count().index, y=df.groupby(\"Overall Rating\")[\"Federal Provider Number\"].count())\n",
    "ax.set(ylabel=\"Number of NHs by Rating\")"
   ]
  },
  {
   "cell_type": "markdown",
   "metadata": {},
   "source": [
    "### RESIDENTS"
   ]
  },
  {
   "cell_type": "code",
   "execution_count": 69,
   "metadata": {},
   "outputs": [],
   "source": [
    "Res=df.groupby(\"Overall Rating\")[\"Residents Total Confirmed COVID-19\"].sum()/df.groupby(\"Overall Rating\")[\"Residents Total Confirmed COVID-19\"].count()"
   ]
  },
  {
   "cell_type": "code",
   "execution_count": 70,
   "metadata": {},
   "outputs": [
    {
     "data": {
      "text/plain": [
       "[Text(0, 0.5, 'Residents Total Confirmed COVID-19 per NH')]"
      ]
     },
     "execution_count": 70,
     "metadata": {},
     "output_type": "execute_result"
    },
    {
     "data": {
      "image/png": "[encoded data removed]",
      "text/plain": [
       "<Figure size 432x288 with 1 Axes>"
      ]
     },
     "metadata": {
      "needs_background": "light"
     },
     "output_type": "display_data"
    }
   ],
   "source": [
    "ax=sns.barplot(x=Res.index, y=Res)\n",
    "ax.set(ylabel=\"Residents Total Confirmed COVID-19 per NH\")"
   ]
  },
  {
   "cell_type": "code",
   "execution_count": 71,
   "metadata": {},
   "outputs": [
    {
     "name": "stdout",
     "output_type": "stream",
     "text": [
      "Chi-Square: 1.890098306936185\n",
      "Confidence Interval:(8.817624207145855, 12.321764569885886)\n",
      "P-Value:0.7559637112013953\n"
     ]
    }
   ],
   "source": [
    "#Chi-Squared Test for Residents\n",
    "Res=np.array((df.groupby(\"Overall Rating\")[\"Residents Total Confirmed COVID-19\"].sum()/df.groupby(\"Overall Rating\")[\"Residents Total Confirmed COVID-19\"].count()))\n",
    "mean=np.mean(Res)\n",
    "sigma=np.std(Res)\n",
    "chisq,p=stats.chisquare(Res)\n",
    "conf_int = stats.norm.interval(0.95, loc=mean, scale=sigma / np.sqrt(len(Res)))\n",
    "print(\"Chi-Square: \"+str(chisq))\n",
    "print(\"Confidence Interval:\" + str(conf_int))\n",
    "print(\"P-Value:\" + str(p))"
   ]
  },
  {
   "cell_type": "markdown",
   "metadata": {},
   "source": [
    "#### INFERENCE: The p value of the Chi-Squared Test for the Residents is quite large (p=0.755). This suggests that we can safely accept the null hypothesis as being true and reject the alternate hypothesis.  This is also reflected in the sharpness of the 95% Confidence Interval. This means that the number of cases per NH is very close to the expected mean in the NHs across all the Overall Ratings. \n",
    "\n",
    "#### Looking at the trends visually using the bar plots, it is very clear that the average number of cases per NH the least in 5-star NHs. The trend is consistent, showing that higher the rating lower is the average number of cases per NH."
   ]
  },
  {
   "cell_type": "markdown",
   "metadata": {},
   "source": [
    "### HCW STAFF"
   ]
  },
  {
   "cell_type": "code",
   "execution_count": 72,
   "metadata": {},
   "outputs": [],
   "source": [
    "Hcw=df.groupby(\"Overall Rating\")[\"Staff Total Confirmed COVID-19\"].sum()/df.groupby(\"Overall Rating\")[\"Staff Total Confirmed COVID-19\"].count()"
   ]
  },
  {
   "cell_type": "code",
   "execution_count": 73,
   "metadata": {},
   "outputs": [
    {
     "data": {
      "text/plain": [
       "<matplotlib.axes._subplots.AxesSubplot at 0x25702ac8448>"
      ]
     },
     "execution_count": 73,
     "metadata": {},
     "output_type": "execute_result"
    },
    {
     "data": {
      "image/png": "[encoded data removed]",
      "text/plain": [
       "<Figure size 432x288 with 1 Axes>"
      ]
     },
     "metadata": {
      "needs_background": "light"
     },
     "output_type": "display_data"
    }
   ],
   "source": [
    "sns.barplot(x=Hcw.index, y=Hcw)"
   ]
  },
  {
   "cell_type": "code",
   "execution_count": 74,
   "metadata": {},
   "outputs": [
    {
     "name": "stdout",
     "output_type": "stream",
     "text": [
      "Chi-Square: 0.1363819342564082\n",
      "Confidence Interval:(7.180500175987667, 7.97756452699414)\n",
      "P-Value:0.9977780378187658\n"
     ]
    }
   ],
   "source": [
    "#Chi Squared Test for Hcw\n",
    "Hcw=np.array((df.groupby(\"Overall Rating\")[\"Staff Total Confirmed COVID-19\"].sum()/df.groupby(\"Overall Rating\")[\"Staff Total Confirmed COVID-19\"].count()))\n",
    "mean=np.mean(Hcw)\n",
    "sigma=np.std(Hcw)\n",
    "chisq,p=stats.chisquare(Hcw)\n",
    "conf_int = stats.norm.interval(0.95, loc=mean, scale=sigma / np.sqrt(len(Hcw)))\n",
    "print(\"Chi-Square: \"+str(chisq))\n",
    "print(\"Confidence Interval:\" + str(conf_int))\n",
    "print(\"P-Value:\" + str(p))"
   ]
  },
  {
   "cell_type": "markdown",
   "metadata": {},
   "source": [
    "#### INFERENCE: The p value of the Chi-Squared Test for the Staff members is extremely large (p=0.997). This suggests that we can safely accept the null hypothesis as being true and reject the alternate hypothesis.  This is also reflected in the acute sharpness of the 95% Confidence Interval. This means that the number of cases per NH is very close to the expected mean in the NHs across all the Overall Ratings. \n",
    "\n",
    "#### Looking at the trends visually using the bar plots, it is very clear that the average number of cases per NH the least in 5-star NHs. There is a small increase from 1-star to 2-star but otherwise the trend is consistent, showing that higher the rating lower is the average number of cases per NH."
   ]
  },
  {
   "cell_type": "code",
   "execution_count": null,
   "metadata": {},
   "outputs": [],
   "source": []
  },
  {
   "cell_type": "markdown",
   "metadata": {},
   "source": [
    "### QUESTION 3"
   ]
  },
  {
   "cell_type": "code",
   "execution_count": 194,
   "metadata": {},
   "outputs": [],
   "source": [
    "df=df_Q3"
   ]
  },
  {
   "cell_type": "code",
   "execution_count": 196,
   "metadata": {},
   "outputs": [
    {
     "data": {
      "text/html": [
       "<div>\n",
       "<style scoped>\n",
       "    .dataframe tbody tr th:only-of-type {\n",
       "        vertical-align: middle;\n",
       "    }\n",
       "\n",
       "    .dataframe tbody tr th {\n",
       "        vertical-align: top;\n",
       "    }\n",
       "\n",
       "    .dataframe thead th {\n",
       "        text-align: right;\n",
       "    }\n",
       "</style>\n",
       "<table border=\"1\" class=\"dataframe\">\n",
       "  <thead>\n",
       "    <tr style=\"text-align: right;\">\n",
       "      <th></th>\n",
       "      <th>FACILITY NAME</th>\n",
       "      <th>SELF_REPORTED</th>\n",
       "      <th>CMS_REPORTED</th>\n",
       "      <th>CUMULATIVE POSITIVE RESIDENTS</th>\n",
       "      <th>CUMULATIVE POSITIVE HCW</th>\n",
       "    </tr>\n",
       "  </thead>\n",
       "  <tbody>\n",
       "    <tr>\n",
       "      <th>0</th>\n",
       "      <td>REDLANDS HEALTHCARE CENTER</td>\n",
       "      <td>3.0</td>\n",
       "      <td>5.0</td>\n",
       "      <td>59</td>\n",
       "      <td>39</td>\n",
       "    </tr>\n",
       "    <tr>\n",
       "      <th>1</th>\n",
       "      <td>COUNTRY MANOR HEALTHCARE</td>\n",
       "      <td>3.0</td>\n",
       "      <td>5.0</td>\n",
       "      <td>66</td>\n",
       "      <td>30</td>\n",
       "    </tr>\n",
       "    <tr>\n",
       "      <th>2</th>\n",
       "      <td>EISENBERG VILLAGE</td>\n",
       "      <td>3.0</td>\n",
       "      <td>4.0</td>\n",
       "      <td>21</td>\n",
       "      <td>29</td>\n",
       "    </tr>\n",
       "    <tr>\n",
       "      <th>3</th>\n",
       "      <td>FAIRFIELD POST-ACUTE REHAB</td>\n",
       "      <td>4.0</td>\n",
       "      <td>5.0</td>\n",
       "      <td>0</td>\n",
       "      <td>0</td>\n",
       "    </tr>\n",
       "    <tr>\n",
       "      <th>4</th>\n",
       "      <td>MOUNT SAN ANTONIO GARDENS</td>\n",
       "      <td>3.0</td>\n",
       "      <td>5.0</td>\n",
       "      <td>&lt;11</td>\n",
       "      <td>&lt;11</td>\n",
       "    </tr>\n",
       "  </tbody>\n",
       "</table>\n",
       "</div>"
      ],
      "text/plain": [
       "                FACILITY NAME  SELF_REPORTED  CMS_REPORTED  \\\n",
       "0  REDLANDS HEALTHCARE CENTER            3.0           5.0   \n",
       "1    COUNTRY MANOR HEALTHCARE            3.0           5.0   \n",
       "2           EISENBERG VILLAGE            3.0           4.0   \n",
       "3  FAIRFIELD POST-ACUTE REHAB            4.0           5.0   \n",
       "4   MOUNT SAN ANTONIO GARDENS            3.0           5.0   \n",
       "\n",
       "  CUMULATIVE POSITIVE RESIDENTS  CUMULATIVE POSITIVE HCW   \n",
       "0                             59                       39  \n",
       "1                             66                       30  \n",
       "2                             21                       29  \n",
       "3                              0                        0  \n",
       "4                            <11                      <11  "
      ]
     },
     "execution_count": 196,
     "metadata": {},
     "output_type": "execute_result"
    }
   ],
   "source": [
    "df.head()"
   ]
  },
  {
   "cell_type": "code",
   "execution_count": 197,
   "metadata": {},
   "outputs": [],
   "source": [
    "df.loc[df[\"CUMULATIVE POSITIVE RESIDENTS \"] == \"<11\", \"CUMULATIVE POSITIVE RESIDENTS \"] = \"11\"\n",
    "df[\"CUMULATIVE POSITIVE RESIDENTS \"] = df[\"CUMULATIVE POSITIVE RESIDENTS \"].astype(int)\n",
    "\n",
    "df.loc[df[\"CUMULATIVE POSITIVE HCW \"] == \"<11\", \"CUMULATIVE POSITIVE HCW \"] = \"11\"\n",
    "df[\"CUMULATIVE POSITIVE HCW \"] = df[\"CUMULATIVE POSITIVE HCW \"].astype(int)"
   ]
  },
  {
   "cell_type": "code",
   "execution_count": 198,
   "metadata": {},
   "outputs": [],
   "source": [
    "df.dropna(inplace=True)"
   ]
  },
  {
   "cell_type": "code",
   "execution_count": 199,
   "metadata": {},
   "outputs": [
    {
     "data": {
      "text/plain": [
       "CMS_REPORTED\n",
       "1.0     16\n",
       "2.0     39\n",
       "3.0    117\n",
       "4.0    218\n",
       "5.0    609\n",
       "Name: CUMULATIVE POSITIVE RESIDENTS , dtype: int64"
      ]
     },
     "execution_count": 199,
     "metadata": {},
     "output_type": "execute_result"
    }
   ],
   "source": [
    "df.groupby(\"CMS_REPORTED\")[\"CUMULATIVE POSITIVE RESIDENTS \"].count()"
   ]
  },
  {
   "cell_type": "code",
   "execution_count": 201,
   "metadata": {},
   "outputs": [
    {
     "data": {
      "text/plain": [
       "SELF_REPORTED\n",
       "1.0    203\n",
       "2.0    238\n",
       "3.0    228\n",
       "4.0    231\n",
       "5.0     99\n",
       "Name: CUMULATIVE POSITIVE RESIDENTS , dtype: int64"
      ]
     },
     "execution_count": 201,
     "metadata": {},
     "output_type": "execute_result"
    }
   ],
   "source": [
    "df.groupby(\"SELF_REPORTED\")[\"CUMULATIVE POSITIVE RESIDENTS \"].count()"
   ]
  },
  {
   "cell_type": "code",
   "execution_count": 204,
   "metadata": {},
   "outputs": [
    {
     "name": "stdout",
     "output_type": "stream",
     "text": [
      "t-statistic: -31.442139612861396\n",
      "p-value: 5.155424742253472e-174\n"
     ]
    }
   ],
   "source": [
    "#Performing the T-Test to check whether the 2 survey ratings are consistent\n",
    "#NULL-HYPOTHESIS, H0: BOTH THE RATINGS ARE SIMILAR\n",
    "#ALTERNATE HYPOTHESIS H1: THERE IS SIGNIFICANT DISCREPANCY BETWEEN THE TWO RATINGS\n",
    "\n",
    "tstatistic,p_value=stats.ttest_ind(df.SELF_REPORTED,df.CMS_REPORTED,equal_var=False)\n",
    "print('t-statistic: '+str(tstatistic))\n",
    "print('p-value: '+str(p_value))"
   ]
  },
  {
   "cell_type": "markdown",
   "metadata": {},
   "source": [
    "#### INFERENCE: The extremely small value of p-value tells us that we can reject the Null Hypothesis and accept the Alternate Hypothesis.\n",
    "\n",
    "#### The amount of discrepancy between SELF_REPORTD and CMS_REPORTED RATINGS is very significant."
   ]
  },
  {
   "cell_type": "markdown",
   "metadata": {},
   "source": [
    "### RESIDENTS"
   ]
  },
  {
   "cell_type": "code",
   "execution_count": 206,
   "metadata": {},
   "outputs": [],
   "source": [
    "Res_SELF=df.groupby(\"SELF_REPORTED\")[\"CUMULATIVE POSITIVE RESIDENTS \"].sum()/df.groupby(\"SELF_REPORTED\")[\"CUMULATIVE POSITIVE RESIDENTS \"].count()\n",
    "Res_CMS=df.groupby(\"CMS_REPORTED\")[\"CUMULATIVE POSITIVE RESIDENTS \"].sum()/df.groupby(\"CMS_REPORTED\")[\"CUMULATIVE POSITIVE RESIDENTS \"].count()"
   ]
  },
  {
   "cell_type": "code",
   "execution_count": 210,
   "metadata": {},
   "outputs": [
    {
     "data": {
      "text/plain": [
       "[Text(0, 0.5, 'CUMULATIVE POSITIVE RESIDENTS PER NH')]"
      ]
     },
     "execution_count": 210,
     "metadata": {},
     "output_type": "execute_result"
    },
    {
     "data": {
      "image/png": "[encoded data removed]",
      "text/plain": [
       "<Figure size 432x288 with 1 Axes>"
      ]
     },
     "metadata": {
      "needs_background": "light"
     },
     "output_type": "display_data"
    }
   ],
   "source": [
    "ax=sns.barplot(x=Res_SELF.index,y=Res_SELF)\n",
    "ax.set(ylabel='CUMULATIVE POSITIVE RESIDENTS PER NH')"
   ]
  },
  {
   "cell_type": "code",
   "execution_count": 211,
   "metadata": {},
   "outputs": [
    {
     "data": {
      "text/plain": [
       "[Text(0, 0.5, 'CUMULATIVE POSITIVE RESIDENTS PER NH')]"
      ]
     },
     "execution_count": 211,
     "metadata": {},
     "output_type": "execute_result"
    },
    {
     "data": {
      "image/png": "[encoded data removed]",
      "text/plain": [
       "<Figure size 432x288 with 1 Axes>"
      ]
     },
     "metadata": {
      "needs_background": "light"
     },
     "output_type": "display_data"
    }
   ],
   "source": [
    "ax=sns.barplot(x=Res_CMS.index,y=Res_CMS)\n",
    "ax.set(ylabel='CUMULATIVE POSITIVE RESIDENTS PER NH')"
   ]
  },
  {
   "cell_type": "markdown",
   "metadata": {},
   "source": [
    "#### INFERENCE: The bar plots suggest that it is visually very clear that there is a vast difference between the trend of cases per NH based on the two Ratings. "
   ]
  },
  {
   "cell_type": "code",
   "execution_count": 212,
   "metadata": {},
   "outputs": [
    {
     "name": "stdout",
     "output_type": "stream",
     "text": [
      "Chi-Square: 16.634705562986134\n",
      "Confidence Interval:(11.092264848692462, 24.600197960552666)\n",
      "P-Value:0.002275684871508665\n"
     ]
    }
   ],
   "source": [
    "#CHI SQUARED TEST FOR RESIDENTS\n",
    "Res_Self=np.array((df.groupby(\"SELF_REPORTED\")[\"CUMULATIVE POSITIVE RESIDENTS \"].sum()/df.groupby(\"SELF_REPORTED\")[\"CUMULATIVE POSITIVE RESIDENTS \"].count()))\n",
    "mean=np.mean(Res_Self)\n",
    "sigma=np.std(Res_Self)\n",
    "chisq,p=stats.chisquare(Res_Self)\n",
    "conf_int = stats.norm.interval(0.95, loc=mean, scale=sigma / np.sqrt(len(Res_Self)))\n",
    "print(\"Chi-Square: \"+str(chisq))\n",
    "print(\"Confidence Interval:\" + str(conf_int))\n",
    "print(\"P-Value:\" + str(p))"
   ]
  },
  {
   "cell_type": "code",
   "execution_count": null,
   "metadata": {},
   "outputs": [],
   "source": [
    "#### INFERENCE: The extremely small value of p-value (p<0.05) suggests that the there is a vast difference between the values and the expected values. This is also  "
   ]
  },
  {
   "cell_type": "code",
   "execution_count": 213,
   "metadata": {},
   "outputs": [
    {
     "name": "stdout",
     "output_type": "stream",
     "text": [
      "Chi-Square: 6.035279758479803\n",
      "Confidence Interval:(13.794604317650435, 21.935219486967735)\n",
      "P-Value:0.19652900631484535\n"
     ]
    }
   ],
   "source": [
    "Res_CMS=np.array((df.groupby(\"CMS_REPORTED\")[\"CUMULATIVE POSITIVE RESIDENTS \"].sum()/df.groupby(\"CMS_REPORTED\")[\"CUMULATIVE POSITIVE RESIDENTS \"].count()))\n",
    "mean=np.mean(Res_CMS)\n",
    "sigma=np.std(Res_CMS)\n",
    "chisq,p=stats.chisquare(Res_CMS)\n",
    "conf_int = stats.norm.interval(0.95, loc=mean, scale=sigma / np.sqrt(len(Res_CMS)))\n",
    "print(\"Chi-Square: \"+str(chisq))\n",
    "print(\"Confidence Interval:\" + str(conf_int))\n",
    "print(\"P-Value:\" + str(p))"
   ]
  },
  {
   "cell_type": "code",
   "execution_count": null,
   "metadata": {},
   "outputs": [],
   "source": []
  },
  {
   "cell_type": "markdown",
   "metadata": {},
   "source": [
    "### QUESTION 4"
   ]
  },
  {
   "cell_type": "code",
   "execution_count": 75,
   "metadata": {},
   "outputs": [
    {
     "data": {
      "text/plain": [
       "Index(['Federal Provider Number', 'Provider Zip Code', 'Government',\n",
       "       'Non profit', 'For profit', 'Young (<33% Percentile)',\n",
       "       'Medium (33%-66% Percentile)', 'Old (>66% Percentile)',\n",
       "       '4- or 5-Star Overall Rating', '3-Star Overall Rating',\n",
       "       '1- or 2-Star Overall Rating',\n",
       "       '0.75 RN staffing hours per resident day or higher',\n",
       "       'Under 0.75 RN staffing hours per resident day ',\n",
       "       '4.1 nurse staffing hours per resident day or higher',\n",
       "       'Under 4.1 nurse staffing hours per resident day',\n",
       "       'No federal deficiencies', 'Federal deficiencies',\n",
       "       'Serious federal deficiencies',\n",
       "       'No Confirmed COVID-19 Cases among residents',\n",
       "       'Confirmed COVID-19 Cases among residents (1-<95% Percentile)',\n",
       "       'Confirmed COVID-19 Cases among residents (>=95% Percentile)',\n",
       "       'No Confirmed COVID-19 Cases among staff',\n",
       "       'Confirmed COVID-19 Cases among staff (1-<95% Percentile)',\n",
       "       'Confirmed COVID-19 Cases among staff (>=95% Percentile)',\n",
       "       'No Confirmed COVID-19 Deaths among residents',\n",
       "       'Confirmed COVID-19 Deaths among residents (1-<95% Percentile)',\n",
       "       'Confirmed COVID-19 Deaths among residents (>=95% Percentile)',\n",
       "       'No Confirmed COVID-19 Deaths among staff',\n",
       "       'Confirmed COVID-19 Deaths among staff (>0)',\n",
       "       'Facility size Small (<33% Percentile beds)',\n",
       "       'Facility size Medium (33%-66% Percentile beds)',\n",
       "       'Facility size Large (>66% Percentile beds)',\n",
       "       'Low occupancy rate (<33% Percentile)',\n",
       "       'Medium occupancy rate (33%-66% Percentile)',\n",
       "       'High occupancy rate (>66% Percentile)', 'Low Medicaid share (<Median)',\n",
       "       'High Medicaid share (>=Median)', 'No chain affiliation',\n",
       "       'Chain affiliation', 'Low racial or ethnic minority share (<Median)',\n",
       "       'High racial or ethnic minority share (>=Median)'],\n",
       "      dtype='object')"
      ]
     },
     "execution_count": 75,
     "metadata": {},
     "output_type": "execute_result"
    }
   ],
   "source": [
    "df_NH.columns"
   ]
  },
  {
   "cell_type": "code",
   "execution_count": 76,
   "metadata": {},
   "outputs": [],
   "source": [
    "df_A=df_NH[['Federal Provider Number','No federal deficiencies', 'Federal deficiencies','Serious federal deficiencies']]"
   ]
  },
  {
   "cell_type": "code",
   "execution_count": 77,
   "metadata": {},
   "outputs": [],
   "source": [
    "df_B=df_CONTINUOUS[['Federal Provider Number','Residents Total Confirmed COVID-19','Staff Total Confirmed COVID-19']]"
   ]
  },
  {
   "cell_type": "code",
   "execution_count": 78,
   "metadata": {},
   "outputs": [],
   "source": [
    "df=df_A.merge(df_B, on=\"Federal Provider Number\", how='inner')"
   ]
  },
  {
   "cell_type": "code",
   "execution_count": 79,
   "metadata": {},
   "outputs": [
    {
     "data": {
      "text/html": [
       "<div>\n",
       "<style scoped>\n",
       "    .dataframe tbody tr th:only-of-type {\n",
       "        vertical-align: middle;\n",
       "    }\n",
       "\n",
       "    .dataframe tbody tr th {\n",
       "        vertical-align: top;\n",
       "    }\n",
       "\n",
       "    .dataframe thead th {\n",
       "        text-align: right;\n",
       "    }\n",
       "</style>\n",
       "<table border=\"1\" class=\"dataframe\">\n",
       "  <thead>\n",
       "    <tr style=\"text-align: right;\">\n",
       "      <th></th>\n",
       "      <th>Federal Provider Number</th>\n",
       "      <th>No federal deficiencies</th>\n",
       "      <th>Federal deficiencies</th>\n",
       "      <th>Serious federal deficiencies</th>\n",
       "      <th>Residents Total Confirmed COVID-19</th>\n",
       "      <th>Staff Total Confirmed COVID-19</th>\n",
       "    </tr>\n",
       "  </thead>\n",
       "  <tbody>\n",
       "    <tr>\n",
       "      <th>0</th>\n",
       "      <td>365333</td>\n",
       "      <td>0</td>\n",
       "      <td>19</td>\n",
       "      <td>0</td>\n",
       "      <td>0</td>\n",
       "      <td>1</td>\n",
       "    </tr>\n",
       "    <tr>\n",
       "      <th>1</th>\n",
       "      <td>315254</td>\n",
       "      <td>0</td>\n",
       "      <td>5</td>\n",
       "      <td>0</td>\n",
       "      <td>3</td>\n",
       "      <td>2</td>\n",
       "    </tr>\n",
       "    <tr>\n",
       "      <th>2</th>\n",
       "      <td>495309</td>\n",
       "      <td>0</td>\n",
       "      <td>33</td>\n",
       "      <td>2</td>\n",
       "      <td>2</td>\n",
       "      <td>6</td>\n",
       "    </tr>\n",
       "    <tr>\n",
       "      <th>3</th>\n",
       "      <td>515181</td>\n",
       "      <td>0</td>\n",
       "      <td>29</td>\n",
       "      <td>2</td>\n",
       "      <td>0</td>\n",
       "      <td>0</td>\n",
       "    </tr>\n",
       "    <tr>\n",
       "      <th>4</th>\n",
       "      <td>676108</td>\n",
       "      <td>0</td>\n",
       "      <td>28</td>\n",
       "      <td>0</td>\n",
       "      <td>21</td>\n",
       "      <td>13</td>\n",
       "    </tr>\n",
       "  </tbody>\n",
       "</table>\n",
       "</div>"
      ],
      "text/plain": [
       "  Federal Provider Number  No federal deficiencies  Federal deficiencies  \\\n",
       "0                  365333                        0                    19   \n",
       "1                  315254                        0                     5   \n",
       "2                  495309                        0                    33   \n",
       "3                  515181                        0                    29   \n",
       "4                  676108                        0                    28   \n",
       "\n",
       "   Serious federal deficiencies  Residents Total Confirmed COVID-19  \\\n",
       "0                             0                                   0   \n",
       "1                             0                                   3   \n",
       "2                             2                                   2   \n",
       "3                             2                                   0   \n",
       "4                             0                                  21   \n",
       "\n",
       "   Staff Total Confirmed COVID-19  \n",
       "0                               1  \n",
       "1                               2  \n",
       "2                               6  \n",
       "3                               0  \n",
       "4                              13  "
      ]
     },
     "execution_count": 79,
     "metadata": {},
     "output_type": "execute_result"
    }
   ],
   "source": [
    "df.head()"
   ]
  },
  {
   "cell_type": "code",
   "execution_count": 80,
   "metadata": {},
   "outputs": [
    {
     "data": {
      "text/plain": [
       "array([0, 1], dtype=int64)"
      ]
     },
     "execution_count": 80,
     "metadata": {},
     "output_type": "execute_result"
    }
   ],
   "source": [
    "df[\"No federal deficiencies\"].unique()"
   ]
  },
  {
   "cell_type": "markdown",
   "metadata": {},
   "source": [
    "### RESIDENTS"
   ]
  },
  {
   "cell_type": "code",
   "execution_count": 81,
   "metadata": {},
   "outputs": [],
   "source": [
    "No_fed=df.groupby('No federal deficiencies')['Residents Total Confirmed COVID-19'].sum()/df.groupby('No federal deficiencies')['Residents Total Confirmed COVID-19'].count()"
   ]
  },
  {
   "cell_type": "code",
   "execution_count": 82,
   "metadata": {},
   "outputs": [
    {
     "data": {
      "text/plain": [
       "[Text(0, 0.5, 'Residents Total Confirmed COVID-19 per NH')]"
      ]
     },
     "execution_count": 82,
     "metadata": {},
     "output_type": "execute_result"
    },
    {
     "data": {
      "image/png": "[encoded data removed]",
      "text/plain": [
       "<Figure size 432x288 with 1 Axes>"
      ]
     },
     "metadata": {
      "needs_background": "light"
     },
     "output_type": "display_data"
    }
   ],
   "source": [
    "ax=sns.barplot(x=No_fed.index, y=No_fed)\n",
    "ax.set(ylabel='Residents Total Confirmed COVID-19 per NH')"
   ]
  },
  {
   "cell_type": "markdown",
   "metadata": {},
   "source": [
    "#### INFERENCE: The bar plot shows that the mean of the number of COVID Residents is higher in NHs having Federal Deficiencies as compared to those not having these deficiencies."
   ]
  },
  {
   "cell_type": "code",
   "execution_count": 83,
   "metadata": {},
   "outputs": [
    {
     "data": {
      "text/plain": [
       "<matplotlib.axes._subplots.AxesSubplot at 0x25702b79808>"
      ]
     },
     "execution_count": 83,
     "metadata": {},
     "output_type": "execute_result"
    },
    {
     "data": {
      "image/png": "[encoded data removed]",
      "text/plain": [
       "<Figure size 432x288 with 1 Axes>"
      ]
     },
     "metadata": {
      "needs_background": "light"
     },
     "output_type": "display_data"
    }
   ],
   "source": [
    "sns.lineplot(x=df['Federal deficiencies'], y=df['Residents Total Confirmed COVID-19'])"
   ]
  },
  {
   "cell_type": "markdown",
   "metadata": {},
   "source": [
    "#### INFERENCE: The number of Residents' cases increases almost regularly as the number federal deficiencies at a NH increases. The drop in the tail of the graph is a result of smaller size of sample data with federal deficiencies as high as that. "
   ]
  },
  {
   "cell_type": "code",
   "execution_count": 84,
   "metadata": {},
   "outputs": [
    {
     "data": {
      "text/plain": [
       "<matplotlib.axes._subplots.AxesSubplot at 0x25703266d88>"
      ]
     },
     "execution_count": 84,
     "metadata": {},
     "output_type": "execute_result"
    },
    {
     "data": {
      "image/png": "[encoded data removed]",
      "text/plain": [
       "<Figure size 432x288 with 1 Axes>"
      ]
     },
     "metadata": {
      "needs_background": "light"
     },
     "output_type": "display_data"
    }
   ],
   "source": [
    "sns.lineplot(x=df['Serious federal deficiencies'], y=df['Residents Total Confirmed COVID-19'])"
   ]
  },
  {
   "cell_type": "markdown",
   "metadata": {},
   "source": [
    "#### INFERENCE: The number of Residents' cases shows a slightly irregular trend but what we can see invariably is that huge spikes are visible when the number of serious deficiencies is very high."
   ]
  },
  {
   "cell_type": "markdown",
   "metadata": {},
   "source": [
    "### HCW STAFF"
   ]
  },
  {
   "cell_type": "code",
   "execution_count": 85,
   "metadata": {},
   "outputs": [],
   "source": [
    "No_fed=df.groupby('No federal deficiencies')['Staff Total Confirmed COVID-19'].sum()/df.groupby('No federal deficiencies')['Staff Total Confirmed COVID-19'].count()"
   ]
  },
  {
   "cell_type": "code",
   "execution_count": 86,
   "metadata": {},
   "outputs": [
    {
     "data": {
      "text/plain": [
       "[Text(0, 0.5, 'Staff Total Confirmed COVID-19 per NH')]"
      ]
     },
     "execution_count": 86,
     "metadata": {},
     "output_type": "execute_result"
    },
    {
     "data": {
      "image/png": "[encoded data removed]",
      "text/plain": [
       "<Figure size 432x288 with 1 Axes>"
      ]
     },
     "metadata": {
      "needs_background": "light"
     },
     "output_type": "display_data"
    }
   ],
   "source": [
    "ax=sns.barplot(x=No_fed.index, y=No_fed)\n",
    "ax.set(ylabel='Staff Total Confirmed COVID-19 per NH')"
   ]
  },
  {
   "cell_type": "code",
   "execution_count": 87,
   "metadata": {},
   "outputs": [
    {
     "data": {
      "text/plain": [
       "No federal deficiencies\n",
       "0    7.530191\n",
       "1    7.590164\n",
       "Name: Staff Total Confirmed COVID-19, dtype: float64"
      ]
     },
     "execution_count": 87,
     "metadata": {},
     "output_type": "execute_result"
    }
   ],
   "source": [
    "No_fed"
   ]
  },
  {
   "cell_type": "markdown",
   "metadata": {},
   "source": [
    "#### INFERENCE: The mean number of Staff cases in NHs with no deficiencies is lower here as well, though very very marginally."
   ]
  },
  {
   "cell_type": "code",
   "execution_count": 88,
   "metadata": {},
   "outputs": [
    {
     "data": {
      "text/plain": [
       "<matplotlib.axes._subplots.AxesSubplot at 0x25702c66108>"
      ]
     },
     "execution_count": 88,
     "metadata": {},
     "output_type": "execute_result"
    },
    {
     "data": {
      "image/png": "[encoded data removed]",
      "text/plain": [
       "<Figure size 432x288 with 1 Axes>"
      ]
     },
     "metadata": {
      "needs_background": "light"
     },
     "output_type": "display_data"
    }
   ],
   "source": [
    "sns.lineplot(x=df['Federal deficiencies'], y=df['Staff Total Confirmed COVID-19'])"
   ]
  },
  {
   "cell_type": "markdown",
   "metadata": {},
   "source": [
    "#### INFERENCE: The number of Staffs' cases increases almost regularly as the number federal deficiencies at an NH increases. The drop in the tail of the graph is a result of smaller size of sample data with federal deficiencies as high as that. "
   ]
  },
  {
   "cell_type": "code",
   "execution_count": 89,
   "metadata": {},
   "outputs": [
    {
     "data": {
      "text/plain": [
       "<matplotlib.axes._subplots.AxesSubplot at 0x257032b6588>"
      ]
     },
     "execution_count": 89,
     "metadata": {},
     "output_type": "execute_result"
    },
    {
     "data": {
      "image/png": "[encoded data removed]",
      "text/plain": [
       "<Figure size 432x288 with 1 Axes>"
      ]
     },
     "metadata": {
      "needs_background": "light"
     },
     "output_type": "display_data"
    }
   ],
   "source": [
    "sns.lineplot(x=df['Serious federal deficiencies'], y=df['Staff Total Confirmed COVID-19'])"
   ]
  },
  {
   "cell_type": "markdown",
   "metadata": {},
   "source": [
    "#### INFERENCE: The number of Staffs' cases varies quite irregularly as the number serious federal deficiencies at an NH increases. But we do see the maxima occurring at NHs where the number of serious deficiencies is extremely high."
   ]
  },
  {
   "cell_type": "code",
   "execution_count": null,
   "metadata": {},
   "outputs": [],
   "source": []
  },
  {
   "cell_type": "markdown",
   "metadata": {},
   "source": [
    "### QUESTION 5"
   ]
  },
  {
   "cell_type": "code",
   "execution_count": 90,
   "metadata": {},
   "outputs": [
    {
     "data": {
      "text/plain": [
       "Index(['Federal Provider Number', 'Provider Zip Code', 'Government',\n",
       "       'Non profit', 'For profit', 'Young (<33% Percentile)',\n",
       "       'Medium (33%-66% Percentile)', 'Old (>66% Percentile)',\n",
       "       '4- or 5-Star Overall Rating', '3-Star Overall Rating',\n",
       "       '1- or 2-Star Overall Rating',\n",
       "       '0.75 RN staffing hours per resident day or higher',\n",
       "       'Under 0.75 RN staffing hours per resident day ',\n",
       "       '4.1 nurse staffing hours per resident day or higher',\n",
       "       'Under 4.1 nurse staffing hours per resident day',\n",
       "       'No federal deficiencies', 'Federal deficiencies',\n",
       "       'Serious federal deficiencies',\n",
       "       'No Confirmed COVID-19 Cases among residents',\n",
       "       'Confirmed COVID-19 Cases among residents (1-<95% Percentile)',\n",
       "       'Confirmed COVID-19 Cases among residents (>=95% Percentile)',\n",
       "       'No Confirmed COVID-19 Cases among staff',\n",
       "       'Confirmed COVID-19 Cases among staff (1-<95% Percentile)',\n",
       "       'Confirmed COVID-19 Cases among staff (>=95% Percentile)',\n",
       "       'No Confirmed COVID-19 Deaths among residents',\n",
       "       'Confirmed COVID-19 Deaths among residents (1-<95% Percentile)',\n",
       "       'Confirmed COVID-19 Deaths among residents (>=95% Percentile)',\n",
       "       'No Confirmed COVID-19 Deaths among staff',\n",
       "       'Confirmed COVID-19 Deaths among staff (>0)',\n",
       "       'Facility size Small (<33% Percentile beds)',\n",
       "       'Facility size Medium (33%-66% Percentile beds)',\n",
       "       'Facility size Large (>66% Percentile beds)',\n",
       "       'Low occupancy rate (<33% Percentile)',\n",
       "       'Medium occupancy rate (33%-66% Percentile)',\n",
       "       'High occupancy rate (>66% Percentile)', 'Low Medicaid share (<Median)',\n",
       "       'High Medicaid share (>=Median)', 'No chain affiliation',\n",
       "       'Chain affiliation', 'Low racial or ethnic minority share (<Median)',\n",
       "       'High racial or ethnic minority share (>=Median)'],\n",
       "      dtype='object')"
      ]
     },
     "execution_count": 90,
     "metadata": {},
     "output_type": "execute_result"
    }
   ],
   "source": [
    "df_NH.columns"
   ]
  },
  {
   "cell_type": "code",
   "execution_count": 91,
   "metadata": {},
   "outputs": [
    {
     "data": {
      "text/plain": [
       "Index(['Federal Provider Number',\n",
       "       'Reported Total Nurse Staffing Hours per Resident per Day',\n",
       "       'Overall Rating', 'Ownership Type',\n",
       "       'Residents Total Confirmed COVID-19', 'Residents Total COVID-19 Deaths',\n",
       "       'Number of All Beds', 'Total Number of Occupied Beds',\n",
       "       'Staff Total Confirmed COVID-19', 'Staff Total COVID-19 Deaths',\n",
       "       'paymcaid', 'pctwhite_2011p'],\n",
       "      dtype='object')"
      ]
     },
     "execution_count": 91,
     "metadata": {},
     "output_type": "execute_result"
    }
   ],
   "source": [
    "df_CONTINUOUS.columns"
   ]
  },
  {
   "cell_type": "code",
   "execution_count": 92,
   "metadata": {},
   "outputs": [],
   "source": [
    "df_A=df_NH[['Federal Provider Number','No chain affiliation','Chain affiliation']]"
   ]
  },
  {
   "cell_type": "code",
   "execution_count": 93,
   "metadata": {},
   "outputs": [],
   "source": [
    "df_B=df_CONTINUOUS[['Federal Provider Number','Residents Total Confirmed COVID-19','Staff Total Confirmed COVID-19']]"
   ]
  },
  {
   "cell_type": "code",
   "execution_count": 94,
   "metadata": {},
   "outputs": [],
   "source": [
    "df=df_A.merge(df_B, on=\"Federal Provider Number\", how='inner')"
   ]
  },
  {
   "cell_type": "code",
   "execution_count": 95,
   "metadata": {},
   "outputs": [
    {
     "data": {
      "text/html": [
       "<div>\n",
       "<style scoped>\n",
       "    .dataframe tbody tr th:only-of-type {\n",
       "        vertical-align: middle;\n",
       "    }\n",
       "\n",
       "    .dataframe tbody tr th {\n",
       "        vertical-align: top;\n",
       "    }\n",
       "\n",
       "    .dataframe thead th {\n",
       "        text-align: right;\n",
       "    }\n",
       "</style>\n",
       "<table border=\"1\" class=\"dataframe\">\n",
       "  <thead>\n",
       "    <tr style=\"text-align: right;\">\n",
       "      <th></th>\n",
       "      <th>Federal Provider Number</th>\n",
       "      <th>No chain affiliation</th>\n",
       "      <th>Chain affiliation</th>\n",
       "      <th>Residents Total Confirmed COVID-19</th>\n",
       "      <th>Staff Total Confirmed COVID-19</th>\n",
       "    </tr>\n",
       "  </thead>\n",
       "  <tbody>\n",
       "    <tr>\n",
       "      <th>0</th>\n",
       "      <td>365333</td>\n",
       "      <td>0</td>\n",
       "      <td>1</td>\n",
       "      <td>0</td>\n",
       "      <td>1</td>\n",
       "    </tr>\n",
       "    <tr>\n",
       "      <th>1</th>\n",
       "      <td>315254</td>\n",
       "      <td>1</td>\n",
       "      <td>0</td>\n",
       "      <td>3</td>\n",
       "      <td>2</td>\n",
       "    </tr>\n",
       "    <tr>\n",
       "      <th>2</th>\n",
       "      <td>495309</td>\n",
       "      <td>0</td>\n",
       "      <td>1</td>\n",
       "      <td>2</td>\n",
       "      <td>6</td>\n",
       "    </tr>\n",
       "    <tr>\n",
       "      <th>3</th>\n",
       "      <td>515181</td>\n",
       "      <td>1</td>\n",
       "      <td>0</td>\n",
       "      <td>0</td>\n",
       "      <td>0</td>\n",
       "    </tr>\n",
       "    <tr>\n",
       "      <th>4</th>\n",
       "      <td>676108</td>\n",
       "      <td>0</td>\n",
       "      <td>1</td>\n",
       "      <td>21</td>\n",
       "      <td>13</td>\n",
       "    </tr>\n",
       "  </tbody>\n",
       "</table>\n",
       "</div>"
      ],
      "text/plain": [
       "  Federal Provider Number  No chain affiliation  Chain affiliation  \\\n",
       "0                  365333                     0                  1   \n",
       "1                  315254                     1                  0   \n",
       "2                  495309                     0                  1   \n",
       "3                  515181                     1                  0   \n",
       "4                  676108                     0                  1   \n",
       "\n",
       "   Residents Total Confirmed COVID-19  Staff Total Confirmed COVID-19  \n",
       "0                                   0                               1  \n",
       "1                                   3                               2  \n",
       "2                                   2                               6  \n",
       "3                                   0                               0  \n",
       "4                                  21                              13  "
      ]
     },
     "execution_count": 95,
     "metadata": {},
     "output_type": "execute_result"
    }
   ],
   "source": [
    "df.head()"
   ]
  },
  {
   "cell_type": "code",
   "execution_count": 96,
   "metadata": {},
   "outputs": [
    {
     "data": {
      "text/plain": [
       "[Text(0, 0.5, 'NUMBER OF EACH TYPE OF NHs')]"
      ]
     },
     "execution_count": 96,
     "metadata": {},
     "output_type": "execute_result"
    },
    {
     "data": {
      "image/png": "[encoded data removed]",
      "text/plain": [
       "<Figure size 432x288 with 1 Axes>"
      ]
     },
     "metadata": {
      "needs_background": "light"
     },
     "output_type": "display_data"
    }
   ],
   "source": [
    "ax=sns.barplot(x=[\"No chain affiliation\", \"Chain affiliation\"],y=[df[\"No chain affiliation\"].sum(),df[\"Chain affiliation\"].sum()])\n",
    "ax.set(ylabel=\"NUMBER OF EACH TYPE OF NHs\")"
   ]
  },
  {
   "cell_type": "markdown",
   "metadata": {},
   "source": [
    "### RESIDENTS"
   ]
  },
  {
   "cell_type": "code",
   "execution_count": 97,
   "metadata": {},
   "outputs": [
    {
     "data": {
      "text/plain": [
       "[Text(0, 0.5, 'Residents Total Confirmed COVID-19 per NH')]"
      ]
     },
     "execution_count": 97,
     "metadata": {},
     "output_type": "execute_result"
    },
    {
     "data": {
      "image/png": "[encoded data removed]",
      "text/plain": [
       "<Figure size 432x288 with 1 Axes>"
      ]
     },
     "metadata": {
      "needs_background": "light"
     },
     "output_type": "display_data"
    }
   ],
   "source": [
    "ax=sns.barplot(x=[\"No chain affiliation\", \"Chain affiliation\"],y=[df[df[\"No chain affiliation\"]==1][\"Residents Total Confirmed COVID-19\"].sum()/df[\"No chain affiliation\"].sum(),df[df[\"Chain affiliation\"]==1][\"Residents Total Confirmed COVID-19\"].sum()/df[\"Chain affiliation\"].sum()])\n",
    "ax.set(ylabel=\"Residents Total Confirmed COVID-19 per NH\")"
   ]
  },
  {
   "cell_type": "code",
   "execution_count": 98,
   "metadata": {},
   "outputs": [
    {
     "name": "stdout",
     "output_type": "stream",
     "text": [
      "Chi-Square: 0.017347006739037923\n",
      "Confidence Interval:(9.933507259938459, 10.763938626427365)\n",
      "P-Value:0.8952152291106887\n"
     ]
    }
   ],
   "source": [
    "#CHI SQUARED TEST FOR RESIDENTS\n",
    "Res=np.array(([df[df[\"No chain affiliation\"]==1][\"Residents Total Confirmed COVID-19\"].sum()/df[\"No chain affiliation\"].sum(),df[df[\"Chain affiliation\"]==1][\"Residents Total Confirmed COVID-19\"].sum()/df[\"Chain affiliation\"].sum()]))\n",
    "mean=np.mean(Res)\n",
    "sigma=np.std(Res)\n",
    "chisq,p=stats.chisquare(Res)\n",
    "conf_int = stats.norm.interval(0.95, loc=mean, scale=sigma / np.sqrt(len(Res)))\n",
    "print(\"Chi-Square: \"+str(chisq))\n",
    "print(\"Confidence Interval:\" + str(conf_int))\n",
    "print(\"P-Value:\" + str(p))"
   ]
  },
  {
   "cell_type": "code",
   "execution_count": 99,
   "metadata": {},
   "outputs": [
    {
     "name": "stdout",
     "output_type": "stream",
     "text": [
      "A Resident in Non-Chain NH has a higher chance of contracting the virus by: 2.8950355141689417%\n"
     ]
    }
   ],
   "source": [
    "[Non_Chain,Chain]=[df[df[\"No chain affiliation\"]==1][\"Residents Total Confirmed COVID-19\"].sum()/df[\"No chain affiliation\"].sum(),df[df[\"Chain affiliation\"]==1][\"Residents Total Confirmed COVID-19\"].sum()/df[\"Chain affiliation\"].sum()]\n",
    "percent=(Non_Chain-Chain)*100/(Non_Chain+Chain)\n",
    "print(\"A Resident in Non-Chain NH has a higher chance of contracting the virus by: \"+str(percent)+ \"%\")"
   ]
  },
  {
   "cell_type": "markdown",
   "metadata": {},
   "source": [
    "#### INFERENCE: The p-value of the residents' data is quite big suggesting that the means of the two data are very close to the expected hich is why we can accept the null hypothesis and reject the alternate hypothesis. This is also confirmed by the sharpness of the 95% CI.\n",
    "\n",
    "#### The bar graphs very clearly show that the outbreak is smaller in NHs which are Chain-affiliated"
   ]
  },
  {
   "cell_type": "markdown",
   "metadata": {},
   "source": [
    "### HCW STAFF"
   ]
  },
  {
   "cell_type": "code",
   "execution_count": 100,
   "metadata": {},
   "outputs": [
    {
     "data": {
      "text/plain": [
       "[Text(0, 0.5, 'Staff Total Confirmed COVID-19 per NH')]"
      ]
     },
     "execution_count": 100,
     "metadata": {},
     "output_type": "execute_result"
    },
    {
     "data": {
      "image/png": "[encoded data removed]",
      "text/plain": [
       "<Figure size 432x288 with 1 Axes>"
      ]
     },
     "metadata": {
      "needs_background": "light"
     },
     "output_type": "display_data"
    }
   ],
   "source": [
    "ax=sns.barplot(x=[\"No chain affiliation\", \"Chain affiliation\"],y=[df[df[\"No chain affiliation\"]==1][\"Staff Total Confirmed COVID-19\"].sum()/df[\"No chain affiliation\"].sum(),df[df[\"Chain affiliation\"]==1][\"Staff Total Confirmed COVID-19\"].sum()/df[\"Chain affiliation\"].sum()])\n",
    "ax.set(ylabel=\"Staff Total Confirmed COVID-19 per NH\")"
   ]
  },
  {
   "cell_type": "code",
   "execution_count": 101,
   "metadata": {},
   "outputs": [
    {
     "name": "stdout",
     "output_type": "stream",
     "text": [
      "Chi-Square: 0.24770143292058286\n",
      "Confidence Interval:(6.353962244563607, 9.062191116309197)\n",
      "P-Value:0.6186982396800763\n"
     ]
    }
   ],
   "source": [
    "#CHI SQUARED TEST FOR Staff\n",
    "Hcw=np.array(([df[df[\"No chain affiliation\"]==1][\"Staff Total Confirmed COVID-19\"].sum()/df[\"No chain affiliation\"].sum(),df[df[\"Chain affiliation\"]==1][\"Staff Total Confirmed COVID-19\"].sum()/df[\"Chain affiliation\"].sum()]))\n",
    "mean=np.mean(Hcw)\n",
    "sigma=np.std(Hcw)\n",
    "chisq,p=stats.chisquare(Hcw)\n",
    "conf_int = stats.norm.interval(0.95, loc=mean, scale=sigma / np.sqrt(len(Hcw)))\n",
    "print(\"Chi-Square: \"+str(chisq))\n",
    "print(\"Confidence Interval:\" + str(conf_int))\n",
    "print(\"P-Value:\" + str(p))"
   ]
  },
  {
   "cell_type": "code",
   "execution_count": 102,
   "metadata": {},
   "outputs": [
    {
     "name": "stdout",
     "output_type": "stream",
     "text": [
      "A Staff in Non-Chain NH has a higher chance of contracting the virus by: 12.67582539876931%\n"
     ]
    }
   ],
   "source": [
    "[Non_Chain,Chain]=[df[df[\"No chain affiliation\"]==1][\"Staff Total Confirmed COVID-19\"].sum()/df[\"No chain affiliation\"].sum(),df[df[\"Chain affiliation\"]==1][\"Staff Total Confirmed COVID-19\"].sum()/df[\"Chain affiliation\"].sum()]\n",
    "percent=(Non_Chain-Chain)*100/(Non_Chain+Chain)\n",
    "print(\"A Staff in Non-Chain NH has a higher chance of contracting the virus by: \"+str(percent)+ \"%\")"
   ]
  },
  {
   "cell_type": "markdown",
   "metadata": {},
   "source": [
    "#### INFERENCE: The p-value of the staff data is large suggesting that the means of the two data are very close to the expected hich is why we can accept the null hypothesis and reject the alternate hypothesis. This is also confirmed by the sharpness of the 95% CI.\n",
    "\n",
    "#### The bar graphs very clearly show that the outbreak is smaller in NHs which are Chain-affiliated"
   ]
  },
  {
   "cell_type": "markdown",
   "metadata": {},
   "source": [
    "### QUESTION 6"
   ]
  },
  {
   "cell_type": "code",
   "execution_count": 103,
   "metadata": {},
   "outputs": [
    {
     "data": {
      "text/plain": [
       "Index(['Federal Provider Number', 'Provider Zip Code', 'Government',\n",
       "       'Non profit', 'For profit', 'Young (<33% Percentile)',\n",
       "       'Medium (33%-66% Percentile)', 'Old (>66% Percentile)',\n",
       "       '4- or 5-Star Overall Rating', '3-Star Overall Rating',\n",
       "       '1- or 2-Star Overall Rating',\n",
       "       '0.75 RN staffing hours per resident day or higher',\n",
       "       'Under 0.75 RN staffing hours per resident day ',\n",
       "       '4.1 nurse staffing hours per resident day or higher',\n",
       "       'Under 4.1 nurse staffing hours per resident day',\n",
       "       'No federal deficiencies', 'Federal deficiencies',\n",
       "       'Serious federal deficiencies',\n",
       "       'No Confirmed COVID-19 Cases among residents',\n",
       "       'Confirmed COVID-19 Cases among residents (1-<95% Percentile)',\n",
       "       'Confirmed COVID-19 Cases among residents (>=95% Percentile)',\n",
       "       'No Confirmed COVID-19 Cases among staff',\n",
       "       'Confirmed COVID-19 Cases among staff (1-<95% Percentile)',\n",
       "       'Confirmed COVID-19 Cases among staff (>=95% Percentile)',\n",
       "       'No Confirmed COVID-19 Deaths among residents',\n",
       "       'Confirmed COVID-19 Deaths among residents (1-<95% Percentile)',\n",
       "       'Confirmed COVID-19 Deaths among residents (>=95% Percentile)',\n",
       "       'No Confirmed COVID-19 Deaths among staff',\n",
       "       'Confirmed COVID-19 Deaths among staff (>0)',\n",
       "       'Facility size Small (<33% Percentile beds)',\n",
       "       'Facility size Medium (33%-66% Percentile beds)',\n",
       "       'Facility size Large (>66% Percentile beds)',\n",
       "       'Low occupancy rate (<33% Percentile)',\n",
       "       'Medium occupancy rate (33%-66% Percentile)',\n",
       "       'High occupancy rate (>66% Percentile)', 'Low Medicaid share (<Median)',\n",
       "       'High Medicaid share (>=Median)', 'No chain affiliation',\n",
       "       'Chain affiliation', 'Low racial or ethnic minority share (<Median)',\n",
       "       'High racial or ethnic minority share (>=Median)'],\n",
       "      dtype='object')"
      ]
     },
     "execution_count": 103,
     "metadata": {},
     "output_type": "execute_result"
    }
   ],
   "source": [
    "df_NH.columns"
   ]
  },
  {
   "cell_type": "code",
   "execution_count": 104,
   "metadata": {},
   "outputs": [
    {
     "data": {
      "text/plain": [
       "Index(['Federal Provider Number',\n",
       "       'Reported Total Nurse Staffing Hours per Resident per Day',\n",
       "       'Overall Rating', 'Ownership Type',\n",
       "       'Residents Total Confirmed COVID-19', 'Residents Total COVID-19 Deaths',\n",
       "       'Number of All Beds', 'Total Number of Occupied Beds',\n",
       "       'Staff Total Confirmed COVID-19', 'Staff Total COVID-19 Deaths',\n",
       "       'paymcaid', 'pctwhite_2011p'],\n",
       "      dtype='object')"
      ]
     },
     "execution_count": 104,
     "metadata": {},
     "output_type": "execute_result"
    }
   ],
   "source": [
    "df_CONTINUOUS.columns"
   ]
  },
  {
   "cell_type": "code",
   "execution_count": 105,
   "metadata": {},
   "outputs": [],
   "source": [
    "df_A=df_NH[['Federal Provider Number','Low occupancy rate (<33% Percentile)','Medium occupancy rate (33%-66% Percentile)','High occupancy rate (>66% Percentile)']]"
   ]
  },
  {
   "cell_type": "code",
   "execution_count": 106,
   "metadata": {},
   "outputs": [],
   "source": [
    "df_B=df_CONTINUOUS[['Federal Provider Number','Residents Total Confirmed COVID-19','Staff Total Confirmed COVID-19']]"
   ]
  },
  {
   "cell_type": "code",
   "execution_count": 107,
   "metadata": {},
   "outputs": [],
   "source": [
    "df=df_A.merge(df_B, on=\"Federal Provider Number\", how='inner')"
   ]
  },
  {
   "cell_type": "code",
   "execution_count": 108,
   "metadata": {},
   "outputs": [
    {
     "data": {
      "text/html": [
       "<div>\n",
       "<style scoped>\n",
       "    .dataframe tbody tr th:only-of-type {\n",
       "        vertical-align: middle;\n",
       "    }\n",
       "\n",
       "    .dataframe tbody tr th {\n",
       "        vertical-align: top;\n",
       "    }\n",
       "\n",
       "    .dataframe thead th {\n",
       "        text-align: right;\n",
       "    }\n",
       "</style>\n",
       "<table border=\"1\" class=\"dataframe\">\n",
       "  <thead>\n",
       "    <tr style=\"text-align: right;\">\n",
       "      <th></th>\n",
       "      <th>Federal Provider Number</th>\n",
       "      <th>Low occupancy rate (&lt;33% Percentile)</th>\n",
       "      <th>Medium occupancy rate (33%-66% Percentile)</th>\n",
       "      <th>High occupancy rate (&gt;66% Percentile)</th>\n",
       "      <th>Residents Total Confirmed COVID-19</th>\n",
       "      <th>Staff Total Confirmed COVID-19</th>\n",
       "    </tr>\n",
       "  </thead>\n",
       "  <tbody>\n",
       "    <tr>\n",
       "      <th>0</th>\n",
       "      <td>365333</td>\n",
       "      <td>0</td>\n",
       "      <td>0</td>\n",
       "      <td>1</td>\n",
       "      <td>0</td>\n",
       "      <td>1</td>\n",
       "    </tr>\n",
       "    <tr>\n",
       "      <th>1</th>\n",
       "      <td>315254</td>\n",
       "      <td>0</td>\n",
       "      <td>1</td>\n",
       "      <td>0</td>\n",
       "      <td>3</td>\n",
       "      <td>2</td>\n",
       "    </tr>\n",
       "    <tr>\n",
       "      <th>2</th>\n",
       "      <td>495309</td>\n",
       "      <td>1</td>\n",
       "      <td>0</td>\n",
       "      <td>0</td>\n",
       "      <td>2</td>\n",
       "      <td>6</td>\n",
       "    </tr>\n",
       "    <tr>\n",
       "      <th>3</th>\n",
       "      <td>515181</td>\n",
       "      <td>0</td>\n",
       "      <td>1</td>\n",
       "      <td>0</td>\n",
       "      <td>0</td>\n",
       "      <td>0</td>\n",
       "    </tr>\n",
       "    <tr>\n",
       "      <th>4</th>\n",
       "      <td>676108</td>\n",
       "      <td>0</td>\n",
       "      <td>0</td>\n",
       "      <td>1</td>\n",
       "      <td>21</td>\n",
       "      <td>13</td>\n",
       "    </tr>\n",
       "  </tbody>\n",
       "</table>\n",
       "</div>"
      ],
      "text/plain": [
       "  Federal Provider Number  Low occupancy rate (<33% Percentile)  \\\n",
       "0                  365333                                     0   \n",
       "1                  315254                                     0   \n",
       "2                  495309                                     1   \n",
       "3                  515181                                     0   \n",
       "4                  676108                                     0   \n",
       "\n",
       "   Medium occupancy rate (33%-66% Percentile)  \\\n",
       "0                                           0   \n",
       "1                                           1   \n",
       "2                                           0   \n",
       "3                                           1   \n",
       "4                                           0   \n",
       "\n",
       "   High occupancy rate (>66% Percentile)  Residents Total Confirmed COVID-19  \\\n",
       "0                                      1                                   0   \n",
       "1                                      0                                   3   \n",
       "2                                      0                                   2   \n",
       "3                                      0                                   0   \n",
       "4                                      1                                  21   \n",
       "\n",
       "   Staff Total Confirmed COVID-19  \n",
       "0                               1  \n",
       "1                               2  \n",
       "2                               6  \n",
       "3                               0  \n",
       "4                              13  "
      ]
     },
     "execution_count": 108,
     "metadata": {},
     "output_type": "execute_result"
    }
   ],
   "source": [
    "df.head()"
   ]
  },
  {
   "cell_type": "code",
   "execution_count": 109,
   "metadata": {},
   "outputs": [
    {
     "data": {
      "text/plain": [
       "[Text(0, 0.5, 'NUMBER OF EACH TYPE OF NHs')]"
      ]
     },
     "execution_count": 109,
     "metadata": {},
     "output_type": "execute_result"
    },
    {
     "data": {
      "image/png": "[encoded data removed]",
      "text/plain": [
       "<Figure size 576x360 with 1 Axes>"
      ]
     },
     "metadata": {
      "needs_background": "light"
     },
     "output_type": "display_data"
    }
   ],
   "source": [
    "plt.figure(figsize=(8,5))\n",
    "ax=sns.barplot(x=[\"Low occupancy rate\", \"Medium occupancy rate\", \"High occupancy rate\"],y=[df[\"Low occupancy rate (<33% Percentile)\"].sum(),df[\"Medium occupancy rate (33%-66% Percentile)\"].sum(),df[\"High occupancy rate (>66% Percentile)\"].sum()])\n",
    "ax.set(ylabel=\"NUMBER OF EACH TYPE OF NHs\")"
   ]
  },
  {
   "cell_type": "markdown",
   "metadata": {},
   "source": [
    "### RESIDENTS"
   ]
  },
  {
   "cell_type": "code",
   "execution_count": 110,
   "metadata": {},
   "outputs": [
    {
     "data": {
      "text/plain": [
       "[Text(0, 0.5, 'Residents Total Confirmed COVID-19 per NH')]"
      ]
     },
     "execution_count": 110,
     "metadata": {},
     "output_type": "execute_result"
    },
    {
     "data": {
      "image/png": "[encoded data removed]",
      "text/plain": [
       "<Figure size 576x360 with 1 Axes>"
      ]
     },
     "metadata": {
      "needs_background": "light"
     },
     "output_type": "display_data"
    }
   ],
   "source": [
    "plt.figure(figsize=(8,5))\n",
    "ax=sns.barplot(x=[\"Low occupancy rate\", \"Medium occupancy rate\", \"High occupancy rate\"],y=[df[df[\"Low occupancy rate (<33% Percentile)\"]==1][\"Residents Total Confirmed COVID-19\"].sum()/df[\"Low occupancy rate (<33% Percentile)\"].sum(),df[df[\"Medium occupancy rate (33%-66% Percentile)\"]==1][\"Residents Total Confirmed COVID-19\"].sum()/df[\"Medium occupancy rate (33%-66% Percentile)\"].sum(),df[df[\"High occupancy rate (>66% Percentile)\"]==1][\"Residents Total Confirmed COVID-19\"].sum()/df[\"High occupancy rate (>66% Percentile)\"].sum()])\n",
    "ax.set(ylabel=\"Residents Total Confirmed COVID-19 per NH\")"
   ]
  },
  {
   "cell_type": "code",
   "execution_count": 111,
   "metadata": {},
   "outputs": [
    {
     "name": "stdout",
     "output_type": "stream",
     "text": [
      "Chi-Square: 8.984982366979288\n",
      "Confidence Interval:(3.794586119773995, 16.168797267226292)\n",
      "P-Value:0.011192725915723782\n"
     ]
    }
   ],
   "source": [
    "#CHI SQUARED TEST FOR RESIDENTS\n",
    "Res=np.array(([df[df[\"Low occupancy rate (<33% Percentile)\"]==1][\"Residents Total Confirmed COVID-19\"].sum()/df[\"Low occupancy rate (<33% Percentile)\"].sum(),df[df[\"Medium occupancy rate (33%-66% Percentile)\"]==1][\"Residents Total Confirmed COVID-19\"].sum()/df[\"Medium occupancy rate (33%-66% Percentile)\"].sum(),df[df[\"High occupancy rate (>66% Percentile)\"]==1][\"Residents Total Confirmed COVID-19\"].sum()/df[\"High occupancy rate (>66% Percentile)\"].sum()]))\n",
    "mean=np.mean(Res)\n",
    "sigma=np.std(Res)\n",
    "chisq,p=stats.chisquare(Res)\n",
    "conf_int = stats.norm.interval(0.95, loc=mean, scale=sigma / np.sqrt(len(Res)))\n",
    "print(\"Chi-Square: \"+str(chisq))\n",
    "print(\"Confidence Interval:\" + str(conf_int))\n",
    "print(\"P-Value:\" + str(p))"
   ]
  },
  {
   "cell_type": "markdown",
   "metadata": {},
   "source": [
    "#### INFERENCE: The p-value of the Residents' data is really small, p=0.011 which is smaller than 0.05. Hence we have reject our null hypothesis and accept the alternate hypothesis stating that the values are quite afar from their expected values. Their means are not very close and actually very different from each other. The 95% CI is also very wide, which further approves of this fact.\n",
    "\n",
    "#### Graphically too, we can see the trend very clearly. There is significant increase in the outbreak as the occupancy rate of beds in the NHs increase. "
   ]
  },
  {
   "cell_type": "markdown",
   "metadata": {},
   "source": [
    "### HCW STAFF"
   ]
  },
  {
   "cell_type": "code",
   "execution_count": 112,
   "metadata": {},
   "outputs": [
    {
     "data": {
      "text/plain": [
       "[Text(0, 0.5, 'Staff Total Confirmed COVID-19 per NH')]"
      ]
     },
     "execution_count": 112,
     "metadata": {},
     "output_type": "execute_result"
    },
    {
     "data": {
      "image/png": "[encoded data removed]",
      "text/plain": [
       "<Figure size 576x360 with 1 Axes>"
      ]
     },
     "metadata": {
      "needs_background": "light"
     },
     "output_type": "display_data"
    }
   ],
   "source": [
    "plt.figure(figsize=(8,5))\n",
    "ax=sns.barplot(x=[\"Low occupancy rate\", \"Medium occupancy rate\", \"High occupancy rate\"],y=[df[df[\"Low occupancy rate (<33% Percentile)\"]==1][\"Staff Total Confirmed COVID-19\"].sum()/df[\"Low occupancy rate (<33% Percentile)\"].sum(),df[df[\"Medium occupancy rate (33%-66% Percentile)\"]==1][\"Staff Total Confirmed COVID-19\"].sum()/df[\"Medium occupancy rate (33%-66% Percentile)\"].sum(),df[df[\"High occupancy rate (>66% Percentile)\"]==1][\"Staff Total Confirmed COVID-19\"].sum()/df[\"High occupancy rate (>66% Percentile)\"].sum()])\n",
    "ax.set(ylabel=\"Staff Total Confirmed COVID-19 per NH\")"
   ]
  },
  {
   "cell_type": "code",
   "execution_count": 113,
   "metadata": {},
   "outputs": [
    {
     "name": "stdout",
     "output_type": "stream",
     "text": [
      "Chi-Square: 5.3173574489467725\n",
      "Confidence Interval:(3.2509604911037053, 11.408228569368926)\n",
      "P-Value:0.07004070370179569\n"
     ]
    }
   ],
   "source": [
    "#CHI SQUARED TEST FOR Staff\n",
    "Hcw=np.array(([df[df[\"Low occupancy rate (<33% Percentile)\"]==1][\"Staff Total Confirmed COVID-19\"].sum()/df[\"Low occupancy rate (<33% Percentile)\"].sum(),df[df[\"Medium occupancy rate (33%-66% Percentile)\"]==1][\"Staff Total Confirmed COVID-19\"].sum()/df[\"Medium occupancy rate (33%-66% Percentile)\"].sum(),df[df[\"High occupancy rate (>66% Percentile)\"]==1][\"Staff Total Confirmed COVID-19\"].sum()/df[\"High occupancy rate (>66% Percentile)\"].sum()]))\n",
    "mean=np.mean(Hcw)\n",
    "sigma=np.std(Hcw)\n",
    "chisq,p=stats.chisquare(Hcw)\n",
    "conf_int = stats.norm.interval(0.95, loc=mean, scale=sigma / np.sqrt(len(Hcw)))\n",
    "print(\"Chi-Square: \"+str(chisq))\n",
    "print(\"Confidence Interval:\" + str(conf_int))\n",
    "print(\"P-Value:\" + str(p))"
   ]
  },
  {
   "cell_type": "markdown",
   "metadata": {},
   "source": [
    "#### INFERENCE: The p-value of the Staff data is very small, p=0.070 but is greater than 0.05. Hence we have accept our null hypothesis and reject the alternate hypothesis stating that the values are close enough to their expected values.  The 95% CI is also not so wide, which further approves of this fact.\n",
    "\n",
    "#### Graphically  we can see the trend very clearly. There is significant increase in the outbreak as the occupancy rate of beds in the NHs increase, though this increase is smaller than that observed among the Residents. "
   ]
  },
  {
   "cell_type": "markdown",
   "metadata": {},
   "source": [
    "### QUESTION 7"
   ]
  },
  {
   "cell_type": "code",
   "execution_count": 114,
   "metadata": {},
   "outputs": [
    {
     "data": {
      "text/plain": [
       "Index(['Federal Provider Number', 'Provider Zip Code', 'Government',\n",
       "       'Non profit', 'For profit', 'Young (<33% Percentile)',\n",
       "       'Medium (33%-66% Percentile)', 'Old (>66% Percentile)',\n",
       "       '4- or 5-Star Overall Rating', '3-Star Overall Rating',\n",
       "       '1- or 2-Star Overall Rating',\n",
       "       '0.75 RN staffing hours per resident day or higher',\n",
       "       'Under 0.75 RN staffing hours per resident day ',\n",
       "       '4.1 nurse staffing hours per resident day or higher',\n",
       "       'Under 4.1 nurse staffing hours per resident day',\n",
       "       'No federal deficiencies', 'Federal deficiencies',\n",
       "       'Serious federal deficiencies',\n",
       "       'No Confirmed COVID-19 Cases among residents',\n",
       "       'Confirmed COVID-19 Cases among residents (1-<95% Percentile)',\n",
       "       'Confirmed COVID-19 Cases among residents (>=95% Percentile)',\n",
       "       'No Confirmed COVID-19 Cases among staff',\n",
       "       'Confirmed COVID-19 Cases among staff (1-<95% Percentile)',\n",
       "       'Confirmed COVID-19 Cases among staff (>=95% Percentile)',\n",
       "       'No Confirmed COVID-19 Deaths among residents',\n",
       "       'Confirmed COVID-19 Deaths among residents (1-<95% Percentile)',\n",
       "       'Confirmed COVID-19 Deaths among residents (>=95% Percentile)',\n",
       "       'No Confirmed COVID-19 Deaths among staff',\n",
       "       'Confirmed COVID-19 Deaths among staff (>0)',\n",
       "       'Facility size Small (<33% Percentile beds)',\n",
       "       'Facility size Medium (33%-66% Percentile beds)',\n",
       "       'Facility size Large (>66% Percentile beds)',\n",
       "       'Low occupancy rate (<33% Percentile)',\n",
       "       'Medium occupancy rate (33%-66% Percentile)',\n",
       "       'High occupancy rate (>66% Percentile)', 'Low Medicaid share (<Median)',\n",
       "       'High Medicaid share (>=Median)', 'No chain affiliation',\n",
       "       'Chain affiliation', 'Low racial or ethnic minority share (<Median)',\n",
       "       'High racial or ethnic minority share (>=Median)'],\n",
       "      dtype='object')"
      ]
     },
     "execution_count": 114,
     "metadata": {},
     "output_type": "execute_result"
    }
   ],
   "source": [
    "df_NH.columns"
   ]
  },
  {
   "cell_type": "code",
   "execution_count": 115,
   "metadata": {},
   "outputs": [
    {
     "data": {
      "text/plain": [
       "Index(['Federal Provider Number',\n",
       "       'Reported Total Nurse Staffing Hours per Resident per Day',\n",
       "       'Overall Rating', 'Ownership Type',\n",
       "       'Residents Total Confirmed COVID-19', 'Residents Total COVID-19 Deaths',\n",
       "       'Number of All Beds', 'Total Number of Occupied Beds',\n",
       "       'Staff Total Confirmed COVID-19', 'Staff Total COVID-19 Deaths',\n",
       "       'paymcaid', 'pctwhite_2011p'],\n",
       "      dtype='object')"
      ]
     },
     "execution_count": 115,
     "metadata": {},
     "output_type": "execute_result"
    }
   ],
   "source": [
    "df_CONTINUOUS.columns"
   ]
  },
  {
   "cell_type": "code",
   "execution_count": 116,
   "metadata": {},
   "outputs": [],
   "source": [
    "df_A=df_NH[['Federal Provider Number','4.1 nurse staffing hours per resident day or higher',\n",
    "       'Under 4.1 nurse staffing hours per resident day']]"
   ]
  },
  {
   "cell_type": "code",
   "execution_count": 117,
   "metadata": {},
   "outputs": [],
   "source": [
    "df_B=df_CONTINUOUS[['Federal Provider Number','Residents Total Confirmed COVID-19','Staff Total Confirmed COVID-19']]"
   ]
  },
  {
   "cell_type": "code",
   "execution_count": 118,
   "metadata": {},
   "outputs": [],
   "source": [
    "df=df_A.merge(df_B, on=\"Federal Provider Number\", how='inner')"
   ]
  },
  {
   "cell_type": "code",
   "execution_count": 119,
   "metadata": {},
   "outputs": [
    {
     "data": {
      "text/html": [
       "<div>\n",
       "<style scoped>\n",
       "    .dataframe tbody tr th:only-of-type {\n",
       "        vertical-align: middle;\n",
       "    }\n",
       "\n",
       "    .dataframe tbody tr th {\n",
       "        vertical-align: top;\n",
       "    }\n",
       "\n",
       "    .dataframe thead th {\n",
       "        text-align: right;\n",
       "    }\n",
       "</style>\n",
       "<table border=\"1\" class=\"dataframe\">\n",
       "  <thead>\n",
       "    <tr style=\"text-align: right;\">\n",
       "      <th></th>\n",
       "      <th>Federal Provider Number</th>\n",
       "      <th>4.1 nurse staffing hours per resident day or higher</th>\n",
       "      <th>Under 4.1 nurse staffing hours per resident day</th>\n",
       "      <th>Residents Total Confirmed COVID-19</th>\n",
       "      <th>Staff Total Confirmed COVID-19</th>\n",
       "    </tr>\n",
       "  </thead>\n",
       "  <tbody>\n",
       "    <tr>\n",
       "      <th>0</th>\n",
       "      <td>365333</td>\n",
       "      <td>0</td>\n",
       "      <td>1</td>\n",
       "      <td>0</td>\n",
       "      <td>1</td>\n",
       "    </tr>\n",
       "    <tr>\n",
       "      <th>1</th>\n",
       "      <td>315254</td>\n",
       "      <td>0</td>\n",
       "      <td>1</td>\n",
       "      <td>3</td>\n",
       "      <td>2</td>\n",
       "    </tr>\n",
       "    <tr>\n",
       "      <th>2</th>\n",
       "      <td>495309</td>\n",
       "      <td>0</td>\n",
       "      <td>1</td>\n",
       "      <td>2</td>\n",
       "      <td>6</td>\n",
       "    </tr>\n",
       "    <tr>\n",
       "      <th>3</th>\n",
       "      <td>515181</td>\n",
       "      <td>0</td>\n",
       "      <td>1</td>\n",
       "      <td>0</td>\n",
       "      <td>0</td>\n",
       "    </tr>\n",
       "    <tr>\n",
       "      <th>4</th>\n",
       "      <td>676108</td>\n",
       "      <td>0</td>\n",
       "      <td>1</td>\n",
       "      <td>21</td>\n",
       "      <td>13</td>\n",
       "    </tr>\n",
       "  </tbody>\n",
       "</table>\n",
       "</div>"
      ],
      "text/plain": [
       "  Federal Provider Number  \\\n",
       "0                  365333   \n",
       "1                  315254   \n",
       "2                  495309   \n",
       "3                  515181   \n",
       "4                  676108   \n",
       "\n",
       "   4.1 nurse staffing hours per resident day or higher  \\\n",
       "0                                                  0     \n",
       "1                                                  0     \n",
       "2                                                  0     \n",
       "3                                                  0     \n",
       "4                                                  0     \n",
       "\n",
       "   Under 4.1 nurse staffing hours per resident day  \\\n",
       "0                                                1   \n",
       "1                                                1   \n",
       "2                                                1   \n",
       "3                                                1   \n",
       "4                                                1   \n",
       "\n",
       "   Residents Total Confirmed COVID-19  Staff Total Confirmed COVID-19  \n",
       "0                                   0                               1  \n",
       "1                                   3                               2  \n",
       "2                                   2                               6  \n",
       "3                                   0                               0  \n",
       "4                                  21                              13  "
      ]
     },
     "execution_count": 119,
     "metadata": {},
     "output_type": "execute_result"
    }
   ],
   "source": [
    "df.head()"
   ]
  },
  {
   "cell_type": "code",
   "execution_count": 120,
   "metadata": {},
   "outputs": [
    {
     "data": {
      "text/plain": [
       "[Text(0, 0.5, 'NUMBER OF EACH TYPE OF NHs')]"
      ]
     },
     "execution_count": 120,
     "metadata": {},
     "output_type": "execute_result"
    },
    {
     "data": {
      "image/png": "[encoded data removed]",
      "text/plain": [
       "<Figure size 720x360 with 1 Axes>"
      ]
     },
     "metadata": {
      "needs_background": "light"
     },
     "output_type": "display_data"
    }
   ],
   "source": [
    "plt.figure(figsize=(10,5))\n",
    "ax=sns.barplot(x=[\"Under 4.1 nurse staffing hours per resident day\", \"4.1 nurse staffing hours per resident day or higher\"],y=[df[\"Under 4.1 nurse staffing hours per resident day\"].sum(),df[\"4.1 nurse staffing hours per resident day or higher\"].sum()])\n",
    "ax.set(ylabel=\"NUMBER OF EACH TYPE OF NHs\")"
   ]
  },
  {
   "cell_type": "markdown",
   "metadata": {},
   "source": [
    "### RESIDENTS"
   ]
  },
  {
   "cell_type": "code",
   "execution_count": 121,
   "metadata": {},
   "outputs": [
    {
     "data": {
      "text/plain": [
       "[Text(0, 0.5, 'Residents Total Confirmed COVID-19 per NH')]"
      ]
     },
     "execution_count": 121,
     "metadata": {},
     "output_type": "execute_result"
    },
    {
     "data": {
      "image/png": "[encoded data removed]",
      "text/plain": [
       "<Figure size 720x360 with 1 Axes>"
      ]
     },
     "metadata": {
      "needs_background": "light"
     },
     "output_type": "display_data"
    }
   ],
   "source": [
    "plt.figure(figsize=(10,5))\n",
    "ax=sns.barplot(x=[\"Under 4.1 nurse staffing hours per resident day\", \"4.1 nurse staffing hours per resident day or higher\"],y=[df[df[\"Under 4.1 nurse staffing hours per resident day\"]==1][\"Residents Total Confirmed COVID-19\"].sum()/df[\"Under 4.1 nurse staffing hours per resident day\"].sum(),df[df[\"4.1 nurse staffing hours per resident day or higher\"]==1][\"Residents Total Confirmed COVID-19\"].sum()/df[\"4.1 nurse staffing hours per resident day or higher\"].sum()])\n",
    "ax.set(ylabel=\"Residents Total Confirmed COVID-19 per NH\")"
   ]
  },
  {
   "cell_type": "code",
   "execution_count": 122,
   "metadata": {},
   "outputs": [
    {
     "name": "stdout",
     "output_type": "stream",
     "text": [
      "Chi-Square: 1.1880728723445033\n",
      "Confidence Interval:(6.005255417590984, 12.504356461206196)\n",
      "P-Value:0.27571862568016825\n"
     ]
    }
   ],
   "source": [
    "#CHI SQUARED TEST FOR RESIDENTS\n",
    "Res=np.array(([df[df[\"Under 4.1 nurse staffing hours per resident day\"]==1][\"Residents Total Confirmed COVID-19\"].sum()/df[\"Under 4.1 nurse staffing hours per resident day\"].sum(),df[df[\"4.1 nurse staffing hours per resident day or higher\"]==1][\"Residents Total Confirmed COVID-19\"].sum()/df[\"4.1 nurse staffing hours per resident day or higher\"].sum()]))\n",
    "mean=np.mean(Res)\n",
    "sigma=np.std(Res)\n",
    "chisq,p=stats.chisquare(Res)\n",
    "conf_int = stats.norm.interval(0.95, loc=mean, scale=sigma / np.sqrt(len(Res)))\n",
    "print(\"Chi-Square: \"+str(chisq))\n",
    "print(\"Confidence Interval:\" + str(conf_int))\n",
    "print(\"P-Value:\" + str(p))"
   ]
  },
  {
   "cell_type": "markdown",
   "metadata": {},
   "source": [
    "#### INFERENCE: The p value of the Residents data is significant(p=0.275) meaning that we can accept the null Hypothesis and say that the values are actually close to the expected values. This is also reflected in the close 95% CI.\n",
    "\n",
    "#### Graphically the trend is very clear. The outbreak is clearly bigger at NHs where the Staffing hours per Resident is lower than at the NHs where the Nursing hours are higher."
   ]
  },
  {
   "cell_type": "markdown",
   "metadata": {},
   "source": [
    "### HCW STAFF"
   ]
  },
  {
   "cell_type": "code",
   "execution_count": 123,
   "metadata": {},
   "outputs": [
    {
     "data": {
      "text/plain": [
       "[Text(0, 0.5, 'Staff Total Confirmed COVID-19 per NH')]"
      ]
     },
     "execution_count": 123,
     "metadata": {},
     "output_type": "execute_result"
    },
    {
     "data": {
      "image/png": "[encoded data removed]",
      "text/plain": [
       "<Figure size 720x360 with 1 Axes>"
      ]
     },
     "metadata": {
      "needs_background": "light"
     },
     "output_type": "display_data"
    }
   ],
   "source": [
    "plt.figure(figsize=(10,5))\n",
    "ax=sns.barplot(x=[\"Under 4.1 nurse staffing hours per resident day\", \"4.1 nurse staffing hours per resident day or higher\"],y=[df[df[\"Under 4.1 nurse staffing hours per resident day\"]==1][\"Staff Total Confirmed COVID-19\"].sum()/df[\"Under 4.1 nurse staffing hours per resident day\"].sum(),df[df[\"4.1 nurse staffing hours per resident day or higher\"]==1][\"Staff Total Confirmed COVID-19\"].sum()/df[\"4.1 nurse staffing hours per resident day or higher\"].sum()])\n",
    "ax.set(ylabel=\"Staff Total Confirmed COVID-19 per NH\")"
   ]
  },
  {
   "cell_type": "code",
   "execution_count": 124,
   "metadata": {},
   "outputs": [
    {
     "name": "stdout",
     "output_type": "stream",
     "text": [
      "Chi-Square: 0.007943677958783627\n",
      "Confidence Interval:(7.215729667849944, 7.6926648343709605)\n",
      "P-Value:0.9289807309724348\n"
     ]
    }
   ],
   "source": [
    "#CHI SQUARED TEST FOR Staff\n",
    "Hcw=np.array(([df[df[\"Under 4.1 nurse staffing hours per resident day\"]==1][\"Staff Total Confirmed COVID-19\"].sum()/df[\"Under 4.1 nurse staffing hours per resident day\"].sum(),df[df[\"4.1 nurse staffing hours per resident day or higher\"]==1][\"Staff Total Confirmed COVID-19\"].sum()/df[\"4.1 nurse staffing hours per resident day or higher\"].sum()]))\n",
    "mean=np.mean(Hcw)\n",
    "sigma=np.std(Hcw)\n",
    "chisq,p=stats.chisquare(Hcw)\n",
    "conf_int = stats.norm.interval(0.95, loc=mean, scale=sigma / np.sqrt(len(Hcw)))\n",
    "print(\"Chi-Square: \"+str(chisq))\n",
    "print(\"Confidence Interval:\" + str(conf_int))\n",
    "print(\"P-Value:\" + str(p))"
   ]
  },
  {
   "cell_type": "markdown",
   "metadata": {},
   "source": [
    "#### INFERENCE: The p value of the Staff data is very big(p=0.928) meaning that we can accept the null Hypothesis and say that the values are actually very close to the expected values. This is also reflected in the very narrow 95% CI.\n",
    "\n",
    "#### Graphically the trend is very clear. The outbreak is clearly bigger at NHs where the Staffing hours per Resident is marginally lower than at the NHs where the Nursing hours are higher."
   ]
  },
  {
   "cell_type": "markdown",
   "metadata": {},
   "source": [
    "### QUESTION 8"
   ]
  },
  {
   "cell_type": "code",
   "execution_count": 125,
   "metadata": {},
   "outputs": [
    {
     "data": {
      "text/plain": [
       "Index(['Federal Provider Number', 'Provider Zip Code', 'Government',\n",
       "       'Non profit', 'For profit', 'Young (<33% Percentile)',\n",
       "       'Medium (33%-66% Percentile)', 'Old (>66% Percentile)',\n",
       "       '4- or 5-Star Overall Rating', '3-Star Overall Rating',\n",
       "       '1- or 2-Star Overall Rating',\n",
       "       '0.75 RN staffing hours per resident day or higher',\n",
       "       'Under 0.75 RN staffing hours per resident day ',\n",
       "       '4.1 nurse staffing hours per resident day or higher',\n",
       "       'Under 4.1 nurse staffing hours per resident day',\n",
       "       'No federal deficiencies', 'Federal deficiencies',\n",
       "       'Serious federal deficiencies',\n",
       "       'No Confirmed COVID-19 Cases among residents',\n",
       "       'Confirmed COVID-19 Cases among residents (1-<95% Percentile)',\n",
       "       'Confirmed COVID-19 Cases among residents (>=95% Percentile)',\n",
       "       'No Confirmed COVID-19 Cases among staff',\n",
       "       'Confirmed COVID-19 Cases among staff (1-<95% Percentile)',\n",
       "       'Confirmed COVID-19 Cases among staff (>=95% Percentile)',\n",
       "       'No Confirmed COVID-19 Deaths among residents',\n",
       "       'Confirmed COVID-19 Deaths among residents (1-<95% Percentile)',\n",
       "       'Confirmed COVID-19 Deaths among residents (>=95% Percentile)',\n",
       "       'No Confirmed COVID-19 Deaths among staff',\n",
       "       'Confirmed COVID-19 Deaths among staff (>0)',\n",
       "       'Facility size Small (<33% Percentile beds)',\n",
       "       'Facility size Medium (33%-66% Percentile beds)',\n",
       "       'Facility size Large (>66% Percentile beds)',\n",
       "       'Low occupancy rate (<33% Percentile)',\n",
       "       'Medium occupancy rate (33%-66% Percentile)',\n",
       "       'High occupancy rate (>66% Percentile)', 'Low Medicaid share (<Median)',\n",
       "       'High Medicaid share (>=Median)', 'No chain affiliation',\n",
       "       'Chain affiliation', 'Low racial or ethnic minority share (<Median)',\n",
       "       'High racial or ethnic minority share (>=Median)'],\n",
       "      dtype='object')"
      ]
     },
     "execution_count": 125,
     "metadata": {},
     "output_type": "execute_result"
    }
   ],
   "source": [
    "df_NH.columns"
   ]
  },
  {
   "cell_type": "code",
   "execution_count": 126,
   "metadata": {},
   "outputs": [
    {
     "data": {
      "text/plain": [
       "Index(['Federal Provider Number',\n",
       "       'Reported Total Nurse Staffing Hours per Resident per Day',\n",
       "       'Overall Rating', 'Ownership Type',\n",
       "       'Residents Total Confirmed COVID-19', 'Residents Total COVID-19 Deaths',\n",
       "       'Number of All Beds', 'Total Number of Occupied Beds',\n",
       "       'Staff Total Confirmed COVID-19', 'Staff Total COVID-19 Deaths',\n",
       "       'paymcaid', 'pctwhite_2011p'],\n",
       "      dtype='object')"
      ]
     },
     "execution_count": 126,
     "metadata": {},
     "output_type": "execute_result"
    }
   ],
   "source": [
    "df_CONTINUOUS.columns"
   ]
  },
  {
   "cell_type": "code",
   "execution_count": 127,
   "metadata": {},
   "outputs": [],
   "source": [
    "df_A=df_NH[['Federal Provider Number','Low Medicaid share (<Median)',\n",
    "       'High Medicaid share (>=Median)','Low racial or ethnic minority share (<Median)',\n",
    "       'High racial or ethnic minority share (>=Median)']]"
   ]
  },
  {
   "cell_type": "code",
   "execution_count": 128,
   "metadata": {},
   "outputs": [],
   "source": [
    "df_B=df_CONTINUOUS[['Federal Provider Number','Residents Total Confirmed COVID-19','Residents Total COVID-19 Deaths','Staff Total Confirmed COVID-19', 'Staff Total COVID-19 Deaths']]"
   ]
  },
  {
   "cell_type": "code",
   "execution_count": 129,
   "metadata": {},
   "outputs": [],
   "source": [
    "df=df_A.merge(df_B, on='Federal Provider Number', how='inner')"
   ]
  },
  {
   "cell_type": "code",
   "execution_count": 130,
   "metadata": {},
   "outputs": [
    {
     "data": {
      "text/html": [
       "<div>\n",
       "<style scoped>\n",
       "    .dataframe tbody tr th:only-of-type {\n",
       "        vertical-align: middle;\n",
       "    }\n",
       "\n",
       "    .dataframe tbody tr th {\n",
       "        vertical-align: top;\n",
       "    }\n",
       "\n",
       "    .dataframe thead th {\n",
       "        text-align: right;\n",
       "    }\n",
       "</style>\n",
       "<table border=\"1\" class=\"dataframe\">\n",
       "  <thead>\n",
       "    <tr style=\"text-align: right;\">\n",
       "      <th></th>\n",
       "      <th>Federal Provider Number</th>\n",
       "      <th>Low Medicaid share (&lt;Median)</th>\n",
       "      <th>High Medicaid share (&gt;=Median)</th>\n",
       "      <th>Low racial or ethnic minority share (&lt;Median)</th>\n",
       "      <th>High racial or ethnic minority share (&gt;=Median)</th>\n",
       "      <th>Residents Total Confirmed COVID-19</th>\n",
       "      <th>Residents Total COVID-19 Deaths</th>\n",
       "      <th>Staff Total Confirmed COVID-19</th>\n",
       "      <th>Staff Total COVID-19 Deaths</th>\n",
       "    </tr>\n",
       "  </thead>\n",
       "  <tbody>\n",
       "    <tr>\n",
       "      <th>0</th>\n",
       "      <td>365333</td>\n",
       "      <td>0</td>\n",
       "      <td>1</td>\n",
       "      <td>0</td>\n",
       "      <td>1</td>\n",
       "      <td>0</td>\n",
       "      <td>0</td>\n",
       "      <td>1</td>\n",
       "      <td>0</td>\n",
       "    </tr>\n",
       "    <tr>\n",
       "      <th>1</th>\n",
       "      <td>315254</td>\n",
       "      <td>0</td>\n",
       "      <td>1</td>\n",
       "      <td>1</td>\n",
       "      <td>0</td>\n",
       "      <td>3</td>\n",
       "      <td>0</td>\n",
       "      <td>2</td>\n",
       "      <td>0</td>\n",
       "    </tr>\n",
       "    <tr>\n",
       "      <th>2</th>\n",
       "      <td>495309</td>\n",
       "      <td>0</td>\n",
       "      <td>1</td>\n",
       "      <td>1</td>\n",
       "      <td>0</td>\n",
       "      <td>2</td>\n",
       "      <td>0</td>\n",
       "      <td>6</td>\n",
       "      <td>0</td>\n",
       "    </tr>\n",
       "    <tr>\n",
       "      <th>3</th>\n",
       "      <td>515181</td>\n",
       "      <td>0</td>\n",
       "      <td>1</td>\n",
       "      <td>0</td>\n",
       "      <td>1</td>\n",
       "      <td>0</td>\n",
       "      <td>0</td>\n",
       "      <td>0</td>\n",
       "      <td>0</td>\n",
       "    </tr>\n",
       "    <tr>\n",
       "      <th>4</th>\n",
       "      <td>676108</td>\n",
       "      <td>0</td>\n",
       "      <td>1</td>\n",
       "      <td>0</td>\n",
       "      <td>1</td>\n",
       "      <td>21</td>\n",
       "      <td>0</td>\n",
       "      <td>13</td>\n",
       "      <td>0</td>\n",
       "    </tr>\n",
       "  </tbody>\n",
       "</table>\n",
       "</div>"
      ],
      "text/plain": [
       "  Federal Provider Number  Low Medicaid share (<Median)  \\\n",
       "0                  365333                             0   \n",
       "1                  315254                             0   \n",
       "2                  495309                             0   \n",
       "3                  515181                             0   \n",
       "4                  676108                             0   \n",
       "\n",
       "   High Medicaid share (>=Median)  \\\n",
       "0                               1   \n",
       "1                               1   \n",
       "2                               1   \n",
       "3                               1   \n",
       "4                               1   \n",
       "\n",
       "   Low racial or ethnic minority share (<Median)  \\\n",
       "0                                              0   \n",
       "1                                              1   \n",
       "2                                              1   \n",
       "3                                              0   \n",
       "4                                              0   \n",
       "\n",
       "   High racial or ethnic minority share (>=Median)  \\\n",
       "0                                                1   \n",
       "1                                                0   \n",
       "2                                                0   \n",
       "3                                                1   \n",
       "4                                                1   \n",
       "\n",
       "   Residents Total Confirmed COVID-19  Residents Total COVID-19 Deaths  \\\n",
       "0                                   0                                0   \n",
       "1                                   3                                0   \n",
       "2                                   2                                0   \n",
       "3                                   0                                0   \n",
       "4                                  21                                0   \n",
       "\n",
       "   Staff Total Confirmed COVID-19  Staff Total COVID-19 Deaths  \n",
       "0                               1                            0  \n",
       "1                               2                            0  \n",
       "2                               6                            0  \n",
       "3                               0                            0  \n",
       "4                              13                            0  "
      ]
     },
     "execution_count": 130,
     "metadata": {},
     "output_type": "execute_result"
    }
   ],
   "source": [
    "df.head()"
   ]
  },
  {
   "cell_type": "markdown",
   "metadata": {},
   "source": [
    "### 1.MEDICAID"
   ]
  },
  {
   "cell_type": "code",
   "execution_count": 131,
   "metadata": {},
   "outputs": [
    {
     "data": {
      "text/plain": [
       "[Text(0, 0.5, 'NUMBER OF EACH TYPE OF NHs')]"
      ]
     },
     "execution_count": 131,
     "metadata": {},
     "output_type": "execute_result"
    },
    {
     "data": {
      "image/png": "[encoded data removed]",
      "text/plain": [
       "<Figure size 432x288 with 1 Axes>"
      ]
     },
     "metadata": {
      "needs_background": "light"
     },
     "output_type": "display_data"
    }
   ],
   "source": [
    "ax=sns.barplot(x=[\"Low Medicaid share (<Median)\", \"High Medicaid share (>=Median)\"],y=[df[\"Low Medicaid share (<Median)\"].sum(),df[\"High Medicaid share (>=Median)\"].sum()])\n",
    "ax.set(ylabel=\"NUMBER OF EACH TYPE OF NHs\")"
   ]
  },
  {
   "cell_type": "markdown",
   "metadata": {},
   "source": [
    "### CASES: RESIDENTS"
   ]
  },
  {
   "cell_type": "code",
   "execution_count": 132,
   "metadata": {},
   "outputs": [
    {
     "data": {
      "text/plain": [
       "[Text(0, 0.5, 'Residents Total Confirmed COVID-19 per NH')]"
      ]
     },
     "execution_count": 132,
     "metadata": {},
     "output_type": "execute_result"
    },
    {
     "data": {
      "image/png": "[encoded data removed]",
      "text/plain": [
       "<Figure size 432x288 with 1 Axes>"
      ]
     },
     "metadata": {
      "needs_background": "light"
     },
     "output_type": "display_data"
    }
   ],
   "source": [
    "ax=sns.barplot(x=[\"Low Medicaid share (<Median)\", \"High Medicaid share (>=Median)\"],y=[df[df[\"Low Medicaid share (<Median)\"]==1][\"Residents Total Confirmed COVID-19\"].sum()/df[\"Low Medicaid share (<Median)\"].sum(),df[df[\"High Medicaid share (>=Median)\"]==1][\"Residents Total Confirmed COVID-19\"].sum()/df[\"High Medicaid share (>=Median)\"].sum()])\n",
    "ax.set(ylabel=\"Residents Total Confirmed COVID-19 per NH\")"
   ]
  },
  {
   "cell_type": "code",
   "execution_count": 133,
   "metadata": {},
   "outputs": [
    {
     "name": "stdout",
     "output_type": "stream",
     "text": [
      "Chi-Square: 0.5977936940315917\n",
      "Confidence Interval:(7.875981547822655, 12.741467498979528)\n",
      "P-Value:0.43942107208483716\n"
     ]
    }
   ],
   "source": [
    "#CHI SQUARED TEST FOR RESIDENTS\n",
    "Res=np.array(([df[df[\"Low Medicaid share (<Median)\"]==1][\"Residents Total Confirmed COVID-19\"].sum()/df[\"Low Medicaid share (<Median)\"].sum(),df[df[\"High Medicaid share (>=Median)\"]==1][\"Residents Total Confirmed COVID-19\"].sum()/df[\"High Medicaid share (>=Median)\"].sum()]))\n",
    "mean=np.mean(Res)\n",
    "sigma=np.std(Res)\n",
    "chisq,p=stats.chisquare(Res)\n",
    "conf_int = stats.norm.interval(0.95, loc=mean, scale=sigma / np.sqrt(len(Res)))\n",
    "print(\"Chi-Square: \"+str(chisq))\n",
    "print(\"Confidence Interval:\" + str(conf_int))\n",
    "print(\"P-Value:\" + str(p))"
   ]
  },
  {
   "cell_type": "markdown",
   "metadata": {},
   "source": [
    "#### INFERENCE: The p value is quite high because of which we can accept the null hypothesis and conclude that the values are quite close to expected values. 95% CI is also quite narrow.\n",
    "\n",
    "#### Graphically it is clear that higher the share of Medicaid, bigger is the size of the outbreak"
   ]
  },
  {
   "cell_type": "markdown",
   "metadata": {},
   "source": [
    "### CASES: STAFF"
   ]
  },
  {
   "cell_type": "code",
   "execution_count": 134,
   "metadata": {},
   "outputs": [
    {
     "data": {
      "text/plain": [
       "[Text(0, 0.5, 'Staff Total Confirmed COVID-19 per NH')]"
      ]
     },
     "execution_count": 134,
     "metadata": {},
     "output_type": "execute_result"
    },
    {
     "data": {
      "image/png": "[encoded data removed]",
      "text/plain": [
       "<Figure size 432x288 with 1 Axes>"
      ]
     },
     "metadata": {
      "needs_background": "light"
     },
     "output_type": "display_data"
    }
   ],
   "source": [
    "ax=sns.barplot(x=[\"Low Medicaid share (<Median)\", \"High Medicaid share (>=Median)\"],y=[df[df[\"Low Medicaid share (<Median)\"]==1][\"Staff Total Confirmed COVID-19\"].sum()/df[\"Low Medicaid share (<Median)\"].sum(),df[df[\"High Medicaid share (>=Median)\"]==1][\"Staff Total Confirmed COVID-19\"].sum()/df[\"High Medicaid share (>=Median)\"].sum()])\n",
    "ax.set(ylabel=\"Staff Total Confirmed COVID-19 per NH\")"
   ]
  },
  {
   "cell_type": "code",
   "execution_count": 135,
   "metadata": {},
   "outputs": [
    {
     "name": "stdout",
     "output_type": "stream",
     "text": [
      "Chi-Square: 0.0527467063368019\n",
      "Confidence Interval:(6.916370938273685, 8.151928216013353)\n",
      "P-Value:0.8183509195638494\n"
     ]
    }
   ],
   "source": [
    "#CHI SQUARED TEST FOR Staff\n",
    "Hcw=np.array(([df[df[\"Low Medicaid share (<Median)\"]==1][\"Staff Total Confirmed COVID-19\"].sum()/df[\"Low Medicaid share (<Median)\"].sum(),df[df[\"High Medicaid share (>=Median)\"]==1][\"Staff Total Confirmed COVID-19\"].sum()/df[\"High Medicaid share (>=Median)\"].sum()]))\n",
    "mean=np.mean(Hcw)\n",
    "sigma=np.std(Hcw)\n",
    "chisq,p=stats.chisquare(Hcw)\n",
    "conf_int = stats.norm.interval(0.95, loc=mean, scale=sigma / np.sqrt(len(Hcw)))\n",
    "print(\"Chi-Square: \"+str(chisq))\n",
    "print(\"Confidence Interval:\" + str(conf_int))\n",
    "print(\"P-Value:\" + str(p))"
   ]
  },
  {
   "cell_type": "markdown",
   "metadata": {},
   "source": [
    "#### INFERENCE: The p value is quite high because of which we can accept the null hypothesis and conclude that the values are quite close to expected values. 95% CI is also quite narrow.\n",
    "\n",
    "#### Graphically it is clear that higher the share of Medicaid, bigger is the size of the outbreak"
   ]
  },
  {
   "cell_type": "markdown",
   "metadata": {},
   "source": [
    "### DEATHS: RESIDENTS"
   ]
  },
  {
   "cell_type": "code",
   "execution_count": 136,
   "metadata": {},
   "outputs": [
    {
     "data": {
      "text/plain": [
       "[Text(0, 0.5, 'Residents Total Confirmed COVID-19 Deaths per NH')]"
      ]
     },
     "execution_count": 136,
     "metadata": {},
     "output_type": "execute_result"
    },
    {
     "data": {
      "image/png": "[encoded data removed]",
      "text/plain": [
       "<Figure size 432x288 with 1 Axes>"
      ]
     },
     "metadata": {
      "needs_background": "light"
     },
     "output_type": "display_data"
    }
   ],
   "source": [
    "ax=sns.barplot(x=[\"Low Medicaid share (<Median)\", \"High Medicaid share (>=Median)\"],y=[df[df[\"Low Medicaid share (<Median)\"]==1][\"Residents Total COVID-19 Deaths\"].sum()/df[\"Low Medicaid share (<Median)\"].sum(),df[df[\"High Medicaid share (>=Median)\"]==1][\"Residents Total COVID-19 Deaths\"].sum()/df[\"High Medicaid share (>=Median)\"].sum()])\n",
    "ax.set(ylabel=\"Residents Total Confirmed COVID-19 Deaths per NH\")"
   ]
  },
  {
   "cell_type": "code",
   "execution_count": 137,
   "metadata": {},
   "outputs": [
    {
     "name": "stdout",
     "output_type": "stream",
     "text": [
      "Chi-Square: 0.07928500202665456\n",
      "Confidence Interval:(2.331451524250933, 3.2536957129385167)\n",
      "P-Value:0.7782687019507034\n"
     ]
    }
   ],
   "source": [
    "#CHI SQUARED TEST FOR RESIDENTS\n",
    "Res=np.array(([df[df[\"Low Medicaid share (<Median)\"]==1][\"Residents Total COVID-19 Deaths\"].sum()/df[\"Low Medicaid share (<Median)\"].sum(),df[df[\"High Medicaid share (>=Median)\"]==1][\"Residents Total COVID-19 Deaths\"].sum()/df[\"High Medicaid share (>=Median)\"].sum()]))\n",
    "mean=np.mean(Res)\n",
    "sigma=np.std(Res)\n",
    "chisq,p=stats.chisquare(Res)\n",
    "conf_int = stats.norm.interval(0.95, loc=mean, scale=sigma / np.sqrt(len(Res)))\n",
    "print(\"Chi-Square: \"+str(chisq))\n",
    "print(\"Confidence Interval:\" + str(conf_int))\n",
    "print(\"P-Value:\" + str(p))"
   ]
  },
  {
   "cell_type": "markdown",
   "metadata": {},
   "source": [
    "#### INFERENCE: The p value is quite high because of which we can accept the null hypothesis and conclude that the values are quite close to expected values. 95% CI is also quite narrow.\n",
    "\n",
    "#### Graphically it is clear that higher the share of Medicaid, bigger is the size of the outbreak"
   ]
  },
  {
   "cell_type": "markdown",
   "metadata": {},
   "source": [
    "### DEATHS: STAFF"
   ]
  },
  {
   "cell_type": "code",
   "execution_count": 138,
   "metadata": {},
   "outputs": [
    {
     "data": {
      "text/plain": [
       "[Text(0, 0.5, 'Staff Total Confirmed COVID-19 Deaths per NH')]"
      ]
     },
     "execution_count": 138,
     "metadata": {},
     "output_type": "execute_result"
    },
    {
     "data": {
      "image/png": "[encoded data removed]",
      "text/plain": [
       "<Figure size 432x288 with 1 Axes>"
      ]
     },
     "metadata": {
      "needs_background": "light"
     },
     "output_type": "display_data"
    }
   ],
   "source": [
    "ax=sns.barplot(x=[\"Low Medicaid share (<Median)\", \"High Medicaid share (>=Median)\"],y=[df[df[\"Low Medicaid share (<Median)\"]==1][\"Staff Total COVID-19 Deaths\"].sum()/df[\"Low Medicaid share (<Median)\"].sum(),df[df[\"High Medicaid share (>=Median)\"]==1][\"Staff Total COVID-19 Deaths\"].sum()/df[\"High Medicaid share (>=Median)\"].sum()])\n",
    "ax.set(ylabel=\"Staff Total Confirmed COVID-19 Deaths per NH\")"
   ]
  },
  {
   "cell_type": "code",
   "execution_count": 139,
   "metadata": {},
   "outputs": [
    {
     "name": "stdout",
     "output_type": "stream",
     "text": [
      "Chi-Square: 0.0014424157357521344\n",
      "Confidence Interval:(0.039900466750120225, 0.056219118034698104)\n",
      "P-Value:0.9697043069612766\n"
     ]
    }
   ],
   "source": [
    "#CHI SQUARED TEST FOR Staff\n",
    "Hcw=np.array(([df[df[\"Low Medicaid share (<Median)\"]==1][\"Staff Total COVID-19 Deaths\"].sum()/df[\"Low Medicaid share (<Median)\"].sum(),df[df[\"High Medicaid share (>=Median)\"]==1][\"Staff Total COVID-19 Deaths\"].sum()/df[\"High Medicaid share (>=Median)\"].sum()]))\n",
    "mean=np.mean(Hcw)\n",
    "sigma=np.std(Hcw)\n",
    "chisq,p=stats.chisquare(Hcw)\n",
    "conf_int = stats.norm.interval(0.95, loc=mean, scale=sigma / np.sqrt(len(Hcw)))\n",
    "print(\"Chi-Square: \"+str(chisq))\n",
    "print(\"Confidence Interval:\" + str(conf_int))\n",
    "print(\"P-Value:\" + str(p))"
   ]
  },
  {
   "cell_type": "markdown",
   "metadata": {},
   "source": [
    "#### INFERENCE: The p value is quite high because of which we can accept the null hypothesis and conclude that the values are quite close to expected values. 95% CI is also quite narrow.\n",
    "\n",
    "#### Graphically it is clear that higher the share of Medicaid, bigger is the size of the outbreak"
   ]
  },
  {
   "cell_type": "markdown",
   "metadata": {},
   "source": [
    "### 2.RACIAL AND ETHNIC MINORITY"
   ]
  },
  {
   "cell_type": "markdown",
   "metadata": {},
   "source": [
    "### CASES: RESIDENTS"
   ]
  },
  {
   "cell_type": "code",
   "execution_count": 140,
   "metadata": {},
   "outputs": [
    {
     "data": {
      "text/plain": [
       "[Text(0, 0.5, 'Residents Total Confirmed COVID-19 per NH')]"
      ]
     },
     "execution_count": 140,
     "metadata": {},
     "output_type": "execute_result"
    },
    {
     "data": {
      "image/png": "[encoded data removed]",
      "text/plain": [
       "<Figure size 720x360 with 1 Axes>"
      ]
     },
     "metadata": {
      "needs_background": "light"
     },
     "output_type": "display_data"
    }
   ],
   "source": [
    "plt.figure(figsize=(10,5))\n",
    "ax=sns.barplot(x=[\"Low racial or ethnic minority share (<Median)\", \"High racial or ethnic minority share (>=Median)\"],y=[df[df[\"Low racial or ethnic minority share (<Median)\"]==1][\"Residents Total Confirmed COVID-19\"].sum()/df[\"Low racial or ethnic minority share (<Median)\"].sum(),df[df[\"High racial or ethnic minority share (>=Median)\"]==1][\"Residents Total Confirmed COVID-19\"].sum()/df[\"High racial or ethnic minority share (>=Median)\"].sum()])\n",
    "ax.set(ylabel=\"Residents Total Confirmed COVID-19 per NH\")"
   ]
  },
  {
   "cell_type": "code",
   "execution_count": 141,
   "metadata": {},
   "outputs": [
    {
     "name": "stdout",
     "output_type": "stream",
     "text": [
      "Chi-Square: 2.7143574581970755\n",
      "Confidence Interval:(5.235169256357052, 15.676663765812448)\n",
      "P-Value:0.09944900820931728\n"
     ]
    }
   ],
   "source": [
    "#CHI SQUARED TEST FOR RESIDENTS\n",
    "Res=np.array(([df[df[\"Low racial or ethnic minority share (<Median)\"]==1][\"Residents Total Confirmed COVID-19\"].sum()/df[\"Low racial or ethnic minority share (<Median)\"].sum(),df[df[\"High racial or ethnic minority share (>=Median)\"]==1][\"Residents Total Confirmed COVID-19\"].sum()/df[\"High racial or ethnic minority share (>=Median)\"].sum()]))\n",
    "mean=np.mean(Res)\n",
    "sigma=np.std(Res)\n",
    "chisq,p=stats.chisquare(Res)\n",
    "conf_int = stats.norm.interval(0.95, loc=mean, scale=sigma / np.sqrt(len(Res)))\n",
    "print(\"Chi-Square: \"+str(chisq))\n",
    "print(\"Confidence Interval:\" + str(conf_int))\n",
    "print(\"P-Value:\" + str(p))"
   ]
  },
  {
   "cell_type": "markdown",
   "metadata": {},
   "source": [
    "#### INFERENCE: The p-value of the data is small but significant enough for us to accept the null hypothesis. The values are close to the expected values and this is also visible in a somewhat narrow 95% CI\n",
    "\n",
    "#### Graphically, the trend is very clear. The outbreak is bigger in the NHs where there is Low ethnic or racial minority"
   ]
  },
  {
   "cell_type": "markdown",
   "metadata": {},
   "source": [
    "### CASES: STAFF"
   ]
  },
  {
   "cell_type": "code",
   "execution_count": 142,
   "metadata": {},
   "outputs": [
    {
     "data": {
      "text/plain": [
       "[Text(0, 0.5, 'Staff Total Confirmed COVID-19 per NH')]"
      ]
     },
     "execution_count": 142,
     "metadata": {},
     "output_type": "execute_result"
    },
    {
     "data": {
      "image/png": "[encoded data removed]",
      "text/plain": [
       "<Figure size 720x360 with 1 Axes>"
      ]
     },
     "metadata": {
      "needs_background": "light"
     },
     "output_type": "display_data"
    }
   ],
   "source": [
    "plt.figure(figsize=(10,5))\n",
    "ax=sns.barplot(x=[\"Low racial or ethnic minority share (<Median)\", \"High racial or ethnic minority share (>=Median)\"],y=[df[df[\"Low racial or ethnic minority share (<Median)\"]==1][\"Staff Total Confirmed COVID-19\"].sum()/df[\"Low racial or ethnic minority share (<Median)\"].sum(),df[df[\"High racial or ethnic minority share (>=Median)\"]==1][\"Staff Total Confirmed COVID-19\"].sum()/df[\"High racial or ethnic minority share (>=Median)\"].sum()])\n",
    "ax.set(ylabel=\"Staff Total Confirmed COVID-19 per NH\")"
   ]
  },
  {
   "cell_type": "code",
   "execution_count": 143,
   "metadata": {},
   "outputs": [
    {
     "name": "stdout",
     "output_type": "stream",
     "text": [
      "Chi-Square: 1.6046110759749372\n",
      "Confidence Interval:(4.206209853941894, 11.06718356648443)\n",
      "P-Value:0.20525097621445282\n"
     ]
    }
   ],
   "source": [
    "#CHI SQUARED TEST FOR Staff\n",
    "Hcw=np.array(([df[df[\"Low racial or ethnic minority share (<Median)\"]==1][\"Staff Total Confirmed COVID-19\"].sum()/df[\"Low racial or ethnic minority share (<Median)\"].sum(),df[df[\"High racial or ethnic minority share (>=Median)\"]==1][\"Staff Total Confirmed COVID-19\"].sum()/df[\"High racial or ethnic minority share (>=Median)\"].sum()]))\n",
    "mean=np.mean(Hcw)\n",
    "sigma=np.std(Hcw)\n",
    "chisq,p=stats.chisquare(Hcw)\n",
    "conf_int = stats.norm.interval(0.95, loc=mean, scale=sigma / np.sqrt(len(Hcw)))\n",
    "print(\"Chi-Square: \"+str(chisq))\n",
    "print(\"Confidence Interval:\" + str(conf_int))\n",
    "print(\"P-Value:\" + str(p))"
   ]
  },
  {
   "cell_type": "markdown",
   "metadata": {},
   "source": [
    "#### INFERENCE: The p-value of the data is small but significant enough for us to accept the null hypothesis. The values are close to the expected values and this is also visible in a somewhat narrow 95% CI\n",
    "\n",
    "#### Graphically, the trend is very clear. The outbreak is bigger in the NHs where there is Low ethnic or racial minority"
   ]
  },
  {
   "cell_type": "markdown",
   "metadata": {},
   "source": [
    "### DEATHS: RESIDENTS"
   ]
  },
  {
   "cell_type": "code",
   "execution_count": 144,
   "metadata": {},
   "outputs": [
    {
     "data": {
      "text/plain": [
       "[Text(0, 0.5, 'Residents Total Confirmed COVID-19 Deaths per NH')]"
      ]
     },
     "execution_count": 144,
     "metadata": {},
     "output_type": "execute_result"
    },
    {
     "data": {
      "image/png": "[encoded data removed]",
      "text/plain": [
       "<Figure size 720x360 with 1 Axes>"
      ]
     },
     "metadata": {
      "needs_background": "light"
     },
     "output_type": "display_data"
    }
   ],
   "source": [
    "plt.figure(figsize=(10,5))\n",
    "ax=sns.barplot(x=[\"Low racial or ethnic minority share (<Median)\", \"High racial or ethnic minority share (>=Median)\"],y=[df[df[\"Low racial or ethnic minority share (<Median)\"]==1][\"Residents Total COVID-19 Deaths\"].sum()/df[\"Low racial or ethnic minority share (<Median)\"].sum(),df[df[\"High racial or ethnic minority share (>=Median)\"]==1][\"Residents Total COVID-19 Deaths\"].sum()/df[\"High racial or ethnic minority share (>=Median)\"].sum()])\n",
    "ax.set(ylabel=\"Residents Total Confirmed COVID-19 Deaths per NH\")"
   ]
  },
  {
   "cell_type": "code",
   "execution_count": 145,
   "metadata": {},
   "outputs": [
    {
     "name": "stdout",
     "output_type": "stream",
     "text": [
      "Chi-Square: 0.4413792609277186\n",
      "Confidence Interval:(1.7296660920574896, 3.917749850546964)\n",
      "P-Value:0.506457495045586\n"
     ]
    }
   ],
   "source": [
    "#CHI SQUARED TEST FOR Residents\n",
    "Hcw=np.array(([df[df[\"Low racial or ethnic minority share (<Median)\"]==1][\"Residents Total COVID-19 Deaths\"].sum()/df[\"Low racial or ethnic minority share (<Median)\"].sum(),df[df[\"High racial or ethnic minority share (>=Median)\"]==1][\"Residents Total COVID-19 Deaths\"].sum()/df[\"High racial or ethnic minority share (>=Median)\"].sum()]))\n",
    "mean=np.mean(Hcw)\n",
    "sigma=np.std(Hcw)\n",
    "chisq,p=stats.chisquare(Hcw)\n",
    "conf_int = stats.norm.interval(0.95, loc=mean, scale=sigma / np.sqrt(len(Hcw)))\n",
    "print(\"Chi-Square: \"+str(chisq))\n",
    "print(\"Confidence Interval:\" + str(conf_int))\n",
    "print(\"P-Value:\" + str(p))"
   ]
  },
  {
   "cell_type": "markdown",
   "metadata": {},
   "source": [
    "#### INFERENCE: The p value is quite high because of which we can accept the null hypothesis and conclude that the values are quite close to expected values. 95% CI is also quite narrow.\n",
    "\n",
    "#### Graphically it is clear that lower the racial or ethnic share, bigger is the size of the outbreak"
   ]
  },
  {
   "cell_type": "markdown",
   "metadata": {},
   "source": [
    "### DEATHS: STAFF"
   ]
  },
  {
   "cell_type": "code",
   "execution_count": 146,
   "metadata": {},
   "outputs": [
    {
     "data": {
      "text/plain": [
       "[Text(0, 0.5, 'Staff Total Confirmed COVID-19 Deaths per NH')]"
      ]
     },
     "execution_count": 146,
     "metadata": {},
     "output_type": "execute_result"
    },
    {
     "data": {
      "image/png": "[encoded data removed]",
      "text/plain": [
       "<Figure size 720x360 with 1 Axes>"
      ]
     },
     "metadata": {
      "needs_background": "light"
     },
     "output_type": "display_data"
    }
   ],
   "source": [
    "plt.figure(figsize=(10,5))\n",
    "ax=sns.barplot(x=[\"Low racial or ethnic minority share (<Median)\", \"High racial or ethnic minority share (>=Median)\"],y=[df[df[\"Low racial or ethnic minority share (<Median)\"]==1][\"Staff Total COVID-19 Deaths\"].sum()/df[\"Low racial or ethnic minority share (<Median)\"].sum(),df[df[\"High racial or ethnic minority share (>=Median)\"]==1][\"Staff Total COVID-19 Deaths\"].sum()/df[\"High racial or ethnic minority share (>=Median)\"].sum()])\n",
    "ax.set(ylabel=\"Staff Total Confirmed COVID-19 Deaths per NH\")"
   ]
  },
  {
   "cell_type": "code",
   "execution_count": 147,
   "metadata": {},
   "outputs": [
    {
     "name": "stdout",
     "output_type": "stream",
     "text": [
      "Chi-Square: 0.009192008082866819\n",
      "Confidence Interval:(0.0279287726258352, 0.06937719802035794)\n",
      "P-Value:0.9236198814443544\n"
     ]
    }
   ],
   "source": [
    "#CHI SQUARED TEST FOR Staff\n",
    "Hcw=np.array(([df[df[\"Low racial or ethnic minority share (<Median)\"]==1][\"Staff Total COVID-19 Deaths\"].sum()/df[\"Low racial or ethnic minority share (<Median)\"].sum(),df[df[\"High racial or ethnic minority share (>=Median)\"]==1][\"Staff Total COVID-19 Deaths\"].sum()/df[\"High racial or ethnic minority share (>=Median)\"].sum()]))\n",
    "mean=np.mean(Hcw)\n",
    "sigma=np.std(Hcw)\n",
    "chisq,p=stats.chisquare(Hcw)\n",
    "conf_int = stats.norm.interval(0.95, loc=mean, scale=sigma / np.sqrt(len(Hcw)))\n",
    "print(\"Chi-Square: \"+str(chisq))\n",
    "print(\"Confidence Interval:\" + str(conf_int))\n",
    "print(\"P-Value:\" + str(p))"
   ]
  },
  {
   "cell_type": "markdown",
   "metadata": {},
   "source": [
    "#### INFERENCE: The p value is quite high because of which we can accept the null hypothesis and conclude that the values are quite close to expected values. 95% CI is also quite narrow.\n",
    "\n",
    "#### Graphically it is clear that lower the racial or ethnic share, bigger is the size of the outbreak"
   ]
  },
  {
   "cell_type": "markdown",
   "metadata": {},
   "source": [
    "### QUESTION 9"
   ]
  },
  {
   "cell_type": "code",
   "execution_count": 148,
   "metadata": {},
   "outputs": [
    {
     "data": {
      "text/plain": [
       "Index(['Zip', 'County Code', 'County Infections per 100K',\n",
       "       'County Deaths per 100K', 'County Infections per 100K below Median',\n",
       "       'County Infections per 100K Median or higher',\n",
       "       'County Deaths per 100K below Median',\n",
       "       'County Deaths per 100K Median or higher', 'Rural area', 'Urban area'],\n",
       "      dtype='object')"
      ]
     },
     "execution_count": 148,
     "metadata": {},
     "output_type": "execute_result"
    }
   ],
   "source": [
    "df_COUNTY.columns"
   ]
  },
  {
   "cell_type": "code",
   "execution_count": 149,
   "metadata": {},
   "outputs": [
    {
     "data": {
      "text/plain": [
       "Index(['Federal Provider Number',\n",
       "       'Reported Total Nurse Staffing Hours per Resident per Day',\n",
       "       'Overall Rating', 'Ownership Type',\n",
       "       'Residents Total Confirmed COVID-19', 'Residents Total COVID-19 Deaths',\n",
       "       'Number of All Beds', 'Total Number of Occupied Beds',\n",
       "       'Staff Total Confirmed COVID-19', 'Staff Total COVID-19 Deaths',\n",
       "       'paymcaid', 'pctwhite_2011p'],\n",
       "      dtype='object')"
      ]
     },
     "execution_count": 149,
     "metadata": {},
     "output_type": "execute_result"
    }
   ],
   "source": [
    "df_CONTINUOUS.columns"
   ]
  },
  {
   "cell_type": "code",
   "execution_count": 150,
   "metadata": {},
   "outputs": [
    {
     "data": {
      "text/plain": [
       "Index(['Federal Provider Number', 'Provider Zip Code', 'Government',\n",
       "       'Non profit', 'For profit', 'Young (<33% Percentile)',\n",
       "       'Medium (33%-66% Percentile)', 'Old (>66% Percentile)',\n",
       "       '4- or 5-Star Overall Rating', '3-Star Overall Rating',\n",
       "       '1- or 2-Star Overall Rating',\n",
       "       '0.75 RN staffing hours per resident day or higher',\n",
       "       'Under 0.75 RN staffing hours per resident day ',\n",
       "       '4.1 nurse staffing hours per resident day or higher',\n",
       "       'Under 4.1 nurse staffing hours per resident day',\n",
       "       'No federal deficiencies', 'Federal deficiencies',\n",
       "       'Serious federal deficiencies',\n",
       "       'No Confirmed COVID-19 Cases among residents',\n",
       "       'Confirmed COVID-19 Cases among residents (1-<95% Percentile)',\n",
       "       'Confirmed COVID-19 Cases among residents (>=95% Percentile)',\n",
       "       'No Confirmed COVID-19 Cases among staff',\n",
       "       'Confirmed COVID-19 Cases among staff (1-<95% Percentile)',\n",
       "       'Confirmed COVID-19 Cases among staff (>=95% Percentile)',\n",
       "       'No Confirmed COVID-19 Deaths among residents',\n",
       "       'Confirmed COVID-19 Deaths among residents (1-<95% Percentile)',\n",
       "       'Confirmed COVID-19 Deaths among residents (>=95% Percentile)',\n",
       "       'No Confirmed COVID-19 Deaths among staff',\n",
       "       'Confirmed COVID-19 Deaths among staff (>0)',\n",
       "       'Facility size Small (<33% Percentile beds)',\n",
       "       'Facility size Medium (33%-66% Percentile beds)',\n",
       "       'Facility size Large (>66% Percentile beds)',\n",
       "       'Low occupancy rate (<33% Percentile)',\n",
       "       'Medium occupancy rate (33%-66% Percentile)',\n",
       "       'High occupancy rate (>66% Percentile)', 'Low Medicaid share (<Median)',\n",
       "       'High Medicaid share (>=Median)', 'No chain affiliation',\n",
       "       'Chain affiliation', 'Low racial or ethnic minority share (<Median)',\n",
       "       'High racial or ethnic minority share (>=Median)'],\n",
       "      dtype='object')"
      ]
     },
     "execution_count": 150,
     "metadata": {},
     "output_type": "execute_result"
    }
   ],
   "source": [
    "df_NH.columns"
   ]
  },
  {
   "cell_type": "code",
   "execution_count": 151,
   "metadata": {},
   "outputs": [],
   "source": [
    "df_A=df_NH[['Federal Provider Number', 'Provider Zip Code']]\n",
    "df_A.columns=['Federal Provider Number', 'Zip']\n",
    "df_B=df_COUNTY[['Zip', 'County Code']]"
   ]
  },
  {
   "cell_type": "code",
   "execution_count": 152,
   "metadata": {},
   "outputs": [],
   "source": [
    "df_temp=df_A.merge(df_B, on='Zip', how='inner')"
   ]
  },
  {
   "cell_type": "code",
   "execution_count": 153,
   "metadata": {},
   "outputs": [],
   "source": [
    "df_C=df_CONTINUOUS[['Federal Provider Number','Residents Total Confirmed COVID-19','Staff Total Confirmed COVID-19']]"
   ]
  },
  {
   "cell_type": "code",
   "execution_count": 154,
   "metadata": {},
   "outputs": [],
   "source": [
    "df=df_temp.merge(df_C, on='Federal Provider Number',how='inner')"
   ]
  },
  {
   "cell_type": "code",
   "execution_count": 155,
   "metadata": {},
   "outputs": [
    {
     "data": {
      "text/html": [
       "<div>\n",
       "<style scoped>\n",
       "    .dataframe tbody tr th:only-of-type {\n",
       "        vertical-align: middle;\n",
       "    }\n",
       "\n",
       "    .dataframe tbody tr th {\n",
       "        vertical-align: top;\n",
       "    }\n",
       "\n",
       "    .dataframe thead th {\n",
       "        text-align: right;\n",
       "    }\n",
       "</style>\n",
       "<table border=\"1\" class=\"dataframe\">\n",
       "  <thead>\n",
       "    <tr style=\"text-align: right;\">\n",
       "      <th></th>\n",
       "      <th>Federal Provider Number</th>\n",
       "      <th>Zip</th>\n",
       "      <th>County Code</th>\n",
       "      <th>Residents Total Confirmed COVID-19</th>\n",
       "      <th>Staff Total Confirmed COVID-19</th>\n",
       "    </tr>\n",
       "  </thead>\n",
       "  <tbody>\n",
       "    <tr>\n",
       "      <th>0</th>\n",
       "      <td>365333</td>\n",
       "      <td>43402</td>\n",
       "      <td>39173</td>\n",
       "      <td>0</td>\n",
       "      <td>1</td>\n",
       "    </tr>\n",
       "    <tr>\n",
       "      <th>1</th>\n",
       "      <td>365458</td>\n",
       "      <td>43402</td>\n",
       "      <td>39173</td>\n",
       "      <td>0</td>\n",
       "      <td>0</td>\n",
       "    </tr>\n",
       "    <tr>\n",
       "      <th>2</th>\n",
       "      <td>366401</td>\n",
       "      <td>43402</td>\n",
       "      <td>39173</td>\n",
       "      <td>0</td>\n",
       "      <td>0</td>\n",
       "    </tr>\n",
       "    <tr>\n",
       "      <th>3</th>\n",
       "      <td>315254</td>\n",
       "      <td>7093</td>\n",
       "      <td>34017</td>\n",
       "      <td>3</td>\n",
       "      <td>2</td>\n",
       "    </tr>\n",
       "    <tr>\n",
       "      <th>4</th>\n",
       "      <td>495309</td>\n",
       "      <td>23509</td>\n",
       "      <td>51710</td>\n",
       "      <td>2</td>\n",
       "      <td>6</td>\n",
       "    </tr>\n",
       "  </tbody>\n",
       "</table>\n",
       "</div>"
      ],
      "text/plain": [
       "  Federal Provider Number    Zip  County Code  \\\n",
       "0                  365333  43402        39173   \n",
       "1                  365458  43402        39173   \n",
       "2                  366401  43402        39173   \n",
       "3                  315254   7093        34017   \n",
       "4                  495309  23509        51710   \n",
       "\n",
       "   Residents Total Confirmed COVID-19  Staff Total Confirmed COVID-19  \n",
       "0                                   0                               1  \n",
       "1                                   0                               0  \n",
       "2                                   0                               0  \n",
       "3                                   3                               2  \n",
       "4                                   2                               6  "
      ]
     },
     "execution_count": 155,
     "metadata": {},
     "output_type": "execute_result"
    }
   ],
   "source": [
    "df.head()"
   ]
  },
  {
   "cell_type": "code",
   "execution_count": 156,
   "metadata": {},
   "outputs": [],
   "source": [
    "df.drop(columns=[\"Zip\"],inplace=True)"
   ]
  },
  {
   "cell_type": "code",
   "execution_count": 157,
   "metadata": {},
   "outputs": [
    {
     "data": {
      "text/html": [
       "<div>\n",
       "<style scoped>\n",
       "    .dataframe tbody tr th:only-of-type {\n",
       "        vertical-align: middle;\n",
       "    }\n",
       "\n",
       "    .dataframe tbody tr th {\n",
       "        vertical-align: top;\n",
       "    }\n",
       "\n",
       "    .dataframe thead th {\n",
       "        text-align: right;\n",
       "    }\n",
       "</style>\n",
       "<table border=\"1\" class=\"dataframe\">\n",
       "  <thead>\n",
       "    <tr style=\"text-align: right;\">\n",
       "      <th></th>\n",
       "      <th>Federal Provider Number</th>\n",
       "      <th>County Code</th>\n",
       "      <th>Residents Total Confirmed COVID-19</th>\n",
       "      <th>Staff Total Confirmed COVID-19</th>\n",
       "    </tr>\n",
       "  </thead>\n",
       "  <tbody>\n",
       "    <tr>\n",
       "      <th>0</th>\n",
       "      <td>365333</td>\n",
       "      <td>39173</td>\n",
       "      <td>0</td>\n",
       "      <td>1</td>\n",
       "    </tr>\n",
       "    <tr>\n",
       "      <th>1</th>\n",
       "      <td>365458</td>\n",
       "      <td>39173</td>\n",
       "      <td>0</td>\n",
       "      <td>0</td>\n",
       "    </tr>\n",
       "    <tr>\n",
       "      <th>2</th>\n",
       "      <td>366401</td>\n",
       "      <td>39173</td>\n",
       "      <td>0</td>\n",
       "      <td>0</td>\n",
       "    </tr>\n",
       "    <tr>\n",
       "      <th>3</th>\n",
       "      <td>315254</td>\n",
       "      <td>34017</td>\n",
       "      <td>3</td>\n",
       "      <td>2</td>\n",
       "    </tr>\n",
       "    <tr>\n",
       "      <th>4</th>\n",
       "      <td>495309</td>\n",
       "      <td>51710</td>\n",
       "      <td>2</td>\n",
       "      <td>6</td>\n",
       "    </tr>\n",
       "  </tbody>\n",
       "</table>\n",
       "</div>"
      ],
      "text/plain": [
       "  Federal Provider Number  County Code  Residents Total Confirmed COVID-19  \\\n",
       "0                  365333        39173                                   0   \n",
       "1                  365458        39173                                   0   \n",
       "2                  366401        39173                                   0   \n",
       "3                  315254        34017                                   3   \n",
       "4                  495309        51710                                   2   \n",
       "\n",
       "   Staff Total Confirmed COVID-19  \n",
       "0                               1  \n",
       "1                               0  \n",
       "2                               0  \n",
       "3                               2  \n",
       "4                               6  "
      ]
     },
     "execution_count": 157,
     "metadata": {},
     "output_type": "execute_result"
    }
   ],
   "source": [
    "df.head()"
   ]
  },
  {
   "cell_type": "code",
   "execution_count": 158,
   "metadata": {},
   "outputs": [
    {
     "data": {
      "text/plain": [
       "County Code\n",
       "1001     5\n",
       "1003     7\n",
       "1005     1\n",
       "1007     3\n",
       "1009     7\n",
       "        ..\n",
       "56037    1\n",
       "56039    1\n",
       "56041    1\n",
       "56043    1\n",
       "56045    2\n",
       "Name: Federal Provider Number, Length: 2934, dtype: int64"
      ]
     },
     "execution_count": 158,
     "metadata": {},
     "output_type": "execute_result"
    }
   ],
   "source": [
    "df.groupby('County Code')['Federal Provider Number'].count()"
   ]
  },
  {
   "cell_type": "markdown",
   "metadata": {},
   "source": [
    "### RESIDENTS"
   ]
  },
  {
   "cell_type": "code",
   "execution_count": 159,
   "metadata": {},
   "outputs": [
    {
     "data": {
      "text/plain": [
       "County Code\n",
       "1001     83\n",
       "1003     95\n",
       "1005     43\n",
       "1007     33\n",
       "1009     14\n",
       "         ..\n",
       "56037     0\n",
       "56039     0\n",
       "56041     0\n",
       "56043    16\n",
       "56045     1\n",
       "Name: Residents Total Confirmed COVID-19, Length: 2934, dtype: int64"
      ]
     },
     "execution_count": 159,
     "metadata": {},
     "output_type": "execute_result"
    }
   ],
   "source": [
    "df.groupby('County Code')['Residents Total Confirmed COVID-19'].sum()"
   ]
  },
  {
   "cell_type": "code",
   "execution_count": 160,
   "metadata": {},
   "outputs": [
    {
     "data": {
      "text/plain": [
       "[Text(0.5, 0, 'Number of NHs per county')]"
      ]
     },
     "execution_count": 160,
     "metadata": {},
     "output_type": "execute_result"
    },
    {
     "data": {
      "image/png": "[encoded data removed]",
      "text/plain": [
       "<Figure size 432x288 with 1 Axes>"
      ]
     },
     "metadata": {
      "needs_background": "light"
     },
     "output_type": "display_data"
    }
   ],
   "source": [
    "ax=sns.lineplot(x=df.groupby('County Code')['Federal Provider Number'].count(),y=df.groupby('County Code')['Residents Total Confirmed COVID-19'].sum())\n",
    "ax.set(xlabel=\"Number of NHs per county\")"
   ]
  },
  {
   "cell_type": "markdown",
   "metadata": {},
   "source": [
    "#### INFERENCE: Very evidently , as the number of facilities in a county increases, the size of the outbreaak among the residents increases almost linearly as is visible in the graph"
   ]
  },
  {
   "cell_type": "markdown",
   "metadata": {},
   "source": [
    "### HCW STAFF"
   ]
  },
  {
   "cell_type": "code",
   "execution_count": 161,
   "metadata": {},
   "outputs": [
    {
     "data": {
      "text/plain": [
       "[Text(0.5, 0, 'Number of NHs per county')]"
      ]
     },
     "execution_count": 161,
     "metadata": {},
     "output_type": "execute_result"
    },
    {
     "data": {
      "image/png": "[encoded data removed]",
      "text/plain": [
       "<Figure size 432x288 with 1 Axes>"
      ]
     },
     "metadata": {
      "needs_background": "light"
     },
     "output_type": "display_data"
    }
   ],
   "source": [
    "ax=sns.lineplot(x=df.groupby('County Code')['Federal Provider Number'].count(),y=df.groupby('County Code')['Staff Total Confirmed COVID-19'].sum())\n",
    "ax.set(xlabel=\"Number of NHs per county\")"
   ]
  },
  {
   "cell_type": "markdown",
   "metadata": {},
   "source": [
    "#### INFERENCE: Very evidently , as the number of facilities in a county increases, the size of the outbreaak among the staff increases almost linearly as is visible in the graph"
   ]
  },
  {
   "cell_type": "markdown",
   "metadata": {},
   "source": [
    "### QUESTION 10"
   ]
  },
  {
   "cell_type": "code",
   "execution_count": 162,
   "metadata": {},
   "outputs": [
    {
     "data": {
      "text/plain": [
       "Index(['Federal Provider Number', 'Provider Zip Code', 'Government',\n",
       "       'Non profit', 'For profit', 'Young (<33% Percentile)',\n",
       "       'Medium (33%-66% Percentile)', 'Old (>66% Percentile)',\n",
       "       '4- or 5-Star Overall Rating', '3-Star Overall Rating',\n",
       "       '1- or 2-Star Overall Rating',\n",
       "       '0.75 RN staffing hours per resident day or higher',\n",
       "       'Under 0.75 RN staffing hours per resident day ',\n",
       "       '4.1 nurse staffing hours per resident day or higher',\n",
       "       'Under 4.1 nurse staffing hours per resident day',\n",
       "       'No federal deficiencies', 'Federal deficiencies',\n",
       "       'Serious federal deficiencies',\n",
       "       'No Confirmed COVID-19 Cases among residents',\n",
       "       'Confirmed COVID-19 Cases among residents (1-<95% Percentile)',\n",
       "       'Confirmed COVID-19 Cases among residents (>=95% Percentile)',\n",
       "       'No Confirmed COVID-19 Cases among staff',\n",
       "       'Confirmed COVID-19 Cases among staff (1-<95% Percentile)',\n",
       "       'Confirmed COVID-19 Cases among staff (>=95% Percentile)',\n",
       "       'No Confirmed COVID-19 Deaths among residents',\n",
       "       'Confirmed COVID-19 Deaths among residents (1-<95% Percentile)',\n",
       "       'Confirmed COVID-19 Deaths among residents (>=95% Percentile)',\n",
       "       'No Confirmed COVID-19 Deaths among staff',\n",
       "       'Confirmed COVID-19 Deaths among staff (>0)',\n",
       "       'Facility size Small (<33% Percentile beds)',\n",
       "       'Facility size Medium (33%-66% Percentile beds)',\n",
       "       'Facility size Large (>66% Percentile beds)',\n",
       "       'Low occupancy rate (<33% Percentile)',\n",
       "       'Medium occupancy rate (33%-66% Percentile)',\n",
       "       'High occupancy rate (>66% Percentile)', 'Low Medicaid share (<Median)',\n",
       "       'High Medicaid share (>=Median)', 'No chain affiliation',\n",
       "       'Chain affiliation', 'Low racial or ethnic minority share (<Median)',\n",
       "       'High racial or ethnic minority share (>=Median)'],\n",
       "      dtype='object')"
      ]
     },
     "execution_count": 162,
     "metadata": {},
     "output_type": "execute_result"
    }
   ],
   "source": [
    "df_NH.columns"
   ]
  },
  {
   "cell_type": "code",
   "execution_count": 163,
   "metadata": {},
   "outputs": [
    {
     "data": {
      "text/plain": [
       "Index(['Zip', 'County Code', 'County Infections per 100K',\n",
       "       'County Deaths per 100K', 'County Infections per 100K below Median',\n",
       "       'County Infections per 100K Median or higher',\n",
       "       'County Deaths per 100K below Median',\n",
       "       'County Deaths per 100K Median or higher', 'Rural area', 'Urban area'],\n",
       "      dtype='object')"
      ]
     },
     "execution_count": 163,
     "metadata": {},
     "output_type": "execute_result"
    }
   ],
   "source": [
    "df_COUNTY.columns"
   ]
  },
  {
   "cell_type": "code",
   "execution_count": 164,
   "metadata": {},
   "outputs": [
    {
     "data": {
      "text/plain": [
       "Index(['Federal Provider Number',\n",
       "       'Reported Total Nurse Staffing Hours per Resident per Day',\n",
       "       'Overall Rating', 'Ownership Type',\n",
       "       'Residents Total Confirmed COVID-19', 'Residents Total COVID-19 Deaths',\n",
       "       'Number of All Beds', 'Total Number of Occupied Beds',\n",
       "       'Staff Total Confirmed COVID-19', 'Staff Total COVID-19 Deaths',\n",
       "       'paymcaid', 'pctwhite_2011p'],\n",
       "      dtype='object')"
      ]
     },
     "execution_count": 164,
     "metadata": {},
     "output_type": "execute_result"
    }
   ],
   "source": [
    "df_CONTINUOUS.columns"
   ]
  },
  {
   "cell_type": "code",
   "execution_count": 165,
   "metadata": {},
   "outputs": [],
   "source": [
    "df_A=df_A=df_NH[['Federal Provider Number', 'Provider Zip Code']]\n",
    "df_A.columns=['Federal Provider Number', 'Zip']\n",
    "df_B=df_COUNTY[['Zip', 'County Code','County Infections per 100K','County Deaths per 100K']]"
   ]
  },
  {
   "cell_type": "code",
   "execution_count": 166,
   "metadata": {},
   "outputs": [],
   "source": [
    "df_temp=df_A.merge(df_B, on='Zip', how='inner')"
   ]
  },
  {
   "cell_type": "code",
   "execution_count": 167,
   "metadata": {},
   "outputs": [],
   "source": [
    "df_C=df_CONTINUOUS[['Federal Provider Number','Residents Total Confirmed COVID-19','Residents Total COVID-19 Deaths']]\n",
    "df=df_temp.merge(df_C, on='Federal Provider Number',how='inner')"
   ]
  },
  {
   "cell_type": "code",
   "execution_count": 168,
   "metadata": {},
   "outputs": [
    {
     "data": {
      "text/html": [
       "<div>\n",
       "<style scoped>\n",
       "    .dataframe tbody tr th:only-of-type {\n",
       "        vertical-align: middle;\n",
       "    }\n",
       "\n",
       "    .dataframe tbody tr th {\n",
       "        vertical-align: top;\n",
       "    }\n",
       "\n",
       "    .dataframe thead th {\n",
       "        text-align: right;\n",
       "    }\n",
       "</style>\n",
       "<table border=\"1\" class=\"dataframe\">\n",
       "  <thead>\n",
       "    <tr style=\"text-align: right;\">\n",
       "      <th></th>\n",
       "      <th>Federal Provider Number</th>\n",
       "      <th>Zip</th>\n",
       "      <th>County Code</th>\n",
       "      <th>County Infections per 100K</th>\n",
       "      <th>County Deaths per 100K</th>\n",
       "      <th>Residents Total Confirmed COVID-19</th>\n",
       "      <th>Residents Total COVID-19 Deaths</th>\n",
       "    </tr>\n",
       "  </thead>\n",
       "  <tbody>\n",
       "    <tr>\n",
       "      <th>0</th>\n",
       "      <td>365333</td>\n",
       "      <td>43402</td>\n",
       "      <td>39173</td>\n",
       "      <td>453.0</td>\n",
       "      <td>41.0</td>\n",
       "      <td>0</td>\n",
       "      <td>0</td>\n",
       "    </tr>\n",
       "    <tr>\n",
       "      <th>1</th>\n",
       "      <td>365458</td>\n",
       "      <td>43402</td>\n",
       "      <td>39173</td>\n",
       "      <td>453.0</td>\n",
       "      <td>41.0</td>\n",
       "      <td>0</td>\n",
       "      <td>0</td>\n",
       "    </tr>\n",
       "    <tr>\n",
       "      <th>2</th>\n",
       "      <td>366401</td>\n",
       "      <td>43402</td>\n",
       "      <td>39173</td>\n",
       "      <td>453.0</td>\n",
       "      <td>41.0</td>\n",
       "      <td>0</td>\n",
       "      <td>0</td>\n",
       "    </tr>\n",
       "    <tr>\n",
       "      <th>3</th>\n",
       "      <td>315254</td>\n",
       "      <td>7093</td>\n",
       "      <td>34017</td>\n",
       "      <td>2863.0</td>\n",
       "      <td>222.0</td>\n",
       "      <td>3</td>\n",
       "      <td>0</td>\n",
       "    </tr>\n",
       "    <tr>\n",
       "      <th>4</th>\n",
       "      <td>495309</td>\n",
       "      <td>23509</td>\n",
       "      <td>51710</td>\n",
       "      <td>888.0</td>\n",
       "      <td>8.0</td>\n",
       "      <td>2</td>\n",
       "      <td>0</td>\n",
       "    </tr>\n",
       "  </tbody>\n",
       "</table>\n",
       "</div>"
      ],
      "text/plain": [
       "  Federal Provider Number    Zip  County Code  County Infections per 100K  \\\n",
       "0                  365333  43402        39173                       453.0   \n",
       "1                  365458  43402        39173                       453.0   \n",
       "2                  366401  43402        39173                       453.0   \n",
       "3                  315254   7093        34017                      2863.0   \n",
       "4                  495309  23509        51710                       888.0   \n",
       "\n",
       "   County Deaths per 100K  Residents Total Confirmed COVID-19  \\\n",
       "0                    41.0                                   0   \n",
       "1                    41.0                                   0   \n",
       "2                    41.0                                   0   \n",
       "3                   222.0                                   3   \n",
       "4                     8.0                                   2   \n",
       "\n",
       "   Residents Total COVID-19 Deaths  \n",
       "0                                0  \n",
       "1                                0  \n",
       "2                                0  \n",
       "3                                0  \n",
       "4                                0  "
      ]
     },
     "execution_count": 168,
     "metadata": {},
     "output_type": "execute_result"
    }
   ],
   "source": [
    "df.head()"
   ]
  },
  {
   "cell_type": "code",
   "execution_count": 169,
   "metadata": {},
   "outputs": [],
   "source": [
    "df.drop(columns=[\"Zip\"],inplace=True)"
   ]
  },
  {
   "cell_type": "code",
   "execution_count": 170,
   "metadata": {},
   "outputs": [
    {
     "data": {
      "text/html": [
       "<div>\n",
       "<style scoped>\n",
       "    .dataframe tbody tr th:only-of-type {\n",
       "        vertical-align: middle;\n",
       "    }\n",
       "\n",
       "    .dataframe tbody tr th {\n",
       "        vertical-align: top;\n",
       "    }\n",
       "\n",
       "    .dataframe thead th {\n",
       "        text-align: right;\n",
       "    }\n",
       "</style>\n",
       "<table border=\"1\" class=\"dataframe\">\n",
       "  <thead>\n",
       "    <tr style=\"text-align: right;\">\n",
       "      <th></th>\n",
       "      <th>Federal Provider Number</th>\n",
       "      <th>County Code</th>\n",
       "      <th>County Infections per 100K</th>\n",
       "      <th>County Deaths per 100K</th>\n",
       "      <th>Residents Total Confirmed COVID-19</th>\n",
       "      <th>Residents Total COVID-19 Deaths</th>\n",
       "    </tr>\n",
       "  </thead>\n",
       "  <tbody>\n",
       "    <tr>\n",
       "      <th>0</th>\n",
       "      <td>365333</td>\n",
       "      <td>39173</td>\n",
       "      <td>453.0</td>\n",
       "      <td>41.0</td>\n",
       "      <td>0</td>\n",
       "      <td>0</td>\n",
       "    </tr>\n",
       "    <tr>\n",
       "      <th>1</th>\n",
       "      <td>365458</td>\n",
       "      <td>39173</td>\n",
       "      <td>453.0</td>\n",
       "      <td>41.0</td>\n",
       "      <td>0</td>\n",
       "      <td>0</td>\n",
       "    </tr>\n",
       "    <tr>\n",
       "      <th>2</th>\n",
       "      <td>366401</td>\n",
       "      <td>39173</td>\n",
       "      <td>453.0</td>\n",
       "      <td>41.0</td>\n",
       "      <td>0</td>\n",
       "      <td>0</td>\n",
       "    </tr>\n",
       "    <tr>\n",
       "      <th>3</th>\n",
       "      <td>315254</td>\n",
       "      <td>34017</td>\n",
       "      <td>2863.0</td>\n",
       "      <td>222.0</td>\n",
       "      <td>3</td>\n",
       "      <td>0</td>\n",
       "    </tr>\n",
       "    <tr>\n",
       "      <th>4</th>\n",
       "      <td>495309</td>\n",
       "      <td>51710</td>\n",
       "      <td>888.0</td>\n",
       "      <td>8.0</td>\n",
       "      <td>2</td>\n",
       "      <td>0</td>\n",
       "    </tr>\n",
       "  </tbody>\n",
       "</table>\n",
       "</div>"
      ],
      "text/plain": [
       "  Federal Provider Number  County Code  County Infections per 100K  \\\n",
       "0                  365333        39173                       453.0   \n",
       "1                  365458        39173                       453.0   \n",
       "2                  366401        39173                       453.0   \n",
       "3                  315254        34017                      2863.0   \n",
       "4                  495309        51710                       888.0   \n",
       "\n",
       "   County Deaths per 100K  Residents Total Confirmed COVID-19  \\\n",
       "0                    41.0                                   0   \n",
       "1                    41.0                                   0   \n",
       "2                    41.0                                   0   \n",
       "3                   222.0                                   3   \n",
       "4                     8.0                                   2   \n",
       "\n",
       "   Residents Total COVID-19 Deaths  \n",
       "0                                0  \n",
       "1                                0  \n",
       "2                                0  \n",
       "3                                0  \n",
       "4                                0  "
      ]
     },
     "execution_count": 170,
     "metadata": {},
     "output_type": "execute_result"
    }
   ],
   "source": [
    "df.head()"
   ]
  },
  {
   "cell_type": "code",
   "execution_count": 171,
   "metadata": {},
   "outputs": [],
   "source": [
    "temp=df.groupby(\"County Code\")[\"Residents Total Confirmed COVID-19\"].sum()"
   ]
  },
  {
   "cell_type": "code",
   "execution_count": 172,
   "metadata": {},
   "outputs": [
    {
     "data": {
      "text/html": [
       "<div>\n",
       "<style scoped>\n",
       "    .dataframe tbody tr th:only-of-type {\n",
       "        vertical-align: middle;\n",
       "    }\n",
       "\n",
       "    .dataframe tbody tr th {\n",
       "        vertical-align: top;\n",
       "    }\n",
       "\n",
       "    .dataframe thead th {\n",
       "        text-align: right;\n",
       "    }\n",
       "</style>\n",
       "<table border=\"1\" class=\"dataframe\">\n",
       "  <thead>\n",
       "    <tr style=\"text-align: right;\">\n",
       "      <th></th>\n",
       "      <th>County Code</th>\n",
       "      <th>County Infections per 100K</th>\n",
       "    </tr>\n",
       "  </thead>\n",
       "  <tbody>\n",
       "    <tr>\n",
       "      <th>0</th>\n",
       "      <td>39173</td>\n",
       "      <td>453.0</td>\n",
       "    </tr>\n",
       "    <tr>\n",
       "      <th>3</th>\n",
       "      <td>34017</td>\n",
       "      <td>2863.0</td>\n",
       "    </tr>\n",
       "    <tr>\n",
       "      <th>4</th>\n",
       "      <td>51710</td>\n",
       "      <td>888.0</td>\n",
       "    </tr>\n",
       "    <tr>\n",
       "      <th>5</th>\n",
       "      <td>54107</td>\n",
       "      <td>248.0</td>\n",
       "    </tr>\n",
       "    <tr>\n",
       "      <th>7</th>\n",
       "      <td>48241</td>\n",
       "      <td>259.0</td>\n",
       "    </tr>\n",
       "    <tr>\n",
       "      <th>...</th>\n",
       "      <td>...</td>\n",
       "      <td>...</td>\n",
       "    </tr>\n",
       "    <tr>\n",
       "      <th>19318</th>\n",
       "      <td>41023</td>\n",
       "      <td>14.0</td>\n",
       "    </tr>\n",
       "    <tr>\n",
       "      <th>19326</th>\n",
       "      <td>40067</td>\n",
       "      <td>333.0</td>\n",
       "    </tr>\n",
       "    <tr>\n",
       "      <th>19333</th>\n",
       "      <td>54093</td>\n",
       "      <td>102.0</td>\n",
       "    </tr>\n",
       "    <tr>\n",
       "      <th>19337</th>\n",
       "      <td>37153</td>\n",
       "      <td>892.0</td>\n",
       "    </tr>\n",
       "    <tr>\n",
       "      <th>19348</th>\n",
       "      <td>48475</td>\n",
       "      <td>558.0</td>\n",
       "    </tr>\n",
       "  </tbody>\n",
       "</table>\n",
       "<p>2934 rows × 2 columns</p>\n",
       "</div>"
      ],
      "text/plain": [
       "       County Code  County Infections per 100K\n",
       "0            39173                       453.0\n",
       "3            34017                      2863.0\n",
       "4            51710                       888.0\n",
       "5            54107                       248.0\n",
       "7            48241                       259.0\n",
       "...            ...                         ...\n",
       "19318        41023                        14.0\n",
       "19326        40067                       333.0\n",
       "19333        54093                       102.0\n",
       "19337        37153                       892.0\n",
       "19348        48475                       558.0\n",
       "\n",
       "[2934 rows x 2 columns]"
      ]
     },
     "execution_count": 172,
     "metadata": {},
     "output_type": "execute_result"
    }
   ],
   "source": [
    "df[[\"County Code\",\"County Infections per 100K\"]].drop_duplicates()"
   ]
  },
  {
   "cell_type": "code",
   "execution_count": 173,
   "metadata": {},
   "outputs": [
    {
     "data": {
      "text/html": [
       "<div>\n",
       "<style scoped>\n",
       "    .dataframe tbody tr th:only-of-type {\n",
       "        vertical-align: middle;\n",
       "    }\n",
       "\n",
       "    .dataframe tbody tr th {\n",
       "        vertical-align: top;\n",
       "    }\n",
       "\n",
       "    .dataframe thead th {\n",
       "        text-align: right;\n",
       "    }\n",
       "</style>\n",
       "<table border=\"1\" class=\"dataframe\">\n",
       "  <thead>\n",
       "    <tr style=\"text-align: right;\">\n",
       "      <th></th>\n",
       "      <th>County Code</th>\n",
       "      <th>County Infections per 100K</th>\n",
       "      <th>Residents Total Confirmed COVID-19</th>\n",
       "    </tr>\n",
       "  </thead>\n",
       "  <tbody>\n",
       "    <tr>\n",
       "      <th>0</th>\n",
       "      <td>39173</td>\n",
       "      <td>453.0</td>\n",
       "      <td>80</td>\n",
       "    </tr>\n",
       "    <tr>\n",
       "      <th>1</th>\n",
       "      <td>34017</td>\n",
       "      <td>2863.0</td>\n",
       "      <td>251</td>\n",
       "    </tr>\n",
       "    <tr>\n",
       "      <th>2</th>\n",
       "      <td>51710</td>\n",
       "      <td>888.0</td>\n",
       "      <td>101</td>\n",
       "    </tr>\n",
       "    <tr>\n",
       "      <th>3</th>\n",
       "      <td>54107</td>\n",
       "      <td>248.0</td>\n",
       "      <td>2</td>\n",
       "    </tr>\n",
       "    <tr>\n",
       "      <th>4</th>\n",
       "      <td>48241</td>\n",
       "      <td>259.0</td>\n",
       "      <td>31</td>\n",
       "    </tr>\n",
       "    <tr>\n",
       "      <th>...</th>\n",
       "      <td>...</td>\n",
       "      <td>...</td>\n",
       "      <td>...</td>\n",
       "    </tr>\n",
       "    <tr>\n",
       "      <th>2929</th>\n",
       "      <td>41023</td>\n",
       "      <td>14.0</td>\n",
       "      <td>0</td>\n",
       "    </tr>\n",
       "    <tr>\n",
       "      <th>2930</th>\n",
       "      <td>40067</td>\n",
       "      <td>333.0</td>\n",
       "      <td>0</td>\n",
       "    </tr>\n",
       "    <tr>\n",
       "      <th>2931</th>\n",
       "      <td>54093</td>\n",
       "      <td>102.0</td>\n",
       "      <td>0</td>\n",
       "    </tr>\n",
       "    <tr>\n",
       "      <th>2932</th>\n",
       "      <td>37153</td>\n",
       "      <td>892.0</td>\n",
       "      <td>0</td>\n",
       "    </tr>\n",
       "    <tr>\n",
       "      <th>2933</th>\n",
       "      <td>48475</td>\n",
       "      <td>558.0</td>\n",
       "      <td>0</td>\n",
       "    </tr>\n",
       "  </tbody>\n",
       "</table>\n",
       "<p>2934 rows × 3 columns</p>\n",
       "</div>"
      ],
      "text/plain": [
       "      County Code  County Infections per 100K  \\\n",
       "0           39173                       453.0   \n",
       "1           34017                      2863.0   \n",
       "2           51710                       888.0   \n",
       "3           54107                       248.0   \n",
       "4           48241                       259.0   \n",
       "...           ...                         ...   \n",
       "2929        41023                        14.0   \n",
       "2930        40067                       333.0   \n",
       "2931        54093                       102.0   \n",
       "2932        37153                       892.0   \n",
       "2933        48475                       558.0   \n",
       "\n",
       "      Residents Total Confirmed COVID-19  \n",
       "0                                     80  \n",
       "1                                    251  \n",
       "2                                    101  \n",
       "3                                      2  \n",
       "4                                     31  \n",
       "...                                  ...  \n",
       "2929                                   0  \n",
       "2930                                   0  \n",
       "2931                                   0  \n",
       "2932                                   0  \n",
       "2933                                   0  \n",
       "\n",
       "[2934 rows x 3 columns]"
      ]
     },
     "execution_count": 173,
     "metadata": {},
     "output_type": "execute_result"
    }
   ],
   "source": [
    "df[[\"County Code\",\"County Infections per 100K\"]].drop_duplicates().merge(temp,on=\"County Code\", how='inner')"
   ]
  },
  {
   "cell_type": "code",
   "execution_count": 174,
   "metadata": {},
   "outputs": [
    {
     "data": {
      "text/plain": [
       "<matplotlib.axes._subplots.AxesSubplot at 0x25702a88d88>"
      ]
     },
     "execution_count": 174,
     "metadata": {},
     "output_type": "execute_result"
    },
    {
     "data": {
      "image/png": "[encoded data removed]",
      "text/plain": [
       "<Figure size 432x288 with 1 Axes>"
      ]
     },
     "metadata": {
      "needs_background": "light"
     },
     "output_type": "display_data"
    }
   ],
   "source": [
    "sns.lineplot(x=df['County Infections per 100K'],y=df['Residents Total Confirmed COVID-19'])"
   ]
  },
  {
   "cell_type": "markdown",
   "metadata": {},
   "source": [
    "#### INFERENCE: The graph shows an obvious pattern when the County Infections per 100K residents increases initially. Both increase in a direct manner. An unclear trend of falling Residents Cases in NHs is seen at High County cases. This might be due to small number of observations and sample size or errors in the data."
   ]
  },
  {
   "cell_type": "code",
   "execution_count": 175,
   "metadata": {},
   "outputs": [],
   "source": [
    "temp=df.groupby(\"County Code\")[\"Residents Total COVID-19 Deaths\"].sum()"
   ]
  },
  {
   "cell_type": "code",
   "execution_count": 176,
   "metadata": {},
   "outputs": [
    {
     "data": {
      "text/html": [
       "<div>\n",
       "<style scoped>\n",
       "    .dataframe tbody tr th:only-of-type {\n",
       "        vertical-align: middle;\n",
       "    }\n",
       "\n",
       "    .dataframe tbody tr th {\n",
       "        vertical-align: top;\n",
       "    }\n",
       "\n",
       "    .dataframe thead th {\n",
       "        text-align: right;\n",
       "    }\n",
       "</style>\n",
       "<table border=\"1\" class=\"dataframe\">\n",
       "  <thead>\n",
       "    <tr style=\"text-align: right;\">\n",
       "      <th></th>\n",
       "      <th>County Code</th>\n",
       "      <th>County Deaths per 100K</th>\n",
       "    </tr>\n",
       "  </thead>\n",
       "  <tbody>\n",
       "    <tr>\n",
       "      <th>0</th>\n",
       "      <td>39173</td>\n",
       "      <td>41.0</td>\n",
       "    </tr>\n",
       "    <tr>\n",
       "      <th>3</th>\n",
       "      <td>34017</td>\n",
       "      <td>222.0</td>\n",
       "    </tr>\n",
       "    <tr>\n",
       "      <th>4</th>\n",
       "      <td>51710</td>\n",
       "      <td>8.0</td>\n",
       "    </tr>\n",
       "    <tr>\n",
       "      <th>5</th>\n",
       "      <td>54107</td>\n",
       "      <td>4.0</td>\n",
       "    </tr>\n",
       "    <tr>\n",
       "      <th>7</th>\n",
       "      <td>48241</td>\n",
       "      <td>3.0</td>\n",
       "    </tr>\n",
       "    <tr>\n",
       "      <th>...</th>\n",
       "      <td>...</td>\n",
       "      <td>...</td>\n",
       "    </tr>\n",
       "    <tr>\n",
       "      <th>19318</th>\n",
       "      <td>41023</td>\n",
       "      <td>0.0</td>\n",
       "    </tr>\n",
       "    <tr>\n",
       "      <th>19326</th>\n",
       "      <td>40067</td>\n",
       "      <td>0.0</td>\n",
       "    </tr>\n",
       "    <tr>\n",
       "      <th>19333</th>\n",
       "      <td>54093</td>\n",
       "      <td>0.0</td>\n",
       "    </tr>\n",
       "    <tr>\n",
       "      <th>19337</th>\n",
       "      <td>37153</td>\n",
       "      <td>16.0</td>\n",
       "    </tr>\n",
       "    <tr>\n",
       "      <th>19348</th>\n",
       "      <td>48475</td>\n",
       "      <td>8.0</td>\n",
       "    </tr>\n",
       "  </tbody>\n",
       "</table>\n",
       "<p>2934 rows × 2 columns</p>\n",
       "</div>"
      ],
      "text/plain": [
       "       County Code  County Deaths per 100K\n",
       "0            39173                    41.0\n",
       "3            34017                   222.0\n",
       "4            51710                     8.0\n",
       "5            54107                     4.0\n",
       "7            48241                     3.0\n",
       "...            ...                     ...\n",
       "19318        41023                     0.0\n",
       "19326        40067                     0.0\n",
       "19333        54093                     0.0\n",
       "19337        37153                    16.0\n",
       "19348        48475                     8.0\n",
       "\n",
       "[2934 rows x 2 columns]"
      ]
     },
     "execution_count": 176,
     "metadata": {},
     "output_type": "execute_result"
    }
   ],
   "source": [
    "df[[\"County Code\",\"County Deaths per 100K\"]].drop_duplicates()"
   ]
  },
  {
   "cell_type": "code",
   "execution_count": 177,
   "metadata": {},
   "outputs": [
    {
     "data": {
      "text/html": [
       "<div>\n",
       "<style scoped>\n",
       "    .dataframe tbody tr th:only-of-type {\n",
       "        vertical-align: middle;\n",
       "    }\n",
       "\n",
       "    .dataframe tbody tr th {\n",
       "        vertical-align: top;\n",
       "    }\n",
       "\n",
       "    .dataframe thead th {\n",
       "        text-align: right;\n",
       "    }\n",
       "</style>\n",
       "<table border=\"1\" class=\"dataframe\">\n",
       "  <thead>\n",
       "    <tr style=\"text-align: right;\">\n",
       "      <th></th>\n",
       "      <th>County Code</th>\n",
       "      <th>County Deaths per 100K</th>\n",
       "      <th>Residents Total COVID-19 Deaths</th>\n",
       "    </tr>\n",
       "  </thead>\n",
       "  <tbody>\n",
       "    <tr>\n",
       "      <th>0</th>\n",
       "      <td>39173</td>\n",
       "      <td>41.0</td>\n",
       "      <td>31</td>\n",
       "    </tr>\n",
       "    <tr>\n",
       "      <th>1</th>\n",
       "      <td>34017</td>\n",
       "      <td>222.0</td>\n",
       "      <td>71</td>\n",
       "    </tr>\n",
       "    <tr>\n",
       "      <th>2</th>\n",
       "      <td>51710</td>\n",
       "      <td>8.0</td>\n",
       "      <td>6</td>\n",
       "    </tr>\n",
       "    <tr>\n",
       "      <th>3</th>\n",
       "      <td>54107</td>\n",
       "      <td>4.0</td>\n",
       "      <td>0</td>\n",
       "    </tr>\n",
       "    <tr>\n",
       "      <th>4</th>\n",
       "      <td>48241</td>\n",
       "      <td>3.0</td>\n",
       "      <td>1</td>\n",
       "    </tr>\n",
       "    <tr>\n",
       "      <th>...</th>\n",
       "      <td>...</td>\n",
       "      <td>...</td>\n",
       "      <td>...</td>\n",
       "    </tr>\n",
       "    <tr>\n",
       "      <th>2929</th>\n",
       "      <td>41023</td>\n",
       "      <td>0.0</td>\n",
       "      <td>0</td>\n",
       "    </tr>\n",
       "    <tr>\n",
       "      <th>2930</th>\n",
       "      <td>40067</td>\n",
       "      <td>0.0</td>\n",
       "      <td>0</td>\n",
       "    </tr>\n",
       "    <tr>\n",
       "      <th>2931</th>\n",
       "      <td>54093</td>\n",
       "      <td>0.0</td>\n",
       "      <td>0</td>\n",
       "    </tr>\n",
       "    <tr>\n",
       "      <th>2932</th>\n",
       "      <td>37153</td>\n",
       "      <td>16.0</td>\n",
       "      <td>0</td>\n",
       "    </tr>\n",
       "    <tr>\n",
       "      <th>2933</th>\n",
       "      <td>48475</td>\n",
       "      <td>8.0</td>\n",
       "      <td>0</td>\n",
       "    </tr>\n",
       "  </tbody>\n",
       "</table>\n",
       "<p>2934 rows × 3 columns</p>\n",
       "</div>"
      ],
      "text/plain": [
       "      County Code  County Deaths per 100K  Residents Total COVID-19 Deaths\n",
       "0           39173                    41.0                               31\n",
       "1           34017                   222.0                               71\n",
       "2           51710                     8.0                                6\n",
       "3           54107                     4.0                                0\n",
       "4           48241                     3.0                                1\n",
       "...           ...                     ...                              ...\n",
       "2929        41023                     0.0                                0\n",
       "2930        40067                     0.0                                0\n",
       "2931        54093                     0.0                                0\n",
       "2932        37153                    16.0                                0\n",
       "2933        48475                     8.0                                0\n",
       "\n",
       "[2934 rows x 3 columns]"
      ]
     },
     "execution_count": 177,
     "metadata": {},
     "output_type": "execute_result"
    }
   ],
   "source": [
    "df[[\"County Code\",\"County Deaths per 100K\"]].drop_duplicates().merge(temp,on=\"County Code\", how='inner')"
   ]
  },
  {
   "cell_type": "code",
   "execution_count": 178,
   "metadata": {},
   "outputs": [
    {
     "data": {
      "text/plain": [
       "<matplotlib.axes._subplots.AxesSubplot at 0x25703c82548>"
      ]
     },
     "execution_count": 178,
     "metadata": {},
     "output_type": "execute_result"
    },
    {
     "data": {
      "image/png": "[encoded data removed]",
      "text/plain": [
       "<Figure size 432x288 with 1 Axes>"
      ]
     },
     "metadata": {
      "needs_background": "light"
     },
     "output_type": "display_data"
    }
   ],
   "source": [
    "sns.lineplot(x=df['County Deaths per 100K'],y=df['Residents Total COVID-19 Deaths'])"
   ]
  },
  {
   "cell_type": "markdown",
   "metadata": {},
   "source": [
    "#### INFERENCE: The graph shows an obvious pattern when the County Deaths per 100K residents increases initially. Both increase in a direct manner. An unclear trend of falling and sudden rising of  Residents Deaths in NHs is seen at High County cases. This might be due to small number of observations and sample size or errors in the data."
   ]
  },
  {
   "cell_type": "code",
   "execution_count": null,
   "metadata": {},
   "outputs": [],
   "source": []
  },
  {
   "cell_type": "code",
   "execution_count": 179,
   "metadata": {},
   "outputs": [
    {
     "name": "stderr",
     "output_type": "stream",
     "text": [
      "[NbConvertApp] Converting notebook Project_version_2.ipynb to html\n",
      "[NbConvertApp] Writing 1308471 bytes to Project_version_2.html\n"
     ]
    }
   ],
   "source": [
    "!jupyter nbconvert --to html Project_version_2.ipynb"
   ]
  }
 ],
 "metadata": {
  "kernelspec": {
   "display_name": "Python 3",
   "language": "python",
   "name": "python3"
  },
  "language_info": {
   "codemirror_mode": {
    "name": "ipython",
    "version": 3
   },
   "file_extension": ".py",
   "mimetype": "text/x-python",
   "name": "python",
   "nbconvert_exporter": "python",
   "pygments_lexer": "ipython3",
   "version": "3.7.6"
  }
 },
 "nbformat": 4,
 "nbformat_minor": 4
}
